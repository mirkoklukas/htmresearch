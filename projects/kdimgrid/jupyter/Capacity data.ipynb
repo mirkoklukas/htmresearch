{
 "cells": [
  {
   "cell_type": "code",
   "execution_count": 21,
   "metadata": {},
   "outputs": [
    {
     "name": "stdout",
     "output_type": "stream",
     "text": [
      "The autoreload extension is already loaded. To reload it, use:\n",
      "  %reload_ext autoreload\n"
     ]
    }
   ],
   "source": [
    "import math\n",
    "import json\n",
    "import matplotlib.pyplot as plt\n",
    "%matplotlib inline\n",
    "\n",
    "import numpy as np\n",
    "import sys\n",
    "sys.path.append(\"../\")\n",
    "\n",
    "from unique_hypercube_size import *\n",
    "\n",
    "%load_ext autoreload\n",
    "%autoreload 2\n"
   ]
  },
  {
   "cell_type": "code",
   "execution_count": 22,
   "metadata": {},
   "outputs": [
    {
     "name": "stdout",
     "output_type": "stream",
     "text": [
      "[ 1.          1.41421356  2.          2.82842712  4.          5.65685425]\n"
     ]
    }
   ],
   "source": [
    "\"\"\"\n",
    "\n",
    "    Set up the parameters\n",
    "    \n",
    "\"\"\"\n",
    "\n",
    "num_trials = 20\n",
    "\n",
    "phase_resolution = 0.2\n",
    "\n",
    "\n",
    "m_max = 6\n",
    "k_max = 4\n",
    "\n",
    "ms     = range(1, m_max + 1)\n",
    "ks     = range(1, k_max + 1)\n",
    "scales = np.sqrt(2.)**np.arange(m_max)\n",
    "# scales = 1. + np.random.sample(m_max)*0.5 - 0.25\n",
    "\n",
    "\n",
    "print scales"
   ]
  },
  {
   "cell_type": "code",
   "execution_count": 23,
   "metadata": {},
   "outputs": [],
   "source": [
    "\"\"\"\n",
    "\n",
    "    Run the experiments and \n",
    "    collect the data:\n",
    "    \n",
    "        - width \n",
    "        - det(R)  \n",
    "        - volume of embedded unit cube\n",
    "    \n",
    "\"\"\"\n",
    "\n",
    "emb_vol = np.zeros((m_max, k_max, num_trials))\n",
    "width   = np.zeros((m_max, k_max, num_trials))\n",
    "det_R   = np.zeros((m_max, k_max, num_trials))\n",
    "\n",
    "for t in xrange(num_trials):\n",
    "    A, results = doRandomModuleExperiment(ms, ks, scales, phase_resolution)\n",
    "    \n",
    "    for (m,k), r in results.iteritems():\n",
    "        width[m-1,k-1, t] = r\n",
    "    \n",
    "    for m in ms:\n",
    "        for k in ks:\n",
    "            if 2*m >= k:\n",
    "                Q, R   = np.linalg.qr(A[:m,:,:k].reshape((2*m,k)))\n",
    "                \n",
    "                det_R[m-1,k-1,t] = np.absolute(np.linalg.det(R))\n",
    "                \n",
    "                vol_k     = det_R[m-1,k-1,t]\n",
    "                vol_fibre = phase_resolution**(2*m - k)\n",
    "                \n",
    "                emb_vol[m-1,k-1,t] = vol_k * vol_fibre\n",
    "\n",
    "    \n",
    "\n",
    "        \n",
    "\n",
    "\n"
   ]
  },
  {
   "cell_type": "code",
   "execution_count": 24,
   "metadata": {},
   "outputs": [],
   "source": [
    "\"\"\"\n",
    "\n",
    "    Compute the quantities derived\n",
    "    from data\n",
    "    \n",
    "\"\"\"\n",
    "\n",
    "\n",
    "\n",
    "mean_width   = np.zeros((m_max, k_max))\n",
    "vol          = np.zeros((m_max, k_max, num_trials))\n",
    "mean_vol     = np.zeros((m_max, k_max))\n",
    "mean_emb_vol = np.zeros((m_max, k_max))\n",
    "mean_det_R   = np.zeros((m_max, k_max))\n",
    "\n",
    "for m in ms:\n",
    "    for k in ks:\n",
    "        m_ = m - 1\n",
    "        k_ = k - 1\n",
    "        vol[m_,k_]          = width[m_,k_]**k\n",
    "        mean_width[m_,k_]   = np.mean(width[m_,k_])\n",
    "        mean_vol[m_,k_]     = np.mean(vol[m_,k_])\n",
    "        mean_emb_vol[m_,k_] = np.mean(emb_vol[m_,k_])\n",
    "        mean_det_R[m_,k_]   = np.mean(det_R[m_,k_])\n",
    "\n",
    "        "
   ]
  },
  {
   "cell_type": "code",
   "execution_count": 25,
   "metadata": {},
   "outputs": [],
   "source": [
    "\"\"\"\n",
    "    \n",
    "    Compute the volumes for the \n",
    "    modules-per-axis strategy\n",
    "    \n",
    "\"\"\"\n",
    "\n",
    "inferred_vol   = np.zeros((m_max,k_max))\n",
    "inferred_width = np.zeros((m_max,k_max))\n",
    "\n",
    "for m in ms:\n",
    "    m_ = m - 1\n",
    "    for k in ks:\n",
    "        k_  = k - 1\n",
    "        mx  = float(m)/float(k)\n",
    "        m0 = 2\n",
    "        m1 = 3\n",
    "        \n",
    "        assert mean_width[m0, 0]>0 and mean_width[m1, 0]>0, \\\n",
    "            \"The 1-d case might be missing\"\n",
    "            \n",
    "        r0 = mean_width[m0, 0]\n",
    "        r1 = mean_width[m1, 0]\n",
    "\n",
    "        offset = m0 + 1.\n",
    "        slope  = (np.log10(r1) - np.log10(r0))/(float(m1)-float(m0))\n",
    "        base   = np.log10(r0)\n",
    "        \n",
    "        rx = 10**(base + (mx - offset)*slope)\n",
    "        vx = rx**k\n",
    "        inferred_width[m_, k_] = rx\n",
    "        inferred_vol[m_,k_] = vx\n",
    "\n",
    "\n"
   ]
  },
  {
   "cell_type": "code",
   "execution_count": 26,
   "metadata": {},
   "outputs": [
    {
     "name": "stdout",
     "output_type": "stream",
     "text": [
      "../results/cap_data_m6_k4_t20_shuff_A__2018-08-30_12:57:28.p\n"
     ]
    }
   ],
   "source": [
    "\"\"\"\n",
    "    \n",
    "    Save the data\n",
    "    \n",
    "\"\"\"\n",
    "\n",
    "import datetime\n",
    "timestamp = datetime.datetime.fromtimestamp(time.time()).strftime('%Y-%m-%d_%H:%M:%S')\n",
    "\n",
    "\n",
    "exp_folder = \"../results\"\n",
    "exp_tag    = \"m{}_k{}_t{}_shuff_A__{}\".format(m_max, k_max, num_trials, timestamp)\n",
    "\n",
    "filename = \"{}/cap_data_{}.p\".format(exp_folder, exp_tag)\n",
    "\n",
    "print filename\n",
    "\n",
    "with open(filename,'wb') as f:\n",
    "    pickle.dump({\n",
    "        \"width\": width,\n",
    "        \"vol\": vol,\n",
    "        \"inferred_vol\": inferred_vol,\n",
    "        \"inferred_width\": inferred_width,\n",
    "        \"emb_vol\": emb_vol,\n",
    "        \"det_R\": det_R,\n",
    "        \"mean_width\": mean_width,\n",
    "        \"mean_vol\": mean_vol,\n",
    "        \"mean_emb_vol\": mean_emb_vol,\n",
    "        \"mean_det_R\": mean_det_R,\n",
    "        \"ms\": ms,\n",
    "        \"ks\": ks,\n",
    "        \"phase_resolution\": phase_resolution\n",
    "    }, f)"
   ]
  },
  {
   "cell_type": "markdown",
   "metadata": {},
   "source": []
  },
  {
   "cell_type": "code",
   "execution_count": 42,
   "metadata": {},
   "outputs": [],
   "source": []
  },
  {
   "cell_type": "code",
   "execution_count": null,
   "metadata": {},
   "outputs": [],
   "source": []
  },
  {
   "cell_type": "code",
   "execution_count": null,
   "metadata": {},
   "outputs": [],
   "source": []
  },
  {
   "cell_type": "code",
   "execution_count": null,
   "metadata": {
    "scrolled": false
   },
   "outputs": [],
   "source": []
  },
  {
   "cell_type": "code",
   "execution_count": null,
   "metadata": {},
   "outputs": [],
   "source": []
  },
  {
   "cell_type": "code",
   "execution_count": null,
   "metadata": {},
   "outputs": [],
   "source": []
  },
  {
   "cell_type": "code",
   "execution_count": null,
   "metadata": {},
   "outputs": [],
   "source": []
  },
  {
   "cell_type": "code",
   "execution_count": null,
   "metadata": {
    "scrolled": false
   },
   "outputs": [],
   "source": []
  },
  {
   "cell_type": "code",
   "execution_count": null,
   "metadata": {},
   "outputs": [],
   "source": []
  }
 ],
 "metadata": {
  "kernelspec": {
   "display_name": "Python 2",
   "language": "python",
   "name": "python2"
  },
  "language_info": {
   "codemirror_mode": {
    "name": "ipython",
    "version": 2
   },
   "file_extension": ".py",
   "mimetype": "text/x-python",
   "name": "python",
   "nbconvert_exporter": "python",
   "pygments_lexer": "ipython2",
   "version": "2.7.10"
  }
 },
 "nbformat": 4,
 "nbformat_minor": 2
}
