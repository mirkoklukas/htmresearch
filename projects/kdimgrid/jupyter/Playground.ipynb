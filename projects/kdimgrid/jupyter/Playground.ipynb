{
 "cells": [
  {
   "cell_type": "code",
   "execution_count": 122,
   "metadata": {},
   "outputs": [
    {
     "name": "stdout",
     "output_type": "stream",
     "text": [
      "1.34425031089\n",
      "(10000, 10000)\n"
     ]
    },
    {
     "data": {
      "image/png": "[encoded data removed]",
      "text/plain": [
       "<Figure size 432x288 with 1 Axes>"
      ]
     },
     "metadata": {},
     "output_type": "display_data"
    }
   ],
   "source": [
    "import numpy as np\n",
    "import matplotlib.pyplot as plt\n",
    "%matplotlib inline\n",
    "\n",
    "\n",
    "\n",
    "\n",
    "\n",
    "m = 2        \n",
    "k = 10000\n",
    "# v = np.zeros((2, 2*m))\n",
    "S = np.sqrt(2.)**np.arange(m)\n",
    "\n",
    "v = np.random.normal(size=(k,2*m))\n",
    "for i in range(m):\n",
    "    for j in range(k):\n",
    "        v[j, 2*i:2*i + 2] = S[i]*v[j, 2*i:2*i + 2]/np.linalg.norm(v[j, 2*i:2*i + 2])\n",
    "        \n",
    "        \n",
    "# plt.hist(np.absolute(np.dot(v, v.T)[0,1:]))\n",
    "plt.hist(np.dot(v, v.T)[0,1:])\n",
    "\n",
    "print np.mean(np.absolute(np.dot(v, v.T)[0,1:]))\n",
    "\n",
    "print np.dot(v, v.T).shape\n",
    "\n"
   ]
  },
  {
   "cell_type": "code",
   "execution_count": null,
   "metadata": {},
   "outputs": [],
   "source": []
  },
  {
   "cell_type": "code",
   "execution_count": null,
   "metadata": {},
   "outputs": [],
   "source": []
  }
 ],
 "metadata": {
  "kernelspec": {
   "display_name": "Python 2",
   "language": "python",
   "name": "python2"
  },
  "language_info": {
   "codemirror_mode": {
    "name": "ipython",
    "version": 2
   },
   "file_extension": ".py",
   "mimetype": "text/x-python",
   "name": "python",
   "nbconvert_exporter": "python",
   "pygments_lexer": "ipython2",
   "version": "2.7.10"
  }
 },
 "nbformat": 4,
 "nbformat_minor": 2
}
