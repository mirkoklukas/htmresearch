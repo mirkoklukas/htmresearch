{
 "cells": [
  {
   "cell_type": "code",
   "execution_count": 263,
   "metadata": {},
   "outputs": [
    {
     "name": "stdout",
     "output_type": "stream",
     "text": [
      "[  1.00000000e-01   0.00000000e+00  -2.44929360e-17]\n"
     ]
    },
    {
     "data": {
      "text/plain": [
       "<matplotlib.image.AxesImage at 0x124f98ad0>"
      ]
     },
     "execution_count": 263,
     "metadata": {},
     "output_type": "execute_result"
    },
    {
     "data": {
      "image/png": "[encoded data removed]",
      "text/plain": [
       "<Figure size 432x288 with 1 Axes>"
      ]
     },
     "metadata": {},
     "output_type": "display_data"
    }
   ],
   "source": [
    "import numpy as np\n",
    "import matplotlib.pyplot as plt\n",
    "%matplotlib inline\n",
    "\n",
    "\n",
    "\n",
    "from PIL import Image\n",
    "\n",
    "\n",
    "r = np.random.sample((3,512,512))*256\n",
    "rgbArray = np.zeros((512,512,3), 'uint8')\n",
    "rgbArray[:,:, 0] = r[0]\n",
    "rgbArray[:,:, 1] = r[1]\n",
    "rgbArray[:,:, 2] = r[2]\n",
    "img = Image.fromarray(rgbArray)\n",
    "img.save('myimg.jpeg')\n",
    "plt.imshow(img)\n",
    "\n",
    "\n",
    "\n",
    "n = 11\n",
    "rgb  = np.zeros((3,n,n),'uint8')\n",
    "\n",
    "xoff = 0.4\n",
    "yoff = 0.\n",
    "for i,x in enumerate(np.linspace(xoff,np.pi*2.+xoff, num=n)):\n",
    "    for j,y in enumerate(np.linspace(yoff,np.pi*2.+yoff, num=n)):\n",
    "        p = 0.8\n",
    "        q = 0.7\n",
    "        v = np.array([0., 0.5 + np.cos(x )*0.25,  0.6+ np.sin(x)*0.25])\n",
    "        w = np.array([.3 + np.cos(y )*0.2,0.,  0.+ np.sin(y)*0.15])\n",
    "        rgb[:,i,j] = (v + w*1.   )*256\n",
    "print z\n",
    "rgbArray = np.zeros((n,n,3), 'uint8')\n",
    "rgbArray[:,:, 0] = rgb[0]\n",
    "rgbArray[:,:, 1] = rgb[1]\n",
    "rgbArray[:,:, 2] = rgb[2]\n",
    "img = Image.fromarray(rgbArray)\n",
    "img.save('myimg.jpeg')\n",
    "plt.imshow(img)\n"
   ]
  },
  {
   "cell_type": "code",
   "execution_count": null,
   "metadata": {},
   "outputs": [],
   "source": []
  }
 ],
 "metadata": {
  "kernelspec": {
   "display_name": "Python 2",
   "language": "python",
   "name": "python2"
  },
  "language_info": {
   "codemirror_mode": {
    "name": "ipython",
    "version": 2
   },
   "file_extension": ".py",
   "mimetype": "text/x-python",
   "name": "python",
   "nbconvert_exporter": "python",
   "pygments_lexer": "ipython2",
   "version": "2.7.10"
  }
 },
 "nbformat": 4,
 "nbformat_minor": 2
}
