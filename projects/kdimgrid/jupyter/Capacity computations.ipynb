{
 "cells": [
  {
   "cell_type": "code",
   "execution_count": 1,
   "metadata": {},
   "outputs": [],
   "source": [
    "import math\n",
    "import json\n",
    "import matplotlib.pyplot as plt\n",
    "%matplotlib inline\n",
    "\n",
    "import numpy as np\n",
    "import sys\n",
    "sys.path.append(\"../\")\n",
    "\n",
    "from unique_hypercube_size import *\n",
    "\n",
    "%load_ext autoreload\n",
    "%autoreload 2\n"
   ]
  },
  {
   "cell_type": "code",
   "execution_count": 3,
   "metadata": {},
   "outputs": [
    {
     "name": "stdout",
     "output_type": "stream",
     "text": [
      "[1, 2, 3, 4, 5, 6]\n",
      "[1, 2, 3, 4, 5, 6]\n"
     ]
    }
   ],
   "source": [
    "\"\"\"\n",
    "\n",
    "    Set up the parameters\n",
    "    \n",
    "\"\"\"\n",
    "\n",
    "num_trials = 10\n",
    "phase_resolution = 0.2\n",
    "\n",
    "\n",
    "m_max = 6\n",
    "k_max = 6\n",
    "\n",
    "ms     = range(1, m_max + 1)\n",
    "ks     = range(1, k_max + 1)\n",
    "\n",
    "scales = np.sqrt(2.)**np.arange(m_max)\n",
    "\n",
    "\n",
    "print ms\n",
    "print ks"
   ]
  },
  {
   "cell_type": "code",
   "execution_count": 4,
   "metadata": {
    "scrolled": false
   },
   "outputs": [
    {
     "name": "stdout",
     "output_type": "stream",
     "text": [
      "Trial: 0\n",
      "Trial: 1\n",
      "Trial: 2\n",
      "Trial: 3\n",
      "Trial: 4\n",
      "Trial: 5\n",
      "Trial: 6\n",
      "Trial: 7\n",
      "Trial: 8\n",
      "Trial: 9\n"
     ]
    }
   ],
   "source": [
    "\"\"\"\n",
    "\n",
    "    Run the experiments and \n",
    "    collect the data:\n",
    "    \n",
    "        - width \n",
    "        - det(R)  \n",
    "        - volume of embedded unit cube\n",
    "    \n",
    "\"\"\"\n",
    "\n",
    "\n",
    "width   = np.zeros((m_max, k_max, num_trials))\n",
    "\n",
    "\n",
    "for t in xrange(num_trials):\n",
    "    \n",
    "    \n",
    "    print \"Trial: {}\".format(t)\n",
    "    \n",
    "    \n",
    "    _, results = doRandomModuleExperiment(ms, ks, scales, phase_resolution)\n",
    "    \n",
    "    for (m,k), r in results.iteritems():\n",
    "        width[m-1,k-1, t] = r\n",
    "    \n",
    "\n",
    "\n",
    "    \n",
    "\n"
   ]
  },
  {
   "cell_type": "code",
   "execution_count": 5,
   "metadata": {},
   "outputs": [],
   "source": [
    "\"\"\"\n",
    "\n",
    "    Compute the quantities derived\n",
    "    from data\n",
    "    \n",
    "\"\"\"\n",
    "\n",
    "\n",
    "\n",
    "mean_width   = np.mean(width, axis=2) \n",
    "\n",
    "\n",
    "\n",
    "\n",
    "        "
   ]
  },
  {
   "cell_type": "code",
   "execution_count": 6,
   "metadata": {},
   "outputs": [
    {
     "data": {
      "text/plain": [
       "'\\n    \\n    Compute the volumes for the \\n    modules-per-axis strategy\\n    \\n'"
      ]
     },
     "execution_count": 6,
     "metadata": {},
     "output_type": "execute_result"
    }
   ],
   "source": [
    "\"\"\"\n",
    "    \n",
    "    Compute the volumes for the \n",
    "    modules-per-axis strategy\n",
    "    \n",
    "\"\"\"\n",
    "\n",
    "\n",
    "\n"
   ]
  },
  {
   "cell_type": "code",
   "execution_count": 357,
   "metadata": {},
   "outputs": [
    {
     "name": "stdout",
     "output_type": "stream",
     "text": [
      "../results/temp.p\n"
     ]
    }
   ],
   "source": [
    "\"\"\"\n",
    "    \n",
    "    Save the data\n",
    "    \n",
    "\"\"\"\n",
    "\n",
    "import datetime\n",
    "timestamp = datetime.datetime.fromtimestamp(time.time()).strftime('%Y-%m-%d_%H:%M:%S')\n",
    "\n",
    "\n",
    "exp_folder = \"../results\"\n",
    "exp_tag    = \"m{}_k{}_t{}_shuff_A__{}\".format(m_max, k_max, num_trials, timestamp)\n",
    "\n",
    "# filename = \"{}/cap_data_{}.p\".format(exp_folder, exp_tag)\n",
    "filename = \"{}/temp.p\".format(exp_folder)\n",
    "\n",
    "print filename\n",
    "\n",
    "with open(filename,'wb') as f:\n",
    "    pickle.dump({\n",
    "        \"width\": width,\n",
    "        \"mean_width\": mean_width,\n",
    "        \"ms\": ms,\n",
    "        \"ks\": ks,\n",
    "        \"phase_resolution\": phase_resolution\n",
    "    }, f)"
   ]
  },
  {
   "cell_type": "markdown",
   "metadata": {},
   "source": []
  },
  {
   "cell_type": "code",
   "execution_count": 358,
   "metadata": {},
   "outputs": [
    {
     "name": "stdout",
     "output_type": "stream",
     "text": [
      "(6, 6)\n"
     ]
    }
   ],
   "source": [
    "print mean_width.shape"
   ]
  },
  {
   "cell_type": "code",
   "execution_count": 359,
   "metadata": {},
   "outputs": [
    {
     "name": "stdout",
     "output_type": "stream",
     "text": [
      "(6, 20)\n"
     ]
    }
   ],
   "source": [
    "a = np.zeros(k_max)\n",
    "b = np.zeros(k_max)\n",
    "\n",
    "# ind = [1,0,1,1,32,22,0,0,0,0,0,0]\n",
    "ind = np.zeros(k_max).astype(int)\n",
    "print width[:,0,:].shape\n",
    "for k in ks:\n",
    "    k_ = k - 1\n",
    "    res = np.polyfit(ms, np.log( mean_width[:,k_] ), deg=1)\n",
    "#     res = np.polyfit(ms, np.log( width[:,k_, ind[k_]] ), deg=1)\n",
    "    a[k_] = res[0]\n",
    "    b[k_] = res[1]\n",
    "    \n",
    "    \n",
    "    "
   ]
  },
  {
   "cell_type": "code",
   "execution_count": 363,
   "metadata": {},
   "outputs": [
    {
     "name": "stdout",
     "output_type": "stream",
     "text": [
      "(6, 6, 20)\n"
     ]
    },
    {
     "data": {
      "image/png": "[encoded data removed]",
      "text/plain": [
       "<Figure size 1036.8x252 with 6 Axes>"
      ]
     },
     "metadata": {},
     "output_type": "display_data"
    }
   ],
   "source": [
    "from io import BytesIO\n",
    "\n",
    "fig, ax = plt.subplots(1, k_max  , \n",
    "                       figsize=(0.8*3.*k_max, 0.7*5), \n",
    "                       sharey=True);\n",
    "# plt.suptitle(\"Max sidelength of cubic environment\", y=1.)\n",
    "plt.subplots_adjust(left=None, bottom=0.2, right=None, top=None,\n",
    "                wspace=None, hspace=None)\n",
    "\n",
    "\n",
    "print width.shape\n",
    "ax[0].set_ylabel(\"W (meters)\")\n",
    "ax[0].yaxis.label.set_fontsize(14)\n",
    "# for k in range(1,5):\n",
    "for k in ks:\n",
    "    i = k - 1 \n",
    "    k_ = k - 1\n",
    "    ax[i].set_title(\"N = {}\".format(k))\n",
    "    ax[i].title.set_fontsize(14)\n",
    "    ax[i].set_xticks(ms)\n",
    "    ax[i].set_xlabel(\"M\", fontsize=14)\n",
    "    ax[i].set_yscale(\"log\")\n",
    "    ax[i].spines['right'].set_visible(False)\n",
    "    ax[i].spines['top'].set_visible(False)\n",
    "    \n",
    "\n",
    "    \n",
    "    data_color = \"silver\"    \n",
    "    scale = 1.\n",
    "    for t in range(num_trials):\n",
    "        ax[k_].plot(ms, width[:,k_, t]*scale, \n",
    "                 c=data_color, \n",
    "                 linestyle=\"-\",\n",
    "                 linewidth=1)  \n",
    "\n",
    "\n",
    "    asym_ila =(1./phase_resolution)**(( 1.*(2.*np.array(ms))/float(k) - 1.))\n",
    "#     asym = np.exp(a[k_]*np.array(ms) + b[k_])\n",
    "#     a = 1.9*np.log(1./phase_resolution)\n",
    "#     b = np.log( 1./phase_resolution )\n",
    "#     asym = np.exp( a*np.array(ms)/float(k) - b     )\n",
    "#     print k_\n",
    "\n",
    "#     a_ = - .48 * float(k) + 2.5\n",
    "#     b_ = -0.3 * float(k) - 1.\n",
    "#     asym = np.exp(a_*np.array(ms) + b_)\n",
    "#     asym = np.exp(a[k_]*np.array(ms) + b[k_])\n",
    "    asym = np.exp(a[0]*np.array(ms)/float(k) + b[0])\n",
    "\n",
    "#     ax[k_].plot(ms, asym,  \n",
    "#              c=\"blue\",  \n",
    "#              markersize=6,\n",
    "#              linestyle=\"-\",\n",
    "#              linewidth=2, label=\"$(1/\\Delta)^{\\\\alpha (M/N - 1) }$\") \n",
    "    \n",
    "    \n",
    "    ax[k_].plot(ms, asym_ila,  \n",
    "             c=\"magenta\",  \n",
    "             markersize=6,\n",
    "             linestyle=\"--\",\n",
    "             linewidth=2, label=\"$(1/\\Delta)^{2M/N - 1 }$\") \n",
    "          \n",
    "    ax[k_].plot(ms, width[:,k_, ind[k_]]*scale, \n",
    "        c=\"black\", \n",
    "        marker=\".\", \n",
    "        markersize=9,\n",
    "         linestyle=\"-\",\n",
    "        markerfacecolor=\"white\",\n",
    "         linewidth=1,\n",
    "              label=\"Example trial\")  \n",
    "\n",
    "ax[-1].legend(fontsize=14, fancybox=True, shadow=True, bbox_to_anchor=(.6, .95))\n",
    "\n",
    "\n",
    "plt.savefig(\"cap_separate_sharey.png\", format=\"png\", dpi=300,     transparent=False)\n",
    "\n",
    "\n",
    "\n",
    "plt.show()"
   ]
  },
  {
   "cell_type": "raw",
   "metadata": {},
   "source": []
  },
  {
   "cell_type": "code",
   "execution_count": null,
   "metadata": {
    "scrolled": false
   },
   "outputs": [],
   "source": [
    "\n",
    "\n",
    "    \n",
    "\n",
    "\n",
    "\n",
    "\n",
    "fig, ax = plt.subplots(1, k_max  , \n",
    "                       figsize=(0.8*3.*k_max, 0.7*5), \n",
    "                       sharey=False);\n",
    "\n",
    "\n",
    "# ind = np.zeros(k_max).astype(int)\n",
    "ind = [1,0,1,1,32,22]\n",
    "\n",
    "\n",
    "for k in ks[:-3]:\n",
    "    k_ = k - 1\n",
    "    ax[k_].set_yscale(\"log\")\n",
    "\n",
    "    for t in range(num_trials):\n",
    "        ax[k_].plot(ms, width[:,k_, t]*scale, \n",
    "                 c=\"silver\", \n",
    "                 linestyle=\"-\",\n",
    "                 linewidth=1)  \n",
    "        \n",
    "#     ax[k_].plot(ms, width[:,k_,ind[k_]])\n",
    "    \n",
    "    \n",
    "#     ax[k_].plot(ms, np.exp(a[k_]*np.array(ms) + b[k_]), linestyle=\"-\")\n",
    "    ax[k_].plot(ms, np.exp(a[0]*np.array(ms)/float(k) + b[0]), linestyle=\"-\")\n",
    "    \n",
    "#     a_ = - .25 * 1/(float(k)) + 1.5\n",
    "#     b_ = - 1.\n",
    "#     print b_ - b[k_]\n",
    "#     ax[k_].plot(ms, np.exp(a_*np.array(ms) + b_), linestyle=\"--\", linewidth=2)\n",
    "plt.show()\n",
    "\n",
    "\n",
    "# plt.imshow(width[:,5,:])\n",
    "# plt.show()\n",
    "# plt.scatter(ks,np.exp(a))\n",
    "# plt.scatter(ks, np.array(ks))\n",
    "plt.scatter(ks,a)\n",
    "# plt.scatter(ks, -.25*(np.array(ks)-1.) + 1.5, marker=\"X\")\n",
    "# plt.scatter(ks, 1./(np.array(ks)**4) + 2, marker=\"X\")\n",
    "# plt.scatter(ks, -0.*np.array(ks) - 1.6, marker=\"X\")\n",
    "plt.scatter(ks, b)\n",
    "\n",
    "# asy = \n",
    "# plt.scatter(ks, np.array(ks) - m_max)"
   ]
  },
  {
   "cell_type": "code",
   "execution_count": null,
   "metadata": {},
   "outputs": [],
   "source": [
    "plt.yscale(\"log\")\n",
    "k_= 3\n",
    "\n",
    "\n",
    "for t in range(num_trials):\n",
    "        \n",
    "    plt.plot(ms, width[:,k_,t], c=\"silver\")\n",
    "#     plt.plot(ms, np.exp(a[k_]*np.array(ms) + b[k_]))\n",
    "\n",
    "plt.plot(ms, np.sum(width[:,k_,:], axis=1)/float(num_trials), c=\"C0\", linewidth=2)\n",
    "plt.plot(ms, np.mean(width[:,k_,:], axis=1), c=\"C1\", linewidth=2)\n",
    "plt.show()\n"
   ]
  },
  {
   "cell_type": "code",
   "execution_count": null,
   "metadata": {},
   "outputs": [],
   "source": []
  },
  {
   "cell_type": "code",
   "execution_count": null,
   "metadata": {},
   "outputs": [],
   "source": []
  },
  {
   "cell_type": "code",
   "execution_count": null,
   "metadata": {
    "scrolled": false
   },
   "outputs": [],
   "source": []
  },
  {
   "cell_type": "code",
   "execution_count": null,
   "metadata": {},
   "outputs": [],
   "source": []
  }
 ],
 "metadata": {
  "kernelspec": {
   "display_name": "Python 2",
   "language": "python",
   "name": "python2"
  },
  "language_info": {
   "codemirror_mode": {
    "name": "ipython",
    "version": 2
   },
   "file_extension": ".py",
   "mimetype": "text/x-python",
   "name": "python",
   "nbconvert_exporter": "python",
   "pygments_lexer": "ipython2",
   "version": "2.7.10"
  }
 },
 "nbformat": 4,
 "nbformat_minor": 2
}
