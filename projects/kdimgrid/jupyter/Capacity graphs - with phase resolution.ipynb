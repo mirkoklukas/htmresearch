{
 "cells": [
  {
   "cell_type": "code",
   "execution_count": 2,
   "metadata": {},
   "outputs": [],
   "source": [
    "import math\n",
    "import json\n",
    "import pickle\n",
    "import matplotlib.pyplot as plt\n",
    "%matplotlib inline\n",
    "\n",
    "import numpy as np\n",
    "import sys\n",
    "sys.path.append(\"../\")\n",
    "\n",
    "from unique_hypercube_size import *\n",
    "\n",
    "%load_ext autoreload\n",
    "%autoreload 2\n"
   ]
  },
  {
   "cell_type": "markdown",
   "metadata": {},
   "source": [
    "# Create a zoo of graphs\n",
    "\n",
    "Datasets:\n",
    "\n",
    "`../results/cap_data_m6_k4_t20___2018-08-15_14:50:36.p`\n",
    " - exponential scales, factor $1.4$\n",
    " - Random $A$, no constraints\n",
    " - **M**: $1 - 6$\n",
    " - **K**: $1 - 4$\n",
    " - **T**: $20$\n",
    " \n",
    "`../results/cap_data_m6_k4_t50___2018-08-15_15:08:06.p`\n",
    " - exponential scales, factor $1.4$\n",
    " - Random $A$, no constraints\n",
    " - **M**: $1 - 6$\n",
    " - **K**: $1 - 4$\n",
    " - **T**: $50$\n",
    " \n",
    " `../results/cap_data_m12_k6_t1_shuff_A__2018-09-06_14:16:59.p`\n",
    " - exponential scales, factor $1.4$\n",
    " - Random $A$, no constraints\n",
    " - **M**: $1 - 12$\n",
    " - **K**: $1 - 6$\n",
    " - **T**: $1$\n",
    " \n",
    " `../results/cap_data_m6_k4_t50_uni_scales__2018-08-29_16:16:57.p`\n",
    " - uniform scales around $1$\n",
    " - ...\n",
    " \n",
    "`../results/cap_data_m6_k4_t20_dec_A__2018-08-29_17:31:04.p`\n",
    " - exponential scales, factor $1.4$\n",
    " - \"decomposed\" A"
   ]
  },
  {
   "cell_type": "code",
   "execution_count": 3,
   "metadata": {},
   "outputs": [],
   "source": [
    "\"\"\"\n",
    "    \n",
    "    Load data if necessary\n",
    "    \n",
    "\"\"\"\n",
    "\n",
    "filename = \"../results/temp_phr.p\"\n",
    "# filename = \"../results/cap_data_m12_k6_t1_shuff_A__2018-09-06_14:16:59.p\" \n",
    "# filename = \"../results/cap_data_m6_k4_t20___2018-08-15_14:50:36.p\"\n",
    "# filename = \"../results/cap_data_m6_k4_t50___2018-08-15_15:08:06.p\"\n",
    "# filename=\"../results/cap_data_m6_k4_t20_dec_A__2018-08-29_17:31:04.p\"\n",
    "# filename=\"../results/cap_data_m6_k4_t50___2018-08-15_15:08:06.p\"\n",
    "\n",
    "with open(filename, 'r') as f:\n",
    "    data = pickle.load(f)\n",
    "\n",
    "    \n",
    "width          = data[\"width\"]\n",
    "vol            = data[\"vol\"]\n",
    "\n",
    "emb_vol        = data[\"emb_vol\"]\n",
    "det_R          = data[\"det_R\"] \n",
    "mean_width     = data[\"mean_width\"]\n",
    "mean_vol       = data[\"mean_vol\"]\n",
    "mean_emb_vol   = data[\"mean_emb_vol\"]\n",
    "mean_det_R     = data[\"mean_det_R\"]\n",
    "phr = np.array(data[\"phase_resolution\"])\n",
    "ms = data[\"ms\"]\n",
    "ks = data[\"ks\"]\n",
    "\n",
    "k_max = max(ks)\n",
    "m_max = max(ms)\n",
    "\n",
    "\n",
    "std_width   = np.std(width, axis=2)\n",
    "std_vol   = np.std(vol, axis=2)\n",
    "std_emb_vol = np.std(emb_vol, axis=2)\n",
    "std_det_R   = np.std(det_R, axis=2)\n"
   ]
  },
  {
   "cell_type": "markdown",
   "metadata": {},
   "source": [
    "# Maximum envorinment sizes\n",
    "\n",
    "- The units in the environment are measured with respect to the smallest scale, ie. the smallest scale corresponds to $1$ unit. \n",
    "- That means if we assume that the smallest scale is about $30$cm we have to multiply the computed width $w$ by $30$cm to get the environment width in cm.\n"
   ]
  },
  {
   "cell_type": "code",
   "execution_count": 4,
   "metadata": {},
   "outputs": [
    {
     "name": "stdout",
     "output_type": "stream",
     "text": [
      "[ 0.4   0.35  0.3   0.25  0.2   0.15  0.1   0.05]\n"
     ]
    }
   ],
   "source": [
    "print phr"
   ]
  },
  {
   "cell_type": "code",
   "execution_count": 48,
   "metadata": {},
   "outputs": [
    {
     "data": {
      "image/png": "[encoded data removed]",
      "text/plain": [
       "<Figure size 864x288 with 3 Axes>"
      ]
     },
     "metadata": {},
     "output_type": "display_data"
    }
   ],
   "source": [
    "\n",
    "\n",
    "\n",
    "\n",
    "fig, ax = plt.subplots(1, 3, \n",
    "                       figsize=(3.*k_max, 4), \n",
    "                       sharey=False);\n",
    "# plt.suptitle(\"Max sidelength of cubic environment\", y=1.)\n",
    "plt.subplots_adjust(left=None, bottom=0.2, right=None, top=None,\n",
    "                wspace=None, hspace=None)\n",
    "\n",
    "\n",
    "\n",
    "m=5\n",
    "\n",
    "\n",
    "\n",
    "ax[0].set_ylabel(\"W (meters)\")\n",
    "ax[0].yaxis.label.set_fontsize(20)\n",
    "for k in range(2,k_max+1):\n",
    "    i = k - 1 - 1\n",
    "    ax[i].set_title(\"N = {}\".format(k))\n",
    "    ax[i].title.set_fontsize(20)\n",
    "\n",
    "    ax[i].set_xlabel(\"$\\Delta$\")\n",
    "    ax[i].set_yscale(\"log\")\n",
    "#     ax[i].set_xticks(phr)\n",
    "    ax[i].set_xscale(\"log\")\n",
    "    ticks = [0.4, 0.2, 0.1, 0.05]\n",
    "    ax[i].set_xticks(ticks)\n",
    "    ax[i].set_xticklabels(ticks)\n",
    "\n",
    "    ax[i].spines['right'].set_visible(False)\n",
    "    ax[i].spines['top'].set_visible(False)\n",
    "    ax[i].xaxis.label.set_fontsize(20)\n",
    "    ax[i].set_xlim(phr[0]+0.01, phr[-1]-0.01)\n",
    "\n",
    "    \n",
    "    asym = (1./phr)**(1.6*m/float(k) - 1. )\n",
    "    ax[i].plot(phr, asym, \n",
    "             c=\"C1\", \n",
    "#              marker=\"s\", \n",
    "#              markeredgewidth=1,\n",
    "#              markersize=8,\n",
    "             linestyle=\"-\",\n",
    "             markeredgecolor=\"red\",\n",
    "             linewidth=1, label=\"$(1/\\Delta)^{M'/N - 1}$\") \n",
    "    \n",
    "    \n",
    "    mu = mean_width[:,m-1,k-1]\n",
    "    \n",
    "    ax[i].plot(phr, mu, \n",
    "             c=\"black\", \n",
    "#              marker=\"s\", \n",
    "#              markeredgewidth=1,\n",
    "#              markersize=8,\n",
    "             linestyle=\"-\",\n",
    "#              markeredgecolor=\"white\",\n",
    "             linewidth=1) \n",
    "    \n",
    "    valid = mu > 0.5\n",
    "    ax[i].plot(phr[valid], mu[valid], \n",
    "             c=\"black\", \n",
    "             marker=\"s\", \n",
    "#              markeredgewidth=1,\n",
    "#              markersize=8,\n",
    "             linestyle=\"None\",\n",
    "#              markeredgecolor=\"white\",\n",
    "             linewidth=1) \n",
    "    \n",
    "    ax[i].axhline(y=0.5, c=\"black\", linestyle=\"--\", linewidth=1.)\n",
    "    \n",
    "    invalid = mu <= 0.5\n",
    "    ax[i].plot(phr[invalid], mu[invalid], \n",
    "             c=\"white\", \n",
    "             marker=\"s\", \n",
    "             markeredgewidth=1,\n",
    "#              markersize=8,\n",
    "             linestyle=\"None\",\n",
    "             markeredgecolor=\"black\",\n",
    "             linewidth=1) \n",
    "    \n",
    "\n",
    "\n",
    "\n",
    "\n",
    "ax[-1].legend(fontsize=10, fancybox=True, shadow=True)\n",
    "# plt.show()\n",
    "plt.savefig(\"capacity_delta.tiff\", format=\"tiff\", dpi = 300)"
   ]
  },
  {
   "cell_type": "code",
   "execution_count": null,
   "metadata": {},
   "outputs": [],
   "source": []
  },
  {
   "cell_type": "code",
   "execution_count": null,
   "metadata": {},
   "outputs": [],
   "source": []
  },
  {
   "cell_type": "code",
   "execution_count": null,
   "metadata": {},
   "outputs": [],
   "source": []
  },
  {
   "cell_type": "code",
   "execution_count": null,
   "metadata": {},
   "outputs": [],
   "source": []
  },
  {
   "cell_type": "code",
   "execution_count": null,
   "metadata": {},
   "outputs": [],
   "source": []
  },
  {
   "cell_type": "markdown",
   "metadata": {},
   "source": [
    "# $k$-dimensional Volume of embedded unit cube\n",
    "\n",
    "- The volume is computed as $\\det(R)$, where $R$ is coming from a $QR$-decomposition of $A$, i.e. $A=QR$, with $Q\\in \\mathbb{R}^{2m \\times k}$ satisfying $Q^TQ = I$.\n",
    "- Think of the columns of $Q$ as an orthonormal basis of the image of $A$."
   ]
  },
  {
   "cell_type": "code",
   "execution_count": null,
   "metadata": {},
   "outputs": [],
   "source": []
  },
  {
   "cell_type": "markdown",
   "metadata": {},
   "source": [
    "# $(2m - k)$-dimensional Volume of fibre orthogonal to embedded cube\n",
    "\n",
    "- The volume of the normal fibre is computed as $\\rho^{2m - k},$ where $\\rho$ is the \"phase resolution\" (here $0.2$)"
   ]
  },
  {
   "cell_type": "code",
   "execution_count": null,
   "metadata": {},
   "outputs": [],
   "source": []
  },
  {
   "cell_type": "markdown",
   "metadata": {},
   "source": [
    "# $m$-dimensional Volume of thickened embedded unit cube\n",
    "\n",
    "- The volume is computed as $|\\det(R)| \\cdot \\rho^{2m -k }$."
   ]
  },
  {
   "cell_type": "code",
   "execution_count": null,
   "metadata": {},
   "outputs": [],
   "source": []
  },
  {
   "cell_type": "code",
   "execution_count": null,
   "metadata": {},
   "outputs": [],
   "source": []
  },
  {
   "cell_type": "markdown",
   "metadata": {},
   "source": [
    "# Capacity in dependence of sidelength"
   ]
  },
  {
   "cell_type": "code",
   "execution_count": null,
   "metadata": {
    "scrolled": false
   },
   "outputs": [],
   "source": []
  },
  {
   "cell_type": "code",
   "execution_count": null,
   "metadata": {},
   "outputs": [],
   "source": []
  },
  {
   "cell_type": "code",
   "execution_count": null,
   "metadata": {},
   "outputs": [],
   "source": []
  },
  {
   "cell_type": "code",
   "execution_count": null,
   "metadata": {},
   "outputs": [],
   "source": []
  },
  {
   "cell_type": "code",
   "execution_count": null,
   "metadata": {},
   "outputs": [],
   "source": []
  },
  {
   "cell_type": "code",
   "execution_count": null,
   "metadata": {},
   "outputs": [],
   "source": []
  },
  {
   "cell_type": "markdown",
   "metadata": {},
   "source": [
    "# Capacity in terms of number of environments"
   ]
  },
  {
   "cell_type": "code",
   "execution_count": null,
   "metadata": {},
   "outputs": [],
   "source": []
  },
  {
   "cell_type": "code",
   "execution_count": null,
   "metadata": {
    "scrolled": false
   },
   "outputs": [],
   "source": []
  },
  {
   "cell_type": "code",
   "execution_count": null,
   "metadata": {},
   "outputs": [],
   "source": []
  }
 ],
 "metadata": {
  "kernelspec": {
   "display_name": "Python 2",
   "language": "python",
   "name": "python2"
  },
  "language_info": {
   "codemirror_mode": {
    "name": "ipython",
    "version": 2
   },
   "file_extension": ".py",
   "mimetype": "text/x-python",
   "name": "python",
   "nbconvert_exporter": "python",
   "pygments_lexer": "ipython2",
   "version": "2.7.10"
  }
 },
 "nbformat": 4,
 "nbformat_minor": 2
}
