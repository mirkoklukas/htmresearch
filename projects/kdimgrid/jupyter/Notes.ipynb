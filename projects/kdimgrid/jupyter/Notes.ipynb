{
 "cells": [
  {
   "cell_type": "markdown",
   "metadata": {},
   "source": [
    "# Capacity of our encoding strategy\n",
    "\n",
    "In the present section we assess the capacity of the grid code for $k$-dimensional variables presented in the previous section. We do that by computing the maximum sidelength $w_{\\max}$ of a \n",
    "cubic environment that can be mapped one-to-one to the grid code space.\n",
    "Here we consider two grid codes to be equal if their phase differences is below a certain threshold, that\n",
    "we conservatively set to be $0.2$.\n",
    "\n",
    "\n",
    "\n"
   ]
  },
  {
   "cell_type": "code",
   "execution_count": null,
   "metadata": {},
   "outputs": [],
   "source": []
  }
 ],
 "metadata": {
  "kernelspec": {
   "display_name": "Python 2",
   "language": "python",
   "name": "python2"
  },
  "language_info": {
   "codemirror_mode": {
    "name": "ipython",
    "version": 2
   },
   "file_extension": ".py",
   "mimetype": "text/x-python",
   "name": "python",
   "nbconvert_exporter": "python",
   "pygments_lexer": "ipython2",
   "version": "2.7.10"
  }
 },
 "nbformat": 4,
 "nbformat_minor": 2
}
