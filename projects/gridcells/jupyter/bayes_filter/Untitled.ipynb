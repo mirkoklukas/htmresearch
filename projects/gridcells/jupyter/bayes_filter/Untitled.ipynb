{
 "cells": [
  {
   "cell_type": "code",
   "execution_count": 408,
   "metadata": {
    "scrolled": false
   },
   "outputs": [
    {
     "name": "stdout",
     "output_type": "stream",
     "text": [
      "The autoreload extension is already loaded. To reload it, use:\n",
      "  %reload_ext autoreload\n"
     ]
    },
    {
     "data": {
      "image/png": "[encoded data removed]",
      "text/plain": [
       "<Figure size 432x288 with 1 Axes>"
      ]
     },
     "metadata": {},
     "output_type": "display_data"
    },
    {
     "data": {
      "image/png": "[encoded data removed]",
      "text/plain": [
       "<Figure size 432x288 with 1 Axes>"
      ]
     },
     "metadata": {},
     "output_type": "display_data"
    },
    {
     "name": "stdout",
     "output_type": "stream",
     "text": [
      "(200,) (200, 200)\n"
     ]
    },
    {
     "data": {
      "image/png": "[encoded data removed]",
      "text/plain": [
       "<Figure size 432x288 with 1 Axes>"
      ]
     },
     "metadata": {},
     "output_type": "display_data"
    }
   ],
   "source": [
    "import numpy as np\n",
    "import matplotlib.pyplot as plt\n",
    "import tensorflow as tf\n",
    "%matplotlib inline\n",
    "%load_ext autoreload\n",
    "%autoreload 2\n",
    "\n",
    "\n",
    "\n",
    "def bump(n, x, w=10, wrap=True):\n",
    "    x = x%1.\n",
    "    v = np.zeros(n)\n",
    "    domain = np.linspace(-np.pi,np.pi, num=w)\n",
    "\n",
    "    if wrap:\n",
    "        mu = int(x*n)\n",
    "        v[np.arange(mu-w//2,mu+w//2)%n] += np.cos(domain)*0.5+ .5\n",
    "    else:\n",
    "        mu = int(x*(n-w - 1))\n",
    "        v[np.arange(mu,mu+w)] += np.cos(domain)*0.5+ .5\n",
    "    return v\n",
    "    \n",
    "def create_environment(n, k=1, w=10):\n",
    "    v = np.zeros(n)\n",
    "    x = np.linspace(-np.pi,np.pi, num=w)\n",
    "#     lms = np.random.choice(n, size=k, replace=False)\n",
    "    lms = np.random.sample(k)\n",
    "    \n",
    "    for l in lms:\n",
    "        lm = int(l*n)\n",
    "\n",
    "        v[np.arange(lm-w//2,lm+w//2)%n] += np.cos(x)*0.5+ .5\n",
    "        \n",
    "    np.clip(v, 0.,1., v)\n",
    "    \n",
    "    return v, lms\n",
    "\n",
    "# plt.plot(e)\n",
    "\n",
    "\n",
    "def random_walk(n, T, start=None):\n",
    "    X = np.zeros(T)\n",
    "    V = np.zeros(T)\n",
    "    \n",
    "    if start is None:\n",
    "        X[0] = np.random.sample()\n",
    "    else:\n",
    "        X[0] = start\n",
    "\n",
    "    v = 0.\n",
    "    a = 0.001\n",
    "    for t in range(1,T):\n",
    "        r = np.random.randn()\n",
    "        r = max(min(r, a), -a)\n",
    "        v = v + 2*r\n",
    "        v = max(min(0.04, v), -0.04)\n",
    "        X[t] = X[t-1] + v\n",
    "    \n",
    "    \n",
    "    V[:-1] = X[1:] - X[:-1]\n",
    "    return X, V\n",
    "\n",
    "def x_to_placecode(X, n, w):\n",
    "    T = X.shape[0]\n",
    "    C = np.zeros((T,n))\n",
    "    for t in range(T):\n",
    "        C[t] = bump(n,X[t], w)\n",
    "        \n",
    "    return C\n",
    "\n",
    "def at_landmark_signal(X, env):\n",
    "    return env[(n*(X%1.)).astype(int)].reshape((-1,1))\n",
    "\n",
    "n = 200\n",
    "h = 500\n",
    "w = 20\n",
    "T = 200\n",
    "\n",
    "\n",
    "e, lms = create_environment(n,4, w)\n",
    "X, V = random_walk(n,T=T, start=np.random.choice(lms))\n",
    "C = x_to_placecode(X,n,w)\n",
    "\n",
    "at_LM = at_landmark_signal(X,e)\n",
    "\n",
    "plt.imshow(C)\n",
    "plt.show()\n",
    "\n",
    "\n",
    "lm_input = at_LM*e\n",
    "plt.imshow(lm_input)\n",
    "plt.show()\n",
    "\n",
    "plt.scatter(np.arange(T), X%1., s=1. + at_LM*40., marker=\"o\")\n",
    "\n",
    "print V.shape, C.shape\n"
   ]
  },
  {
   "cell_type": "code",
   "execution_count": 449,
   "metadata": {},
   "outputs": [
    {
     "name": "stdout",
     "output_type": "stream",
     "text": [
      "RNN(\n",
      "  (rec): Linear(in_features=208, out_features=128, bias=True)\n",
      "  (dec): Linear(in_features=128, out_features=60, bias=True)\n",
      ")\n"
     ]
    }
   ],
   "source": [
    "import torch\n",
    "import torch.nn as nn\n",
    "import torch.nn.functional as F\n",
    "import time\n",
    "import math\n",
    "\n",
    "def timeSince(since):\n",
    "    now = time.time()\n",
    "    s = now - since\n",
    "    m = math.floor(s / 60)\n",
    "    s -= m * 60\n",
    "    return '%dm %ds' % (m, s)\n",
    "\n",
    "\n",
    "\n",
    "dtype = torch.float\n",
    "\n",
    "class RNN(nn.Module):\n",
    "    def __init__(self, input_size, hidden_size, output_size):\n",
    "        super(RNN, self).__init__()\n",
    "        self.hidden_size = hidden_size\n",
    "\n",
    "        self.rec = nn.Linear(input_size + hidden_size, hidden_size)\n",
    "        self.dec = nn.Linear(hidden_size, output_size)\n",
    "#         torch.nn.init.xavier_uniform(conv1.weight)\n",
    "        torch.nn.init.xavier_uniform_(self.rec.weight)\n",
    "        torch.nn.init.xavier_uniform_(self.dec.weight)\n",
    "        \n",
    "#         self.dropout = nn.Dropout(0.1)\n",
    "\n",
    "\n",
    "    def forward(self, X, hidden):\n",
    "\n",
    "        input_combined = torch.cat((X, hidden),1)\n",
    "        hidden = F.relu(self.rec(input_combined))\n",
    "        output = F.relu(self.dec(hidden))\n",
    "        return output, hidden\n",
    "\n",
    "    def initHidden(self):\n",
    "        return torch.zeros(1, self.hidden_size, dtype=dtype)\n",
    "\n",
    "\n",
    "n=60\n",
    "h=128\n",
    "T=100\n",
    "w=6\n",
    "\n",
    "rnn = RNN(input_size=n+20, hidden_size=h, output_size=n)\n",
    "    \n",
    "print rnn\n",
    "    \n",
    "criterion = nn.MSELoss(reduction='elementwise_mean')\n",
    "\n",
    "learning_rate = 0.001\n",
    "\n",
    "\n",
    "def train(input_line_tensor, target_line_tensor):\n",
    "    \n",
    "\n",
    "    \n",
    "    hidden = rnn.initHidden()\n",
    "\n",
    "    rnn.zero_grad()\n",
    "    loss = 0.\n",
    "\n",
    "\n",
    "    for i in range(input_line_tensor.size(0)):\n",
    "        x = input_line_tensor[[i]]\n",
    "        output, hidden = rnn(x, hidden)\n",
    "        l = criterion(output, target_line_tensor[[i]])\n",
    "        loss += l\n",
    "\n",
    "\n",
    "    loss.backward()\n",
    "\n",
    "    for p in rnn.parameters():\n",
    "        p.data.add_(-learning_rate, p.grad.data)\n",
    "\n",
    "    return output, loss.item() / input_line_tensor.size(0)\n",
    "\n"
   ]
  },
  {
   "cell_type": "code",
   "execution_count": 450,
   "metadata": {
    "scrolled": false
   },
   "outputs": [
    {
     "name": "stdout",
     "output_type": "stream",
     "text": [
      "0m 3s (100 0%) 0.0323\n",
      "0m 7s (200 0%) 0.0314\n",
      "0m 10s (300 0%) 0.0307\n",
      "0m 14s (400 0%) 0.0314\n",
      "0m 17s (500 0%) 0.0308\n",
      "0m 21s (600 0%) 0.0313\n",
      "0m 24s (700 0%) 0.0309\n",
      "0m 28s (800 0%) 0.0305\n",
      "0m 32s (900 0%) 0.0306\n",
      "0m 35s (1000 0%) 0.0309\n",
      "0m 39s (1100 0%) 0.0307\n",
      "0m 42s (1200 0%) 0.0310\n",
      "0m 46s (1300 0%) 0.0308\n",
      "0m 49s (1400 0%) 0.0299\n",
      "0m 53s (1500 0%) 0.0306\n",
      "0m 56s (1600 0%) 0.0311\n",
      "1m 0s (1700 0%) 0.0302\n",
      "1m 4s (1800 0%) 0.0308\n",
      "1m 7s (1900 0%) 0.0306\n",
      "1m 11s (2000 0%) 0.0307\n",
      "1m 14s (2100 0%) 0.0305\n",
      "1m 18s (2200 0%) 0.0311\n",
      "1m 21s (2300 0%) 0.0305\n",
      "1m 25s (2400 0%) 0.0308\n",
      "1m 28s (2500 0%) 0.0306\n",
      "1m 32s (2600 0%) 0.0298\n",
      "1m 36s (2700 0%) 0.0307\n",
      "1m 39s (2800 0%) 0.0306\n",
      "1m 43s (2900 0%) 0.0304\n",
      "1m 46s (3000 0%) 0.0310\n",
      "1m 50s (3100 0%) 0.0305\n",
      "1m 53s (3200 0%) 0.0308\n",
      "1m 57s (3300 0%) 0.0308\n",
      "2m 0s (3400 0%) 0.0302\n",
      "2m 4s (3500 0%) 0.0305\n",
      "2m 8s (3600 0%) 0.0305\n",
      "2m 11s (3700 0%) 0.0305\n",
      "2m 15s (3800 0%) 0.0305\n",
      "2m 18s (3900 0%) 0.0306\n",
      "2m 22s (4000 0%) 0.0306\n",
      "2m 25s (4100 0%) 0.0306\n",
      "2m 29s (4200 0%) 0.0303\n",
      "2m 32s (4300 0%) 0.0305\n",
      "2m 36s (4400 0%) 0.0298\n",
      "2m 39s (4500 0%) 0.0304\n",
      "2m 43s (4600 0%) 0.0299\n",
      "2m 47s (4700 0%) 0.0301\n",
      "2m 50s (4800 0%) 0.0305\n",
      "2m 54s (4900 0%) 0.0305\n",
      "2m 57s (5000 0%) 0.0300\n",
      "3m 1s (5100 0%) 0.0310\n",
      "3m 4s (5200 0%) 0.0293\n",
      "3m 8s (5300 0%) 0.0289\n",
      "3m 12s (5400 0%) 0.0302\n",
      "3m 15s (5500 0%) 0.0295\n",
      "3m 19s (5600 0%) 0.0300\n",
      "3m 22s (5700 0%) 0.0307\n",
      "3m 26s (5800 0%) 0.0299\n",
      "3m 29s (5900 0%) 0.0303\n",
      "3m 33s (6000 0%) 0.0301\n",
      "3m 36s (6100 0%) 0.0299\n",
      "3m 40s (6200 0%) 0.0304\n",
      "3m 43s (6300 0%) 0.0301\n",
      "3m 47s (6400 0%) 0.0295\n",
      "3m 50s (6500 0%) 0.0299\n",
      "3m 54s (6600 0%) 0.0296\n",
      "3m 58s (6700 0%) 0.0303\n",
      "4m 1s (6800 0%) 0.0304\n",
      "4m 5s (6900 0%) 0.0315\n",
      "4m 8s (7000 0%) 0.0299\n",
      "4m 12s (7100 0%) 0.0298\n",
      "4m 15s (7200 0%) 0.0298\n",
      "4m 19s (7300 0%) 0.0302\n",
      "4m 22s (7400 0%) 0.0304\n",
      "4m 26s (7500 0%) 0.0307\n",
      "4m 29s (7600 0%) 0.0299\n",
      "4m 33s (7700 0%) 0.0296\n",
      "4m 37s (7800 0%) 0.0306\n",
      "4m 40s (7900 0%) 0.0306\n",
      "4m 44s (8000 0%) 0.0299\n",
      "4m 47s (8100 0%) 0.0301\n",
      "4m 51s (8200 0%) 0.0291\n",
      "4m 54s (8300 0%) 0.0298\n",
      "4m 58s (8400 0%) 0.0289\n",
      "5m 1s (8500 0%) 0.0298\n",
      "5m 5s (8600 0%) 0.0303\n",
      "5m 9s (8700 0%) 0.0293\n",
      "5m 12s (8800 0%) 0.0303\n",
      "5m 16s (8900 0%) 0.0300\n",
      "5m 19s (9000 0%) 0.0303\n",
      "5m 23s (9100 0%) 0.0290\n",
      "5m 26s (9200 0%) 0.0301\n",
      "5m 30s (9300 0%) 0.0290\n",
      "5m 33s (9400 0%) 0.0299\n",
      "5m 37s (9500 0%) 0.0305\n",
      "5m 40s (9600 0%) 0.0294\n",
      "5m 44s (9700 0%) 0.0299\n",
      "5m 48s (9800 0%) 0.0301\n",
      "5m 51s (9900 0%) 0.0296\n",
      "5m 55s (10000 100%) 0.0296\n"
     ]
    }
   ],
   "source": [
    "\n",
    "\n",
    "\n",
    "e, lms = create_environment(n,4, w)\n",
    "X, V = random_walk(n,T=T)\n",
    "C = x_to_placecode(X,n,w)\n",
    "\n",
    "\n",
    "C = np.concatenate([C, V.reshape((-1,1))],axis=1)\n",
    "\n",
    "at_LM = at_landmark_signal(X,e)\n",
    "lm_input = at_LM*e\n",
    "\n",
    "\n",
    "\n",
    "\n",
    "\n",
    "n_iters = 10000\n",
    "print_every = 100\n",
    "plot_every = 1\n",
    "all_losses = []\n",
    "total_loss = 0 # Reset every plot_every iters\n",
    "\n",
    "start = time.time()\n",
    "\n",
    "for iter in range(1, n_iters + 1):\n",
    "\n",
    "    e, lms = create_environment(n,1, w)\n",
    "    Pos, V_ = random_walk(n,T=T, start=np.random.choice(lms))\n",
    "    PC = x_to_placecode(Pos,n,w)\n",
    "    V_ = (V_ + 0.01)/0.01\n",
    "    V = np.zeros((T,20))\n",
    "    for t in range(T):\n",
    "        V[t] =  bump(20, V_[t], w=6,wrap=False)\n",
    "\n",
    "    at_LM = at_landmark_signal(Pos,e)\n",
    "    lm_input = at_LM*e\n",
    "    \n",
    "    C = np.concatenate([V.reshape((-1,20)), lm_input],axis=1)\n",
    "    \n",
    "    \n",
    "    X = torch.from_numpy(C)\n",
    "    Y = torch.from_numpy(PC)\n",
    "    X= X.type(dtype)\n",
    "    Y= Y.type(dtype)\n",
    "    \n",
    "    output, loss = train(X, Y)\n",
    "    total_loss += loss\n",
    "\n",
    "    if iter % print_every == 0:\n",
    "        print('%s (%d %d%%) %.4f' % (timeSince(start), iter, iter / n_iters * 100, loss))\n",
    "\n",
    "    if iter % plot_every == 0:\n",
    "        all_losses.append(total_loss / plot_every)\n",
    "        total_loss = 0\n",
    "        \n",
    "        "
   ]
  },
  {
   "cell_type": "code",
   "execution_count": 415,
   "metadata": {},
   "outputs": [
    {
     "data": {
      "text/plain": [
       "[<matplotlib.lines.Line2D at 0x1262ef4d0>]"
      ]
     },
     "execution_count": 415,
     "metadata": {},
     "output_type": "execute_result"
    },
    {
     "data": {
      "image/png": "[encoded data removed]",
      "text/plain": [
       "<Figure size 432x288 with 1 Axes>"
      ]
     },
     "metadata": {},
     "output_type": "display_data"
    }
   ],
   "source": [
    "plt.plot(all_losses)"
   ]
  },
  {
   "cell_type": "code",
   "execution_count": 443,
   "metadata": {},
   "outputs": [
    {
     "ename": "RuntimeError",
     "evalue": "size mismatch, m1: [1 x 280], m2: [270 x 200] at /Users/soumith/miniconda2/conda-bld/pytorch_1532620281745/work/aten/src/TH/generic/THTensorMath.cpp:2070",
     "output_type": "error",
     "traceback": [
      "\u001b[0;31m---------------------------------------------------------------------------\u001b[0m",
      "\u001b[0;31mRuntimeError\u001b[0m                              Traceback (most recent call last)",
      "\u001b[0;32m<ipython-input-443-982fd874ba86>\u001b[0m in \u001b[0;36m<module>\u001b[0;34m()\u001b[0m\n\u001b[1;32m     23\u001b[0m \u001b[0;32mfor\u001b[0m \u001b[0mt\u001b[0m \u001b[0;32min\u001b[0m \u001b[0mrange\u001b[0m\u001b[0;34m(\u001b[0m\u001b[0mX\u001b[0m\u001b[0;34m.\u001b[0m\u001b[0msize\u001b[0m\u001b[0;34m(\u001b[0m\u001b[0;36m0\u001b[0m\u001b[0;34m)\u001b[0m\u001b[0;34m)\u001b[0m\u001b[0;34m:\u001b[0m\u001b[0;34m\u001b[0m\u001b[0m\n\u001b[1;32m     24\u001b[0m     \u001b[0mx\u001b[0m \u001b[0;34m=\u001b[0m \u001b[0mX\u001b[0m\u001b[0;34m[\u001b[0m\u001b[0;34m[\u001b[0m\u001b[0mt\u001b[0m\u001b[0;34m]\u001b[0m\u001b[0;34m]\u001b[0m\u001b[0;34m\u001b[0m\u001b[0m\n\u001b[0;32m---> 25\u001b[0;31m     \u001b[0moutput\u001b[0m\u001b[0;34m,\u001b[0m \u001b[0mhidden\u001b[0m \u001b[0;34m=\u001b[0m \u001b[0mrnn\u001b[0m\u001b[0;34m(\u001b[0m\u001b[0mx\u001b[0m\u001b[0;34m,\u001b[0m \u001b[0mhidden\u001b[0m\u001b[0;34m)\u001b[0m\u001b[0;34m\u001b[0m\u001b[0m\n\u001b[0m\u001b[1;32m     26\u001b[0m     \u001b[0mY\u001b[0m\u001b[0;34m[\u001b[0m\u001b[0mt\u001b[0m\u001b[0;34m]\u001b[0m \u001b[0;34m=\u001b[0m \u001b[0moutput\u001b[0m\u001b[0;34m\u001b[0m\u001b[0m\n",
      "\u001b[0;32m/Users/mklukas/anaconda2/lib/python2.7/site-packages/torch/nn/modules/module.pyc\u001b[0m in \u001b[0;36m__call__\u001b[0;34m(self, *input, **kwargs)\u001b[0m\n\u001b[1;32m    475\u001b[0m             \u001b[0mresult\u001b[0m \u001b[0;34m=\u001b[0m \u001b[0mself\u001b[0m\u001b[0;34m.\u001b[0m\u001b[0m_slow_forward\u001b[0m\u001b[0;34m(\u001b[0m\u001b[0;34m*\u001b[0m\u001b[0minput\u001b[0m\u001b[0;34m,\u001b[0m \u001b[0;34m**\u001b[0m\u001b[0mkwargs\u001b[0m\u001b[0;34m)\u001b[0m\u001b[0;34m\u001b[0m\u001b[0m\n\u001b[1;32m    476\u001b[0m         \u001b[0;32melse\u001b[0m\u001b[0;34m:\u001b[0m\u001b[0;34m\u001b[0m\u001b[0m\n\u001b[0;32m--> 477\u001b[0;31m             \u001b[0mresult\u001b[0m \u001b[0;34m=\u001b[0m \u001b[0mself\u001b[0m\u001b[0;34m.\u001b[0m\u001b[0mforward\u001b[0m\u001b[0;34m(\u001b[0m\u001b[0;34m*\u001b[0m\u001b[0minput\u001b[0m\u001b[0;34m,\u001b[0m \u001b[0;34m**\u001b[0m\u001b[0mkwargs\u001b[0m\u001b[0;34m)\u001b[0m\u001b[0;34m\u001b[0m\u001b[0m\n\u001b[0m\u001b[1;32m    478\u001b[0m         \u001b[0;32mfor\u001b[0m \u001b[0mhook\u001b[0m \u001b[0;32min\u001b[0m \u001b[0mself\u001b[0m\u001b[0;34m.\u001b[0m\u001b[0m_forward_hooks\u001b[0m\u001b[0;34m.\u001b[0m\u001b[0mvalues\u001b[0m\u001b[0;34m(\u001b[0m\u001b[0;34m)\u001b[0m\u001b[0;34m:\u001b[0m\u001b[0;34m\u001b[0m\u001b[0m\n\u001b[1;32m    479\u001b[0m             \u001b[0mhook_result\u001b[0m \u001b[0;34m=\u001b[0m \u001b[0mhook\u001b[0m\u001b[0;34m(\u001b[0m\u001b[0mself\u001b[0m\u001b[0;34m,\u001b[0m \u001b[0minput\u001b[0m\u001b[0;34m,\u001b[0m \u001b[0mresult\u001b[0m\u001b[0;34m)\u001b[0m\u001b[0;34m\u001b[0m\u001b[0m\n",
      "\u001b[0;32m<ipython-input-409-e58a2f8d3660>\u001b[0m in \u001b[0;36mforward\u001b[0;34m(self, X, hidden)\u001b[0m\n\u001b[1;32m     33\u001b[0m \u001b[0;34m\u001b[0m\u001b[0m\n\u001b[1;32m     34\u001b[0m         \u001b[0minput_combined\u001b[0m \u001b[0;34m=\u001b[0m \u001b[0mtorch\u001b[0m\u001b[0;34m.\u001b[0m\u001b[0mcat\u001b[0m\u001b[0;34m(\u001b[0m\u001b[0;34m(\u001b[0m\u001b[0mX\u001b[0m\u001b[0;34m,\u001b[0m \u001b[0mhidden\u001b[0m\u001b[0;34m)\u001b[0m\u001b[0;34m,\u001b[0m\u001b[0;36m1\u001b[0m\u001b[0;34m)\u001b[0m\u001b[0;34m\u001b[0m\u001b[0m\n\u001b[0;32m---> 35\u001b[0;31m         \u001b[0mhidden\u001b[0m \u001b[0;34m=\u001b[0m \u001b[0mF\u001b[0m\u001b[0;34m.\u001b[0m\u001b[0mrelu\u001b[0m\u001b[0;34m(\u001b[0m\u001b[0mself\u001b[0m\u001b[0;34m.\u001b[0m\u001b[0mrec\u001b[0m\u001b[0;34m(\u001b[0m\u001b[0minput_combined\u001b[0m\u001b[0;34m)\u001b[0m\u001b[0;34m)\u001b[0m\u001b[0;34m\u001b[0m\u001b[0m\n\u001b[0m\u001b[1;32m     36\u001b[0m         \u001b[0moutput\u001b[0m \u001b[0;34m=\u001b[0m \u001b[0mF\u001b[0m\u001b[0;34m.\u001b[0m\u001b[0mrelu\u001b[0m\u001b[0;34m(\u001b[0m\u001b[0mself\u001b[0m\u001b[0;34m.\u001b[0m\u001b[0mdec\u001b[0m\u001b[0;34m(\u001b[0m\u001b[0mhidden\u001b[0m\u001b[0;34m)\u001b[0m\u001b[0;34m)\u001b[0m\u001b[0;34m\u001b[0m\u001b[0m\n\u001b[1;32m     37\u001b[0m         \u001b[0;32mreturn\u001b[0m \u001b[0moutput\u001b[0m\u001b[0;34m,\u001b[0m \u001b[0mhidden\u001b[0m\u001b[0;34m\u001b[0m\u001b[0m\n",
      "\u001b[0;32m/Users/mklukas/anaconda2/lib/python2.7/site-packages/torch/nn/modules/module.pyc\u001b[0m in \u001b[0;36m__call__\u001b[0;34m(self, *input, **kwargs)\u001b[0m\n\u001b[1;32m    475\u001b[0m             \u001b[0mresult\u001b[0m \u001b[0;34m=\u001b[0m \u001b[0mself\u001b[0m\u001b[0;34m.\u001b[0m\u001b[0m_slow_forward\u001b[0m\u001b[0;34m(\u001b[0m\u001b[0;34m*\u001b[0m\u001b[0minput\u001b[0m\u001b[0;34m,\u001b[0m \u001b[0;34m**\u001b[0m\u001b[0mkwargs\u001b[0m\u001b[0;34m)\u001b[0m\u001b[0;34m\u001b[0m\u001b[0m\n\u001b[1;32m    476\u001b[0m         \u001b[0;32melse\u001b[0m\u001b[0;34m:\u001b[0m\u001b[0;34m\u001b[0m\u001b[0m\n\u001b[0;32m--> 477\u001b[0;31m             \u001b[0mresult\u001b[0m \u001b[0;34m=\u001b[0m \u001b[0mself\u001b[0m\u001b[0;34m.\u001b[0m\u001b[0mforward\u001b[0m\u001b[0;34m(\u001b[0m\u001b[0;34m*\u001b[0m\u001b[0minput\u001b[0m\u001b[0;34m,\u001b[0m \u001b[0;34m**\u001b[0m\u001b[0mkwargs\u001b[0m\u001b[0;34m)\u001b[0m\u001b[0;34m\u001b[0m\u001b[0m\n\u001b[0m\u001b[1;32m    478\u001b[0m         \u001b[0;32mfor\u001b[0m \u001b[0mhook\u001b[0m \u001b[0;32min\u001b[0m \u001b[0mself\u001b[0m\u001b[0;34m.\u001b[0m\u001b[0m_forward_hooks\u001b[0m\u001b[0;34m.\u001b[0m\u001b[0mvalues\u001b[0m\u001b[0;34m(\u001b[0m\u001b[0;34m)\u001b[0m\u001b[0;34m:\u001b[0m\u001b[0;34m\u001b[0m\u001b[0m\n\u001b[1;32m    479\u001b[0m             \u001b[0mhook_result\u001b[0m \u001b[0;34m=\u001b[0m \u001b[0mhook\u001b[0m\u001b[0;34m(\u001b[0m\u001b[0mself\u001b[0m\u001b[0;34m,\u001b[0m \u001b[0minput\u001b[0m\u001b[0;34m,\u001b[0m \u001b[0mresult\u001b[0m\u001b[0;34m)\u001b[0m\u001b[0;34m\u001b[0m\u001b[0m\n",
      "\u001b[0;32m/Users/mklukas/anaconda2/lib/python2.7/site-packages/torch/nn/modules/linear.pyc\u001b[0m in \u001b[0;36mforward\u001b[0;34m(self, input)\u001b[0m\n\u001b[1;32m     53\u001b[0m \u001b[0;34m\u001b[0m\u001b[0m\n\u001b[1;32m     54\u001b[0m     \u001b[0;32mdef\u001b[0m \u001b[0mforward\u001b[0m\u001b[0;34m(\u001b[0m\u001b[0mself\u001b[0m\u001b[0;34m,\u001b[0m \u001b[0minput\u001b[0m\u001b[0;34m)\u001b[0m\u001b[0;34m:\u001b[0m\u001b[0;34m\u001b[0m\u001b[0m\n\u001b[0;32m---> 55\u001b[0;31m         \u001b[0;32mreturn\u001b[0m \u001b[0mF\u001b[0m\u001b[0;34m.\u001b[0m\u001b[0mlinear\u001b[0m\u001b[0;34m(\u001b[0m\u001b[0minput\u001b[0m\u001b[0;34m,\u001b[0m \u001b[0mself\u001b[0m\u001b[0;34m.\u001b[0m\u001b[0mweight\u001b[0m\u001b[0;34m,\u001b[0m \u001b[0mself\u001b[0m\u001b[0;34m.\u001b[0m\u001b[0mbias\u001b[0m\u001b[0;34m)\u001b[0m\u001b[0;34m\u001b[0m\u001b[0m\n\u001b[0m\u001b[1;32m     56\u001b[0m \u001b[0;34m\u001b[0m\u001b[0m\n\u001b[1;32m     57\u001b[0m     \u001b[0;32mdef\u001b[0m \u001b[0mextra_repr\u001b[0m\u001b[0;34m(\u001b[0m\u001b[0mself\u001b[0m\u001b[0;34m)\u001b[0m\u001b[0;34m:\u001b[0m\u001b[0;34m\u001b[0m\u001b[0m\n",
      "\u001b[0;32m/Users/mklukas/anaconda2/lib/python2.7/site-packages/torch/nn/functional.pyc\u001b[0m in \u001b[0;36mlinear\u001b[0;34m(input, weight, bias)\u001b[0m\n\u001b[1;32m   1022\u001b[0m     \u001b[0;32mif\u001b[0m \u001b[0minput\u001b[0m\u001b[0;34m.\u001b[0m\u001b[0mdim\u001b[0m\u001b[0;34m(\u001b[0m\u001b[0;34m)\u001b[0m \u001b[0;34m==\u001b[0m \u001b[0;36m2\u001b[0m \u001b[0;32mand\u001b[0m \u001b[0mbias\u001b[0m \u001b[0;32mis\u001b[0m \u001b[0;32mnot\u001b[0m \u001b[0mNone\u001b[0m\u001b[0;34m:\u001b[0m\u001b[0;34m\u001b[0m\u001b[0m\n\u001b[1;32m   1023\u001b[0m         \u001b[0;31m# fused op is marginally faster\u001b[0m\u001b[0;34m\u001b[0m\u001b[0;34m\u001b[0m\u001b[0m\n\u001b[0;32m-> 1024\u001b[0;31m         \u001b[0;32mreturn\u001b[0m \u001b[0mtorch\u001b[0m\u001b[0;34m.\u001b[0m\u001b[0maddmm\u001b[0m\u001b[0;34m(\u001b[0m\u001b[0mbias\u001b[0m\u001b[0;34m,\u001b[0m \u001b[0minput\u001b[0m\u001b[0;34m,\u001b[0m \u001b[0mweight\u001b[0m\u001b[0;34m.\u001b[0m\u001b[0mt\u001b[0m\u001b[0;34m(\u001b[0m\u001b[0;34m)\u001b[0m\u001b[0;34m)\u001b[0m\u001b[0;34m\u001b[0m\u001b[0m\n\u001b[0m\u001b[1;32m   1025\u001b[0m \u001b[0;34m\u001b[0m\u001b[0m\n\u001b[1;32m   1026\u001b[0m     \u001b[0moutput\u001b[0m \u001b[0;34m=\u001b[0m \u001b[0minput\u001b[0m\u001b[0;34m.\u001b[0m\u001b[0mmatmul\u001b[0m\u001b[0;34m(\u001b[0m\u001b[0mweight\u001b[0m\u001b[0;34m.\u001b[0m\u001b[0mt\u001b[0m\u001b[0;34m(\u001b[0m\u001b[0;34m)\u001b[0m\u001b[0;34m)\u001b[0m\u001b[0;34m\u001b[0m\u001b[0m\n",
      "\u001b[0;31mRuntimeError\u001b[0m: size mismatch, m1: [1 x 280], m2: [270 x 200] at /Users/soumith/miniconda2/conda-bld/pytorch_1532620281745/work/aten/src/TH/generic/THTensorMath.cpp:2070"
     ]
    }
   ],
   "source": [
    "e, lms = create_environment(n,1, w)\n",
    "Pos, V_ = random_walk(n,T=T, start=np.random.choice(lms))\n",
    "PC = x_to_placecode(Pos,n,w)\n",
    "\n",
    "V_ = (V_ + 0.01)/0.01\n",
    "V = np.zeros((T,20))\n",
    "for t in range(T):\n",
    "    V[t] =  bump(20, V_[t], w=6, wrap=False)\n",
    "\n",
    "at_LM = at_landmark_signal(Pos,e)\n",
    "lm_input = at_LM*e\n",
    "\n",
    "C = np.concatenate([V.reshape((-1,20)), lm_input],axis=1)\n",
    "X = torch.from_numpy(C)\n",
    "Y = torch.from_numpy(lm_input)\n",
    "X= X.type(dtype)\n",
    "Y= Y.type(dtype)\n",
    "\n",
    "    \n",
    "hidden = rnn.initHidden()\n",
    "\n",
    "rnn.zero_grad()\n",
    "for t in range(X.size(0)):\n",
    "    x = X[[t]]\n",
    "    output, hidden = rnn(x, hidden)\n",
    "    Y[t] = output"
   ]
  },
  {
   "cell_type": "code",
   "execution_count": 444,
   "metadata": {},
   "outputs": [
    {
     "data": {
      "image/png": "[encoded data removed]",
      "text/plain": [
       "<Figure size 432x288 with 1 Axes>"
      ]
     },
     "metadata": {},
     "output_type": "display_data"
    },
    {
     "data": {
      "image/png": "[encoded data removed]",
      "text/plain": [
       "<Figure size 432x288 with 1 Axes>"
      ]
     },
     "metadata": {},
     "output_type": "display_data"
    },
    {
     "data": {
      "image/png": "[encoded data removed]",
      "text/plain": [
       "<Figure size 432x288 with 1 Axes>"
      ]
     },
     "metadata": {},
     "output_type": "display_data"
    },
    {
     "data": {
      "text/plain": [
       "<matplotlib.image.AxesImage at 0x12857a0d0>"
      ]
     },
     "execution_count": 444,
     "metadata": {},
     "output_type": "execute_result"
    },
    {
     "data": {
      "image/png": "[encoded data removed]",
      "text/plain": [
       "<Figure size 432x288 with 1 Axes>"
      ]
     },
     "metadata": {},
     "output_type": "display_data"
    }
   ],
   "source": [
    "\n",
    "plt.scatter(np.arange(T), Pos%1., s=1. + at_LM*40., marker=\"o\")\n",
    "# plt.scatter(np.arange(T), V_, s=1. + at_LM*40., marker=\"o\")\n",
    "plt.show()\n",
    "\n",
    "plt.show()\n",
    "plt.imshow( X.detach().numpy()[:,:20].T)\n",
    "plt.show()\n",
    "plt.imshow( X.detach().numpy() )\n",
    "plt.show()\n",
    "plt.imshow(Y.detach().numpy())"
   ]
  },
  {
   "cell_type": "code",
   "execution_count": null,
   "metadata": {},
   "outputs": [],
   "source": []
  },
  {
   "cell_type": "code",
   "execution_count": null,
   "metadata": {},
   "outputs": [],
   "source": []
  }
 ],
 "metadata": {
  "kernelspec": {
   "display_name": "Python 2",
   "language": "python",
   "name": "python2"
  },
  "language_info": {
   "codemirror_mode": {
    "name": "ipython",
    "version": 2
   },
   "file_extension": ".py",
   "mimetype": "text/x-python",
   "name": "python",
   "nbconvert_exporter": "python",
   "pygments_lexer": "ipython2",
   "version": "2.7.13"
  }
 },
 "nbformat": 4,
 "nbformat_minor": 2
}
