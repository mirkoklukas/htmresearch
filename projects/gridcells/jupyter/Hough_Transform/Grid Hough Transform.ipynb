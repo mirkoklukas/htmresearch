{
 "cells": [
  {
   "cell_type": "markdown",
   "metadata": {},
   "source": [
    "# Hough transform with grids "
   ]
  },
  {
   "cell_type": "code",
   "execution_count": 211,
   "metadata": {
    "scrolled": false
   },
   "outputs": [
    {
     "name": "stdout",
     "output_type": "stream",
     "text": [
      "The autoreload extension is already loaded. To reload it, use:\n",
      "  %reload_ext autoreload\n"
     ]
    },
    {
     "data": {
      "image/png": "[encoded data removed]",
      "text/plain": [
       "<Figure size 864x144 with 6 Axes>"
      ]
     },
     "metadata": {},
     "output_type": "display_data"
    }
   ],
   "source": [
    "import numpy as np\n",
    "import matplotlib.pyplot as plt\n",
    "%matplotlib inline\n",
    "from htmresearch.support.gridcells.mdist.utils import *\n",
    "%load_ext autoreload\n",
    "%autoreload 2\n",
    "\n",
    "\n",
    "m = 6\n",
    "# S = np.ones(m)*20.\n",
    "# S = np.random.normal(1.,.1, size=m)\n",
    "S = np.sqrt(2)**np.arange(m)\n",
    "k = 2\n",
    "B, V, S = create_kd_hyper_module(m, k, scale=S)\n",
    "# V = np.zeros((m,2))\n",
    "A = create_action_tensor(B)\n",
    "\n",
    "\n",
    "        \n",
    "fig, ax = plt.subplots(1, m, figsize=(2*m, 2));\n",
    "plt.suptitle(\"Gridorientations (rescaled)\")\n",
    "plt.subplots_adjust(left=None, bottom=None, right=None, top=None,\n",
    "                wspace=None, hspace=None)\n",
    "\n",
    "for i in range(m):\n",
    "    ax[i].set_xlim(-2,2)\n",
    "    ax[i].set_ylim(-2,2)\n",
    "    ax[i].set_xticks([])\n",
    "    ax[i].set_yticks([])\n",
    "\n",
    "    r1 = B[i,0,:] / S[i]\n",
    "    r2 = B[i,1,:] / S[i]\n",
    "\n",
    "    ax[i].quiver(0.0,0.0,r1[:2],r2[:2], angles='xy', scale_units='xy', scale=1)\n",
    "\n",
    "\n",
    "\n",
    "\n",
    "num_o  = 10\n",
    "num_fo = 10\n",
    "num_f  = 1\n",
    "\n",
    "\n",
    "Objects  = (np.random.sample((num_o, num_fo, 2))-0.5)*50.\n",
    "Features = np.random.randint(num_f, size=(num_o, num_fo)) \n",
    "\n",
    "\n",
    "# Creating object codes randomly anchored\n",
    "# within the hypertorus\n",
    "# R = np.random.sample((num_o, 2))*30.\n",
    "# Anchors = pipe_through_tensor(A, R).reshape((num_o, 1, m, 2))\n",
    "Anchors      = np.random.sample((num_o, 1, m, 2))\n",
    "Object_codes = np.zeros((num_o, num_fo, m, 2))\n",
    "for o in range(num_o):        \n",
    "        Object_codes[o] = map_to_hypertorus(B, V, Objects[o])\n",
    "\n",
    "Object_codes += Anchors\n",
    "Object_codes %= 1.0\n",
    "\n",
    "\n",
    "Pinned_phases = []\n",
    "for i in range(num_f):\n",
    "    Pinned_phases.append([])\n",
    "\n",
    "\n",
    "\n",
    "for i in range(num_o):  \n",
    "    for j in range(num_fo):\n",
    "        f = Features[i,j]\n",
    "        code = Object_codes[i,j][:,:]\n",
    "        Pinned_phases[f].append(code)\n",
    "\n",
    "\n",
    "for i in range(num_f):\n",
    "    Pinned_phases[i] = np.array(Pinned_phases[i])\n",
    "        \n",
    "    \n",
    "    \n",
    "def evolve(Delta, object_id):\n",
    "    \n",
    "    \n",
    "    f = Features[object_id, 0]\n",
    "    Q = Pinned_phases[f]\n",
    "    \n",
    "    \n",
    "    p = np.random.sample((1, m, 2))\n",
    "    P = np.repeat(p, Q.shape[0], axis=0)\n",
    "    \n",
    "    G = geod_on_hypertorus(P, Q)\n",
    "\n",
    "    force = np.mean(G, axis=0)\n",
    "    p = apply_velocity(p, force)\n",
    "\n",
    "\n",
    "    for i in range(1, num_fo):\n",
    "#     for i in range(1, 5):\n",
    "        phase_vel = pipe_through_tensor(A, Delta[[i-1]])\n",
    "        p = apply_velocity(p, phase_vel)\n",
    "\n",
    "        f = Features[oid, i]\n",
    "        Q = Pinned_phases[f]\n",
    "\n",
    "        P = np.repeat(p, Q.shape[0], axis=0)\n",
    "\n",
    "        G = geod_on_hypertorus(P,Q)\n",
    "\n",
    "        force = np.mean(G, axis=0)\n",
    "        p = apply_velocity(p, force)\n",
    "\n",
    "    P = np.repeat(p, num_o, axis=0)\n",
    "\n",
    "    Q = Object_codes[:,i,:,:]\n",
    "#     Q = Anchors[:,0,:,:]\n",
    "    ds = M_dist(P, Q)\n",
    "#     ds = M_dist_comp(P, Q, S=S)[:,0]\n",
    "\n",
    "    \n",
    "    success = (object_id == np.argmin(ds))\n",
    "    return success, ds"
   ]
  },
  {
   "cell_type": "code",
   "execution_count": null,
   "metadata": {},
   "outputs": [],
   "source": []
  },
  {
   "cell_type": "code",
   "execution_count": 212,
   "metadata": {},
   "outputs": [
    {
     "data": {
      "image/png": "[encoded data removed]",
      "text/plain": [
       "<Figure size 864x144 with 6 Axes>"
      ]
     },
     "metadata": {},
     "output_type": "display_data"
    }
   ],
   "source": [
    "fig, ax = plt.subplots(1, m, figsize=(2*m, 2));\n",
    "\n",
    "p = Object_codes[0]\n",
    "q = Object_codes[1]\n",
    "\n",
    "for i in range(m):\n",
    "    ax[i].set_xlim(0,1)\n",
    "    ax[i].set_ylim(0,1)\n",
    "\n",
    "    ax[i].set_xticks([])\n",
    "    ax[i].set_yticks([])\n",
    "\n",
    "    for j in range(2):\n",
    "        p = Object_codes[j]\n",
    "        ax[i].scatter(p[:,i,0],p[:,i,1], edgecolor='white', s= 180.)\n",
    "#     ax[i].scatter(q[:,i,0],q[:,i,1],   edgecolor='white', s= 180.)\n",
    "\n",
    "    ax[i].set_title(\"Module {}\".format(i))\n",
    "\n",
    "plt.show()"
   ]
  },
  {
   "cell_type": "code",
   "execution_count": null,
   "metadata": {},
   "outputs": [],
   "source": []
  },
  {
   "cell_type": "code",
   "execution_count": 213,
   "metadata": {},
   "outputs": [
    {
     "name": "stdout",
     "output_type": "stream",
     "text": [
      "Pure chance: 10.0\n",
      "Grid model: 20.0\n"
     ]
    }
   ],
   "source": [
    "num_runs = 50\n",
    "results = []\n",
    "\n",
    "oid = 0 \n",
    "Delta = Objects[oid, 1:,:] - Objects[oid, :-1,:]\n",
    "\n",
    "ds = np.zeros((num_runs, num_o))\n",
    "results = np.zeros(num_runs)\n",
    "for i in range(num_runs):\n",
    "    success, dist = evolve(Delta, oid)\n",
    "    ds[i] = dist\n",
    "    results[i] = success*1.0\n",
    "\n",
    "print \"Pure chance:\", 100.0/num_o\n",
    "print \"Grid model:\", sum(results)*100.0/num_runs\n",
    "\n",
    "# plt.imshow(ds)\n"
   ]
  },
  {
   "cell_type": "code",
   "execution_count": 214,
   "metadata": {
    "scrolled": false
   },
   "outputs": [
    {
     "name": "stdout",
     "output_type": "stream",
     "text": [
      "(50, 10)\n"
     ]
    },
    {
     "data": {
      "image/png": "[encoded data removed]",
      "text/plain": [
       "<Figure size 432x288 with 1 Axes>"
      ]
     },
     "metadata": {},
     "output_type": "display_data"
    }
   ],
   "source": [
    "print ds.shape\n",
    "plt.hist(ds[:,0]);\n"
   ]
  },
  {
   "cell_type": "code",
   "execution_count": null,
   "metadata": {},
   "outputs": [],
   "source": []
  },
  {
   "cell_type": "code",
   "execution_count": null,
   "metadata": {},
   "outputs": [],
   "source": []
  },
  {
   "cell_type": "code",
   "execution_count": null,
   "metadata": {},
   "outputs": [],
   "source": []
  }
 ],
 "metadata": {
  "kernelspec": {
   "display_name": "Python 2",
   "language": "python",
   "name": "python2"
  },
  "language_info": {
   "codemirror_mode": {
    "name": "ipython",
    "version": 2
   },
   "file_extension": ".py",
   "mimetype": "text/x-python",
   "name": "python",
   "nbconvert_exporter": "python",
   "pygments_lexer": "ipython2",
   "version": "2.7.10"
  }
 },
 "nbformat": 4,
 "nbformat_minor": 2
}
