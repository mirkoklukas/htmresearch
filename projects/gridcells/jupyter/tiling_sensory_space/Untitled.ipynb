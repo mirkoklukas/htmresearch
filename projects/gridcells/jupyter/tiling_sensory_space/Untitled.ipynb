{
 "cells": [
  {
   "cell_type": "code",
   "execution_count": 1,
   "metadata": {},
   "outputs": [
    {
     "name": "stdout",
     "output_type": "stream",
     "text": [
      "[66 52 24 12 24  3 85 46 85 58 46 12 85 52 87 14 14 24 14 84 13 58 12 87 12]\n"
     ]
    },
    {
     "data": {
      "text/plain": [
       "<matplotlib.image.AxesImage at 0x103da1410>"
      ]
     },
     "execution_count": 1,
     "metadata": {},
     "output_type": "execute_result"
    },
    {
     "data": {
      "image/png": "[encoded data removed]",
      "text/plain": [
       "<Figure size 432x288 with 1 Axes>"
      ]
     },
     "metadata": {},
     "output_type": "display_data"
    }
   ],
   "source": [
    "import numpy as np\n",
    "import matplotlib.pyplot as plt\n",
    "%matplotlib inline\n",
    "\n",
    "\n",
    "num_s  = 20\n",
    "num_pc = 100\n",
    "S  = range(num_s)\n",
    "pc = range(num_pc)\n",
    "\n",
    "pc_enc = np.random.choice(pc, size=len(S), replace=True)\n",
    "    \n",
    "\n",
    "def obj(w, h):\n",
    "    return np.random.choice(S, size=(w,h), replace=True).reshape(-1)\n",
    "\n",
    "print pc_enc[obj(5,5)]\n",
    "\n",
    "\n",
    "# o =  pc_enc[obj(5,5)].reshape((5,5))\n",
    "o = obj(5,5).reshape((5,5))\n",
    "\n",
    "plt.imshow(o, cmap=\"ocean\")\n",
    "\n",
    "\n",
    "\n",
    "\n",
    "\n",
    "\n",
    "\n"
   ]
  },
  {
   "cell_type": "code",
   "execution_count": null,
   "metadata": {},
   "outputs": [],
   "source": []
  }
 ],
 "metadata": {
  "kernelspec": {
   "display_name": "Python 2",
   "language": "python",
   "name": "python2"
  },
  "language_info": {
   "codemirror_mode": {
    "name": "ipython",
    "version": 2
   },
   "file_extension": ".py",
   "mimetype": "text/x-python",
   "name": "python",
   "nbconvert_exporter": "python",
   "pygments_lexer": "ipython2",
   "version": "2.7.10"
  }
 },
 "nbformat": 4,
 "nbformat_minor": 2
}
