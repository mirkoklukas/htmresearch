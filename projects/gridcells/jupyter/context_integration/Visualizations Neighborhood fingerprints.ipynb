{
 "cells": [
  {
   "cell_type": "code",
   "execution_count": 1,
   "metadata": {},
   "outputs": [
    {
     "name": "stdout",
     "output_type": "stream",
     "text": [
      "\n",
      "**Context Layer:**\n",
      "------------------\n",
      "Number of cells:\t 7120\n",
      "Layer Shape:\t\t (20, 356)\n",
      "Hyper-Module Shapes:\n",
      "[[34 25]\n",
      " [22 24]\n",
      " [35 33]\n",
      " [35 25]\n",
      " [27 29]\n",
      " [22 27]\n",
      " [26 31]\n",
      " [35 35]]\n",
      "Module bounds: [   0  850 1378 2533 3408 4191 4785 5591 6816]\n",
      "Number of grid cells:\t 6816\n",
      "Activity bound:\t\t 200\n",
      "------------------\n"
     ]
    }
   ],
   "source": [
    "import numpy as np\n",
    "import matplotlib.pyplot as plt\n",
    "from matplotlib import animation, rc\n",
    "from IPython.display import HTML\n",
    "from mpl_toolkits.mplot3d import Axes3D\n",
    "from htmresearch.support.gridcells.context_integration.context_layer import ContextLayer\n",
    "from htmresearch.support.gridcells.context_integration.utils import (create_module_shape, \n",
    "                                                                     create_action_tensor, \n",
    "                                                                     get_actions, \n",
    "                                                                     get_3d_actions,\n",
    "                                                                     get_closed_3d_path,\n",
    "                                                                     load_digit_features)\n",
    "\n",
    "from scipy.stats import entropy\n",
    "\n",
    "%matplotlib inline\n",
    "%load_ext autoreload\n",
    "%autoreload 2\n",
    "\n",
    "\n",
    "\n",
    "# m = 5   # Number of modules\n",
    "# n = 23   # Approximate number of cells per module dimension\n",
    "# d = 15   # Cells per minicolumn\n",
    "# w = 10   # Code weight of the sensory SDR\n",
    "\n",
    "FAC = 1\n",
    "\n",
    "m = 8     # Number of modules\n",
    "n = 30   # Approximate number of cells per module dimension\n",
    "d = 20   # Cells per minicolumn\n",
    "w = 5   # Code weight of the sensory SDR\n",
    "\n",
    "zero = np.zeros(2*m)\n",
    "\n",
    "# dx,dy,dz = get_actions(m,3)\n",
    "dx,dy = get_actions(m,2)\n",
    "dz = 2*dx + 9*dy\n",
    "\n",
    "\n",
    "\n",
    "module_shapes = create_module_shape(m,n, rmin=-10,rmax=5)\n",
    "action_tensor = create_action_tensor(m) \n",
    "\n",
    "X, V = get_closed_3d_path(num_samples=20, radius=5)\n",
    "\n",
    "CL  = ContextLayer(layer_height=d, module_shapes=module_shapes, action_map=action_tensor, max_activity=200) \n",
    "\n",
    "F = load_digit_features(w=w, shape=CL.layer.shape)\n",
    "\n",
    "print CL"
   ]
  },
  {
   "cell_type": "code",
   "execution_count": null,
   "metadata": {},
   "outputs": [],
   "source": []
  },
  {
   "cell_type": "code",
   "execution_count": null,
   "metadata": {},
   "outputs": [],
   "source": []
  },
  {
   "cell_type": "code",
   "execution_count": 13,
   "metadata": {},
   "outputs": [],
   "source": [
    "def top_k(score, k):\n",
    "    return np.argsort(score)[::-1][:k]\n",
    "\n",
    "def sparsify(arr, k):\n",
    "    arr_ = np.zeros(arr.shape).reshape(-1)\n",
    "    sorted_args = np.argsort(arr.reshape(-1))[::-1]\n",
    "    top_k = sorted_args[:k]\n",
    "    arr_[top_k] = 1.\n",
    "    return arr_.reshape(arr.shape)\n",
    "\n",
    "def explode(CL, x, V):\n",
    "    CL.clear()\n",
    "    CL.add(x)\n",
    "    x_ = sum([ CL.explore(v1*dx + v2*dy + v3*dz, mentally=True) for v1,v2,v3 in V])\n",
    "    CL.clear()\n",
    "    CL.add(x_)\n",
    "    return CL.layer.copy()\n",
    "\n",
    "def reassamble(CL, x, V):\n",
    "    CL.clear()\n",
    "    CL.add(x)\n",
    "    x_ = sum([ CL.explore(-v1*dx - v2*dy - v3*dz, mentally=True) for v1,v2,v3 in V])\n",
    "    CL.clear()\n",
    "    CL.add(x_)\n",
    "    return x_\n",
    "\n",
    "\n"
   ]
  },
  {
   "cell_type": "code",
   "execution_count": 14,
   "metadata": {
    "scrolled": false
   },
   "outputs": [
    {
     "name": "stdout",
     "output_type": "stream",
     "text": [
      "\n",
      "**Context Layer:**\n",
      "------------------\n",
      "Number of cells:\t 280\n",
      "Layer Shape:\t\t (20, 14)\n",
      "Hyper-Module Shapes:\n",
      "[[22 11]]\n",
      "Module bounds: [  0 242]\n",
      "Number of grid cells:\t 242\n",
      "Activity bound:\t\t 200\n",
      "------------------\n",
      "Overlap of SDR and Reconsruction ...1 of 1 ...1.0\n",
      "6.0 6.0\n"
     ]
    },
    {
     "data": {
      "image/png": "[encoded data removed]",
      "text/plain": [
       "<Figure size 1440x720 with 1 Axes>"
      ]
     },
     "metadata": {},
     "output_type": "display_data"
    },
    {
     "data": {
      "image/png": "[encoded data removed]",
      "text/plain": [
       "<Figure size 1440x720 with 1 Axes>"
      ]
     },
     "metadata": {},
     "output_type": "display_data"
    },
    {
     "data": {
      "image/png": "[encoded data removed]",
      "text/plain": [
       "<Figure size 1440x720 with 1 Axes>"
      ]
     },
     "metadata": {},
     "output_type": "display_data"
    },
    {
     "data": {
      "image/png": "[encoded data removed]",
      "text/plain": [
       "<Figure size 1440x720 with 1 Axes>"
      ]
     },
     "metadata": {},
     "output_type": "display_data"
    }
   ],
   "source": [
    "m = 1    # Number of modules\n",
    "n = 20   # Approximate number of cells per module dimension\n",
    "d = 20   # Cells per minicolumn\n",
    "w = 1    # Code weight of the sensory SDR\n",
    "\n",
    "\n",
    "dx,dy = get_actions(m,2)\n",
    "module_shapes = create_module_shape(m, n, rmin=-10, rmax=10)\n",
    "action_tensor = create_action_tensor(m) \n",
    "CL  = ContextLayer(layer_height=d, module_shapes=module_shapes, action_map=action_tensor, max_activity=200) \n",
    "\n",
    "num_landmarks = 5\n",
    "\n",
    "\n",
    "\n",
    "V = np.random.randint(-5,5, size=(num_landmarks,2))\n",
    "\n",
    "\n",
    "X  = np.zeros((num_landmarks, CL.layer_shape[0], CL.layer_shape[1]))\n",
    "X_ = np.zeros((num_landmarks, CL.layer_shape[0], CL.layer_shape[1]))\n",
    "\n",
    "x = CL.layer\n",
    "A = np.zeros((100, CL.layer_shape[0], CL.layer_shape[1]))\n",
    "\n",
    "\n",
    "ff = np.random.choice(CL.layer_shape[1], size=(num_members, 1), replace=False)\n",
    "for t in range(num_members):\n",
    "\n",
    "    X[t,:,ff[t]] = 1.0\n",
    "#     ff = np.random.choice(CL.layer_shape[1], size=w, replace=False)\n",
    "#     X[t,:,ff] = 1.0\n",
    "    CL.clear()\n",
    "    CL.add(X[t])\n",
    "    CL.explore(sum([ v1*dx + v2*dy + v3*dz  for v1,v2,v3 in Vs[t]]) )\n",
    "    X_[t] = CL.layer\n",
    "#     A[t] = CL.get_random_anchor()\n",
    "\n",
    "    \n",
    "    \n",
    "x  = np.sum(X, axis=0)\n",
    "x_  = np.sum(X_, axis=0)\n",
    "x__ = sparsify(x_, w*d)\n",
    "x_hat = reassamble(CL, x__, Vs[0])\n",
    "\n",
    "print CL\n",
    "\n",
    "SDR = set(np.argsort(np.sum(X[0], axis=0))[::-1][:w])\n",
    "SDR_ = set(np.argsort(np.sum(x_hat, axis=0))[::-1][:w])\n",
    "\n",
    "print \"Overlap of SDR and Reconsruction ...{} of {} ...{}\".format(len(SDR & SDR_), w, len(SDR & SDR_)/float(w))\n",
    "print np.amax(np.sum(x_hat, axis=0)), np.amax( np.sum( x_hat[:,ff[0]] )  )\n",
    "    \n",
    "\n",
    "\n",
    "plt.figure(figsize=(20,10))\n",
    "plt.imshow(x)\n",
    "plt.show()\n",
    "plt.figure(figsize=(20,10))\n",
    "plt.imshow(x_)\n",
    "plt.show()\n",
    "plt.figure(figsize=(20,10))\n",
    "plt.imshow(x__)\n",
    "plt.show()\n",
    "plt.figure(figsize=(20,10))\n",
    "\n",
    "plt.imshow(5*x_hat + X[0])\n",
    "plt.show()\n",
    "\n",
    "\n",
    "\n",
    "\n",
    "    \n"
   ]
  },
  {
   "cell_type": "code",
   "execution_count": null,
   "metadata": {},
   "outputs": [],
   "source": []
  },
  {
   "cell_type": "code",
   "execution_count": null,
   "metadata": {},
   "outputs": [],
   "source": []
  }
 ],
 "metadata": {
  "kernelspec": {
   "display_name": "Python 2",
   "language": "python",
   "name": "python2"
  },
  "language_info": {
   "codemirror_mode": {
    "name": "ipython",
    "version": 2
   },
   "file_extension": ".py",
   "mimetype": "text/x-python",
   "name": "python",
   "nbconvert_exporter": "python",
   "pygments_lexer": "ipython2",
   "version": "2.7.10"
  }
 },
 "nbformat": 4,
 "nbformat_minor": 2
}
