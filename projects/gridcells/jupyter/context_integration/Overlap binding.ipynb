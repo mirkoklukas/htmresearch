{
 "cells": [
  {
   "cell_type": "code",
   "execution_count": 355,
   "metadata": {},
   "outputs": [
    {
     "name": "stdout",
     "output_type": "stream",
     "text": [
      "The autoreload extension is already loaded. To reload it, use:\n",
      "  %reload_ext autoreload\n",
      "\n",
      "**Context Layer:**\n",
      "------------------\n",
      "Number of cells:\t 2216\n",
      "Layer Shape:\t\t (8, 277)\n",
      "Hyper-Module Shapes:\n",
      "[[18 20]\n",
      " [18 16]\n",
      " [25 24]\n",
      " [21 29]\n",
      " [23 15]]\n",
      "Module bounds: [   0  360  648 1248 1857 2202]\n",
      "Number of grid cells:\t 2202\n",
      "Activity bound:\t\t 200\n",
      "------------------\n"
     ]
    }
   ],
   "source": [
    "import numpy as np\n",
    "import matplotlib.pyplot as plt\n",
    "from matplotlib import animation, rc\n",
    "from IPython.display import HTML\n",
    "from mpl_toolkits.mplot3d import Axes3D\n",
    "from htmresearch.support.gridcells.context_integration.context_layer import ContextLayer\n",
    "from htmresearch.support.gridcells.context_integration.utils import (create_module_shape, \n",
    "                                                                     create_action_tensor, \n",
    "                                                                     get_actions, \n",
    "                                                                     get_3d_actions,\n",
    "                                                                     get_closed_3d_path,\n",
    "                                                                     load_digit_features)\n",
    "\n",
    "from scipy.stats import entropy\n",
    "\n",
    "%matplotlib inline\n",
    "%load_ext autoreload\n",
    "%autoreload 2\n",
    "\n",
    "\n",
    "\n",
    "# m = 5   # Number of modules\n",
    "# n = 23   # Approximate number of cells per module dimension\n",
    "# d = 15   # Cells per minicolumn\n",
    "# w = 10   # Code weight of the sensory SDR\n",
    "\n",
    "FAC = 1\n",
    "\n",
    "m = 5     # Number of modules\n",
    "n = 25   # Approximate number of cells per module dimension\n",
    "d = 8   # Cells per minicolumn\n",
    "w = 3   # Code weight of the sensory SDR\n",
    "\n",
    "zero = np.zeros(2*m)\n",
    "\n",
    "# dx,dy,dz = get_actions(m,3)\n",
    "dx,dy = get_actions(m,2)\n",
    "dz = dx + 9*dy\n",
    "\n",
    "\n",
    "\n",
    "module_shapes = create_module_shape(m,n, rmin=-10,rmax=5)\n",
    "action_tensor = create_action_tensor(m) \n",
    "\n",
    "X, V = get_closed_3d_path(num_samples=20, radius=5)\n",
    "\n",
    "CL  = ContextLayer(layer_height=d, module_shapes=module_shapes, action_map=action_tensor, max_activity=200) \n",
    "\n",
    "F = load_digit_features(w=w, shape=CL.layer.shape)\n",
    "\n",
    "print CL"
   ]
  },
  {
   "cell_type": "code",
   "execution_count": 357,
   "metadata": {
    "scrolled": false
   },
   "outputs": [
    {
     "data": {
      "image/png": "[encoded data removed]",
      "text/plain": [
       "<Figure size 720x360 with 1 Axes>"
      ]
     },
     "metadata": {},
     "output_type": "display_data"
    },
    {
     "data": {
      "image/png": "[encoded data removed]",
      "text/plain": [
       "<Figure size 720x360 with 1 Axes>"
      ]
     },
     "metadata": {},
     "output_type": "display_data"
    },
    {
     "data": {
      "image/png": "[encoded data removed]",
      "text/plain": [
       "<Figure size 720x360 with 1 Axes>"
      ]
     },
     "metadata": {},
     "output_type": "display_data"
    },
    {
     "data": {
      "image/png": "[encoded data removed]",
      "text/plain": [
       "<Figure size 432x288 with 1 Axes>"
      ]
     },
     "metadata": {},
     "output_type": "display_data"
    },
    {
     "data": {
      "image/png": "[encoded data removed]",
      "text/plain": [
       "<Figure size 720x360 with 1 Axes>"
      ]
     },
     "metadata": {},
     "output_type": "display_data"
    },
    {
     "data": {
      "image/png": "[encoded data removed]",
      "text/plain": [
       "<Figure size 432x288 with 1 Axes>"
      ]
     },
     "metadata": {},
     "output_type": "display_data"
    },
    {
     "data": {
      "image/png": "[encoded data removed]",
      "text/plain": [
       "<Figure size 432x288 with 1 Axes>"
      ]
     },
     "metadata": {},
     "output_type": "display_data"
    }
   ],
   "source": [
    "def top_k(score, k):\n",
    "    return np.argsort(score)[::-1][:k]\n",
    "\n",
    "vecs_data = [(1,0,1)]\n",
    "vecs_child = [(-1,2,0)]\n",
    "\n",
    "num_ex = 10\n",
    "vecs_data = [ np.random.randint(-15,15, size=3) for _ in range(num_ex)]\n",
    "vecs_child =  [ np.random.randint(-15,15, size=3) for _ in range(num_ex)]\n",
    "unbind_vecs = vecs_child\n",
    "\n",
    "def bind(CL, d, c, vecs_d, vecs_c):\n",
    "    CL.clear()\n",
    "    CL.add(d)\n",
    "    d_ = sum([ CL.explore(a*dx + b*dy + x3*dz, mentally=True) for a,b,x3 in vecs_d])\n",
    "\n",
    "    CL.clear()\n",
    "    CL.add(c)\n",
    "    c_ = sum([ CL.explore(a*dx + b*dy + x3*dz, mentally=True) for a,b,x3 in vecs_c])\n",
    "\n",
    "    CL.clear()\n",
    "    CL.add(d_)\n",
    "    CL.add(c_)\n",
    "\n",
    "    root = CL.layer\n",
    "    score = np.sum(root, axis=0)\n",
    "\n",
    "    CL.clear()\n",
    "    CL.feed_bottom_up(top_k(score, w))\n",
    "    return CL.layer.copy()\n",
    "\n",
    "def bind2(CL, d, c, vecs_d, vecs_c):\n",
    "    CL.clear()\n",
    "    CL.add(d)\n",
    "    d_ = sum([ CL.explore(a*dx + b*dy + x3*dz, mentally=True) for a,b,x3 in vecs_d])\n",
    "\n",
    "    CL.clear()\n",
    "    CL.add(c)\n",
    "    c_ = sum([ CL.explore(a*dx + b*dy + x3*dz, mentally=True) for a,b,x3 in vecs_c])\n",
    "\n",
    "\n",
    "    root = d_ + c_\n",
    "    score = np.sum(root, axis=0)\n",
    "\n",
    "    CL.clear()\n",
    "    CL.feed_bottom_up(top_k(score, w))\n",
    "    return CL.layer.copy()\n",
    "\n",
    "def bind3(CL, x, y, vecs_d, vecs_c):\n",
    "    CL.clear()\n",
    "    CL.add(x)\n",
    "    d_ = sum([ CL.explore(a*dx + b*dy + x3*dz, mentally=True) for a,b,x3 in vecs_d])\n",
    "\n",
    "    CL.clear()\n",
    "    CL.add(y)\n",
    "    c_ = sum([ CL.explore(a*dx + b*dy + x3*dz, mentally=True) for a,b,x3 in vecs_c])\n",
    "\n",
    "\n",
    "    root = d_ + c_\n",
    "#     wmax = np.sort(root.reshape(-1))[::-1][w]\n",
    "#     fingerprint = np.where(root < wmax, 0.,1.)\n",
    "    fingerprint = np.zeros(root.shape).reshape(-1)\n",
    "\n",
    "    sorted_args = np.argsort(root.reshape(-1))[::-1]\n",
    "    top = sorted_args[:(w*d)]\n",
    "    fingerprint[top] = 1.\n",
    "    fingerprint = fingerprint.reshape((root.shape))\n",
    "    CL.clear()\n",
    "    CL.add(fingerprint)\n",
    "    return CL.layer.copy()\n",
    "\n",
    "\n",
    "def unbind(CL, xy, vecs):\n",
    "    CL.clear()\n",
    "    CL.add(xy)\n",
    "    x__ = sum([ CL.explore(-a*dx - b*dy - x3*dz, mentally=True) for a,b,x3 in vecs])\n",
    "\n",
    "    score = np.sum(x__, axis=0)\n",
    "    CL.clear()\n",
    "    CL.feed_bottom_up(top_k(score, w))\n",
    "    return CL.layer.copy()\n",
    "\n",
    "\n",
    "def unbind3(CL, xy, vecs):\n",
    "    CL.clear()\n",
    "    CL.add(xy)\n",
    "    x__ = sum([ CL.explore(-a*dx - b*dy - x3*dz, mentally=True) for a,b,x3 in vecs])\n",
    "\n",
    "#     score = np.sum(x__, axis=0)\n",
    "    CL.clear()\n",
    "    CL.add(x__)\n",
    "#     CL.feed_bottom_up(top_k(score, w))\n",
    "    return CL.layer.copy()\n",
    "\n",
    "\n",
    "\n",
    "\n",
    "CL = []\n",
    "for i in range(1):\n",
    "    CL.append(ContextLayer(layer_height=d, module_shapes=module_shapes, action_map=action_tensor, max_activity=200))\n",
    "\n",
    "    \n",
    "x = F[0]\n",
    "y = F[9]\n",
    "\n",
    "xy = []\n",
    "x_ = []\n",
    "\n",
    "\n",
    "\n",
    "\n",
    "for i in range(len(CL)):\n",
    "    xy.append(bind3(CL[i], x,y, vecs_data, vecs_child))\n",
    "    x_.append(unbind3(CL[i], xy[-1], unbind_vecs))\n",
    "\n",
    "    \n",
    "plt.figure(figsize=(10,5))\n",
    "plt.title(\"raw \")\n",
    "plt.imshow(x + y, cmap=\"binary\", vmin=0, vmax=1)\n",
    "plt.show()\n",
    "\n",
    "\n",
    "\n",
    "plt.figure(figsize=(10,5))\n",
    "plt.title(\"Bind\")\n",
    "plt.imshow(xy[0], cmap=\"binary\")\n",
    "plt.show()\n",
    "\n",
    "\n",
    "plt.figure(figsize=(10,5))\n",
    "plt.title(\"Un Bind\")\n",
    "plt.imshow(x_[0], cmap=\"binary\")\n",
    "plt.show()\n",
    "\n",
    "\n",
    "plt.title(\"Bind bias?\")\n",
    "plt.imshow(sum(xy), cmap=\"binary\")\n",
    "plt.show()\n",
    "\n",
    "plt.figure(figsize=(10,5))\n",
    "plt.title(\"Bind bias?\")\n",
    "plt.bar(range(CL[0].layer_shape[1]), np.sum(sum(xy), axis=0))\n",
    "plt.show()\n",
    "\n",
    "\n",
    "plt.title(\"Un Bind\")\n",
    "plt.imshow(sum(x_), cmap=\"binary\")\n",
    "plt.show()\n",
    "\n",
    "\n",
    "\n",
    "\n",
    "CL = ContextLayer(layer_height=d, module_shapes=module_shapes, action_map=action_tensor, max_activity=200)\n",
    "score = np.sum(sum(x_), axis=0)\n",
    "CL.feed_bottom_up(top_k(score, w))\n",
    "\n",
    "\n",
    "plt.title(\"Un Bind\")\n",
    "plt.imshow(CL.layer, cmap=\"binary\")\n",
    "plt.show()\n",
    "\n",
    "\n"
   ]
  },
  {
   "cell_type": "code",
   "execution_count": null,
   "metadata": {},
   "outputs": [],
   "source": []
  },
  {
   "cell_type": "code",
   "execution_count": null,
   "metadata": {},
   "outputs": [],
   "source": []
  },
  {
   "cell_type": "code",
   "execution_count": 451,
   "metadata": {},
   "outputs": [
    {
     "data": {
      "image/png": "[encoded data removed]",
      "text/plain": [
       "<Figure size 432x288 with 1 Axes>"
      ]
     },
     "metadata": {},
     "output_type": "display_data"
    },
    {
     "data": {
      "image/png": "[encoded data removed]",
      "text/plain": [
       "<Figure size 432x288 with 1 Axes>"
      ]
     },
     "metadata": {},
     "output_type": "display_data"
    },
    {
     "data": {
      "image/png": "[encoded data removed]",
      "text/plain": [
       "<Figure size 432x288 with 1 Axes>"
      ]
     },
     "metadata": {},
     "output_type": "display_data"
    },
    {
     "data": {
      "image/png": "[encoded data removed]",
      "text/plain": [
       "<Figure size 432x288 with 1 Axes>"
      ]
     },
     "metadata": {},
     "output_type": "display_data"
    },
    {
     "data": {
      "image/png": "[encoded data removed]",
      "text/plain": [
       "<Figure size 432x288 with 1 Axes>"
      ]
     },
     "metadata": {},
     "output_type": "display_data"
    }
   ],
   "source": [
    "def top_k(score, k):\n",
    "    return np.argsort(score)[::-1][:k]\n",
    "\n",
    "CL.clear()\n",
    "\n",
    "d = F[0]\n",
    "c = F[9]\n",
    "\n",
    "\n",
    "plt.title(\"raw \")\n",
    "plt.imshow(d + c, cmap=\"binary\", vmin=0, vmax=1)\n",
    "plt.show()\n",
    "\n",
    "CL.clear()\n",
    "CL.extend(zero, d)\n",
    "d_ = sum([ CL.explore(a*dx + b*dy, mentally=True) for a,b in [(0,1)]])\n",
    "\n",
    "CL.clear()\n",
    "CL.extend(zero, c)\n",
    "c_ = sum([ CL.explore(a*dx + b*dy, mentally=True) for a,b in [(1,0)]])\n",
    "\n",
    "\n",
    "CL.clear()\n",
    "CL.add(d_)\n",
    "CL.add(c_)\n",
    "\n",
    "plt.title(\"mixed enocded\")\n",
    "plt.imshow(CL.layer, cmap=\"binary\", vmin=0, vmax=1)\n",
    "plt.show()\n",
    "\n",
    "\n",
    "root = CL.layer\n",
    "\n",
    "\n",
    "score = np.sum(root, axis=0)\n",
    "\n",
    "CL.clear()\n",
    "CL.feed_bottom_up(top_k(score, w))\n",
    "\n",
    "\n",
    "plt.title(\"TOPK ROot\")\n",
    "plt.imshow(CL.layer, cmap=\"binary\", vmin=0, vmax=1)\n",
    "plt.show()\n",
    "\n",
    "\n",
    "d__ = sum([ CL.explore(-a*dx - b*dy, mentally=True) for a,b in [(0,1)]])\n",
    "c__ = sum([ CL.explore(-a*dx - b*dy, mentally=True) for a,b in [(1,0)]])\n",
    "\n",
    "\n",
    "score = np.sum(c__, axis=0)\n",
    "\n",
    "CL.clear()\n",
    "CL.feed_bottom_up(top_k(score, w))\n",
    "\n",
    "plt.title(\"Unbind\")\n",
    "plt.imshow(CL.layer, cmap=\"binary\", vmin=0, vmax=1)\n",
    "plt.show()\n",
    "\n",
    "plt.plot(score)\n",
    "plt.show()\n",
    "# plt.figure(figsize=(40,20))\n",
    "# plt.title(\"Cells that belong to module $M_0$\")\n",
    "# plt.imshow(CL.highlight_module(0), cmap=\"binary\", vmin=0, vmax=1)\n"
   ]
  },
  {
   "cell_type": "code",
   "execution_count": null,
   "metadata": {},
   "outputs": [],
   "source": []
  }
 ],
 "metadata": {
  "kernelspec": {
   "display_name": "Python 2",
   "language": "python",
   "name": "python2"
  },
  "language_info": {
   "codemirror_mode": {
    "name": "ipython",
    "version": 2
   },
   "file_extension": ".py",
   "mimetype": "text/x-python",
   "name": "python",
   "nbconvert_exporter": "python",
   "pygments_lexer": "ipython2",
   "version": "2.7.10"
  }
 },
 "nbformat": 4,
 "nbformat_minor": 2
}
