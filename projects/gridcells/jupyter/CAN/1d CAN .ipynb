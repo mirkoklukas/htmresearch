{
 "cells": [
  {
   "cell_type": "code",
   "execution_count": 35,
   "metadata": {
    "inputHidden": false,
    "outputHidden": false
   },
   "outputs": [
    {
     "name": "stdout",
     "output_type": "stream",
     "text": [
      "The autoreload extension is already loaded. To reload it, use:\n",
      "  %reload_ext autoreload\n"
     ]
    }
   ],
   "source": [
    "import math\n",
    "import json\n",
    "import matplotlib.pyplot as plt\n",
    "%matplotlib inline\n",
    "import numpy as np\n",
    "import sys\n",
    "sys.path.append(\"/Users/mklukas/nta/htmresearch/\")\n",
    "\n",
    "from htmresearch.support.cans.utils import *\n",
    "from htmresearch.support.cans.basic_dynamics import *\n",
    "%load_ext autoreload\n",
    "%autoreload 2\n"
   ]
  },
  {
   "cell_type": "code",
   "execution_count": 111,
   "metadata": {},
   "outputs": [],
   "source": [
    "def can_beanie(x):\n",
    "    a          = .05\n",
    "    lambda_net = 4.0\n",
    "    beta       = 3.0 / lambda_net**2\n",
    "    gamma      = 1.05 * beta\n",
    "    \n",
    "    x_length_squared = x**2\n",
    "    \n",
    "    return a*np.exp(-7.*x_length_squared) - a"
   ]
  },
  {
   "cell_type": "code",
   "execution_count": 112,
   "metadata": {},
   "outputs": [
    {
     "name": "stdout",
     "output_type": "stream",
     "text": [
      "29.939999999999998\n"
     ]
    },
    {
     "data": {
      "image/png": "[encoded data removed]",
      "text/plain": [
       "<Figure size 432x288 with 1 Axes>"
      ]
     },
     "metadata": {},
     "output_type": "display_data"
    },
    {
     "data": {
      "image/png": "[encoded data removed]",
      "text/plain": [
       "<Figure size 432x288 with 1 Axes>"
      ]
     },
     "metadata": {},
     "output_type": "display_data"
    }
   ],
   "source": [
    "\n",
    "\n",
    "r = 30.\n",
    "n = 500\n",
    "\n",
    "\n",
    "X = np.linspace(0.,r, num=n, endpoint=False)\n",
    "print np.amax(X)\n",
    "\n",
    "D = np.zeros((n, n))\n",
    "for i in range(n):\n",
    "    for j in range(n):\n",
    "            dij    = np.absolute(X[i] - X[j])\n",
    "            D[i,j] = np.minimum(r - dij, dij )\n",
    "\n",
    "        \n",
    "# J = mexican_hat\n",
    "# J = W_zero\n",
    "J = can_beanie\n",
    "\n",
    "\n",
    "\n",
    "W = create_recurrent_weights(J, D, normalize=False) \n",
    "# W[W>0]=0.\n",
    "\n",
    "plt.imshow(W)\n",
    "plt.show()\n",
    "\n",
    "plt.plot(W[0])\n",
    "plt.show()\n",
    "\n"
   ]
  },
  {
   "cell_type": "code",
   "execution_count": 113,
   "metadata": {},
   "outputs": [],
   "source": [
    "# A = create_envelope(n, .1,0.1)\n",
    "\n",
    "# plt.plot(A)\n"
   ]
  },
  {
   "cell_type": "code",
   "execution_count": 114,
   "metadata": {
    "scrolled": false
   },
   "outputs": [
    {
     "data": {
      "image/png": "[encoded data removed]",
      "text/plain": [
       "<Figure size 432x288 with 1 Axes>"
      ]
     },
     "metadata": {},
     "output_type": "display_data"
    },
    {
     "data": {
      "text/plain": [
       "<matplotlib.image.AxesImage at 0x12f0052d0>"
      ]
     },
     "execution_count": 114,
     "metadata": {},
     "output_type": "execute_result"
    },
    {
     "data": {
      "image/png": "[encoded data removed]",
      "text/plain": [
       "<Figure size 432x288 with 1 Axes>"
      ]
     },
     "metadata": {},
     "output_type": "display_data"
    }
   ],
   "source": [
    "from htmresearch.support.gridcells.utils import cross_correlate\n",
    "from scipy import ndimage\n",
    "import numpy.fft as fft\n",
    "from scipy.special import expit\n",
    "\n",
    "def relu(x):\n",
    "    return np.maximum(x, 0.)\n",
    "\n",
    "def resig(x):\n",
    "    return np.minimum(np.maximum(x, 0.),1.)\n",
    "\n",
    "T = 10000\n",
    "X = np.linspace(0.2,0.4,num=T)\n",
    "\n",
    "S = np.zeros((T,n))\n",
    "\n",
    "ms = 0.001\n",
    "\n",
    "# S[0] = np.zeros(n)\n",
    "# S[0] = bump(0.1, n)*0.01\n",
    "S[0] = np.random.sample(n)*0.1\n",
    "\n",
    "\n",
    "# b = np.ones(n)*.008\n",
    "\n",
    "\n",
    "B = np.ones((T,n))*0.0001\n",
    "\n",
    "burst_times = [2000,5000,7000]\n",
    "\n",
    "\n",
    "\n",
    "run_can(T, W, B, S, dt=100*0.5*ms, tau=100*30.*ms, f=relu)\n",
    "\n",
    "\n",
    "# plt.plot(b,     label=\"$b$\")\n",
    "# plt.plot(S[0],     label=\"$s_0$\")\n",
    "# plt.plot(S[1000], label=\"$s_{100}$\")\n",
    "plt.plot(S[0-100], label=\"$s_{T-100}$\")\n",
    "plt.plot(S[-1],    label=\"$s_T$\")\n",
    "plt.legend()\n",
    "plt.show()\n",
    "\n",
    "\n",
    "\n",
    "# for t in burst_times:\n",
    "#     plt.figure(figsize=(20,5))\n",
    "#     img = np.concatenate( [\n",
    "#         S[t-10:t-1],\n",
    "#         S[t+990:t+1000][::-1]\n",
    "#     ], axis=0)\n",
    "#     plt.imshow(img, cmap=\"viridis\")\n",
    "#     plt.show()\n",
    "    \n",
    "# for t in burst_times:\n",
    "#     plt.figure(figsize=(20,5))\n",
    "# #     plt.plot(B[t])\n",
    "#     plt.plot(S[t])\n",
    "#     plt.plot(S[t+1])\n",
    "#     plt.show()\n",
    "\n",
    "    \n",
    "plt.imshow(S[-1000:,:].T)\n",
    "\n"
   ]
  },
  {
   "cell_type": "code",
   "execution_count": null,
   "metadata": {},
   "outputs": [],
   "source": []
  },
  {
   "cell_type": "code",
   "execution_count": 22,
   "metadata": {},
   "outputs": [
    {
     "ename": "IndexError",
     "evalue": "index 10000 is out of bounds for axis 0 with size 10000",
     "output_type": "error",
     "traceback": [
      "\u001b[0;31m---------------------------------------------------------------------------\u001b[0m",
      "\u001b[0;31mIndexError\u001b[0m                                Traceback (most recent call last)",
      "\u001b[0;32m<ipython-input-22-58a67517c7c2>\u001b[0m in \u001b[0;36m<module>\u001b[0;34m()\u001b[0m\n\u001b[1;32m      1\u001b[0m \u001b[0mt\u001b[0m \u001b[0;34m=\u001b[0m \u001b[0;36m10000\u001b[0m\u001b[0;34m\u001b[0m\u001b[0m\n\u001b[0;32m----> 2\u001b[0;31m \u001b[0mf\u001b[0m \u001b[0;34m=\u001b[0m \u001b[0mS\u001b[0m\u001b[0;34m[\u001b[0m\u001b[0mt\u001b[0m\u001b[0;34m,\u001b[0m\u001b[0;34m:\u001b[0m\u001b[0;34m]\u001b[0m\u001b[0;34m[\u001b[0m\u001b[0;34m:\u001b[0m\u001b[0;34m]\u001b[0m\u001b[0;34m\u001b[0m\u001b[0m\n\u001b[0m\u001b[1;32m      3\u001b[0m \u001b[0;34m\u001b[0m\u001b[0m\n\u001b[1;32m      4\u001b[0m \u001b[0mmid1\u001b[0m \u001b[0;34m=\u001b[0m \u001b[0;36m600\u001b[0m\u001b[0;34m\u001b[0m\u001b[0m\n\u001b[1;32m      5\u001b[0m \u001b[0mmid2\u001b[0m \u001b[0;34m=\u001b[0m \u001b[0;36m650\u001b[0m\u001b[0;34m\u001b[0m\u001b[0m\n",
      "\u001b[0;31mIndexError\u001b[0m: index 10000 is out of bounds for axis 0 with size 10000"
     ]
    }
   ],
   "source": [
    "t = 10000\n",
    "f = S[t,:][:]\n",
    "\n",
    "mid1 = 600\n",
    "mid2 = 650\n",
    "g1 = S[t,:mid1][:]\n",
    "g2 = S[t,mid2:][:]\n",
    "# f = f - np.amin(f) \n",
    "# f = f/np.amax(f)\n",
    "\n",
    "ff = np.absolute(np.fft.fft(f))\n",
    "gg1 = np.absolute(np.fft.fft(g1))\n",
    "gg2 = np.absolute(np.fft.fft(g2))\n",
    "plt.plot(f)\n",
    "plt.show()\n",
    "\n",
    "\n",
    "plt.plot(ff[1:20])\n",
    "plt.plot(gg1[1:20])\n",
    "plt.plot(gg2[1:20])\n",
    "plt.show()\n",
    "\n",
    "\n",
    "print 1000/np.argmax(ff[1:20])\n"
   ]
  },
  {
   "cell_type": "code",
   "execution_count": 25,
   "metadata": {},
   "outputs": [
    {
     "name": "stdout",
     "output_type": "stream",
     "text": [
      "done\n"
     ]
    },
    {
     "data": {
      "image/png": "[encoded data removed]",
      "text/plain": [
       "<Figure size 432x288 with 1 Axes>"
      ]
     },
     "metadata": {},
     "output_type": "display_data"
    }
   ],
   "source": [
    "import numpy as np\n",
    "import matplotlib.pyplot as plt\n",
    "import matplotlib.animation as animation\n",
    "\n",
    "\n",
    "def update_line(num, data, line):\n",
    "    line.set_ydata(data[num,...])\n",
    "    return line,\n",
    "\n",
    "\n",
    "fig = plt.figure()\n",
    "\n",
    "data = S[np.arange(5000,len(S), step=10)]\n",
    "\n",
    "l, = plt.plot(np.arange(n), data[0], 'r-', animated=True)\n",
    "ani = animation.FuncAnimation(fig, update_line, len(data), fargs=(data, l),\n",
    "                                   interval=50, blit=True)\n",
    "\n",
    "ani.save('moving_bumps_1-dim.mp4')\n",
    "print \"done\"\n",
    "# plt.show()"
   ]
  },
  {
   "cell_type": "code",
   "execution_count": null,
   "metadata": {
    "collapsed": true
   },
   "outputs": [],
   "source": []
  },
  {
   "cell_type": "code",
   "execution_count": null,
   "metadata": {
    "collapsed": true
   },
   "outputs": [],
   "source": []
  },
  {
   "cell_type": "code",
   "execution_count": null,
   "metadata": {
    "collapsed": true
   },
   "outputs": [],
   "source": []
  },
  {
   "cell_type": "code",
   "execution_count": null,
   "metadata": {
    "collapsed": true
   },
   "outputs": [],
   "source": []
  },
  {
   "cell_type": "code",
   "execution_count": null,
   "metadata": {
    "collapsed": true
   },
   "outputs": [],
   "source": []
  },
  {
   "cell_type": "code",
   "execution_count": null,
   "metadata": {
    "collapsed": true
   },
   "outputs": [],
   "source": []
  },
  {
   "cell_type": "code",
   "execution_count": 22,
   "metadata": {
    "collapsed": true
   },
   "outputs": [],
   "source": []
  },
  {
   "cell_type": "code",
   "execution_count": null,
   "metadata": {
    "collapsed": true
   },
   "outputs": [],
   "source": []
  },
  {
   "cell_type": "code",
   "execution_count": null,
   "metadata": {
    "collapsed": true
   },
   "outputs": [],
   "source": []
  },
  {
   "cell_type": "code",
   "execution_count": null,
   "metadata": {
    "collapsed": true
   },
   "outputs": [],
   "source": []
  },
  {
   "cell_type": "code",
   "execution_count": null,
   "metadata": {
    "collapsed": true
   },
   "outputs": [],
   "source": []
  },
  {
   "cell_type": "code",
   "execution_count": null,
   "metadata": {
    "collapsed": true
   },
   "outputs": [],
   "source": []
  },
  {
   "cell_type": "code",
   "execution_count": 3,
   "metadata": {},
   "outputs": [
    {
     "name": "stdout",
     "output_type": "stream",
     "text": [
      "40960000\n"
     ]
    }
   ],
   "source": []
  },
  {
   "cell_type": "code",
   "execution_count": null,
   "metadata": {
    "collapsed": true
   },
   "outputs": [],
   "source": []
  }
 ],
 "metadata": {
  "kernel_info": {
   "name": "python2"
  },
  "kernelspec": {
   "display_name": "Python 2",
   "language": "python",
   "name": "python2"
  },
  "language_info": {
   "codemirror_mode": {
    "name": "ipython",
    "version": 2
   },
   "file_extension": ".py",
   "mimetype": "text/x-python",
   "name": "python",
   "nbconvert_exporter": "python",
   "pygments_lexer": "ipython2",
   "version": "2.7.10"
  }
 },
 "nbformat": 4,
 "nbformat_minor": 4
}
