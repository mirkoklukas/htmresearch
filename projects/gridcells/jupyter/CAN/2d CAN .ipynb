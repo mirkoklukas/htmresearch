{
 "cells": [
  {
   "cell_type": "code",
   "execution_count": 3,
   "metadata": {
    "inputHidden": false,
    "outputHidden": false
   },
   "outputs": [
    {
     "name": "stdout",
     "output_type": "stream",
     "text": [
      "The autoreload extension is already loaded. To reload it, use:\n",
      "  %reload_ext autoreload\n"
     ]
    }
   ],
   "source": [
    "import math\n",
    "import json\n",
    "import matplotlib.pyplot as plt\n",
    "%matplotlib inline\n",
    "import numpy as np\n",
    "%load_ext autoreload\n",
    "%autoreload 2\n"
   ]
  },
  {
   "cell_type": "code",
   "execution_count": 167,
   "metadata": {},
   "outputs": [
    {
     "data": {
      "text/plain": [
       "[<matplotlib.lines.Line2D at 0x10c7c4050>]"
      ]
     },
     "execution_count": 167,
     "metadata": {},
     "output_type": "execute_result"
    },
    {
     "data": {
      "image/png": "[encoded data removed]",
      "text/plain": [
       "<Figure size 432x288 with 1 Axes>"
      ]
     },
     "metadata": {},
     "output_type": "display_data"
    }
   ],
   "source": [
    "def mexican_hat(x, sigma=1.):\n",
    "    a = 2./ ( np.sqrt(3*sigma) * np.power(np.pi,0.25 ) )\n",
    "    b = (1. - (x/sigma)**2 )\n",
    "    c = np.exp( - x**2/(2.*sigma**2))\n",
    "    return a*b*c\n",
    "\n",
    "def W_zero(x):\n",
    "    a          = 1.0\n",
    "    lambda_net = 4.0\n",
    "    beta       = 3.0 / lambda_net**2\n",
    "    gamma      = 1.05 * beta\n",
    "    \n",
    "    x_length_squared = x**2\n",
    "    \n",
    "    return a*np.exp(-gamma*x_length_squared) - np.exp(-beta*x_length_squared)\n",
    "\n",
    "def createCircularMask(h, w, center=None, radius=None):\n",
    "\n",
    "    if center is None: # use the middle of the image\n",
    "        center = [int(w/2), int(h/2)]\n",
    "    if radius is None: # use the smallest distance between the center and image walls\n",
    "        radius = min(center[0], center[1], w-center[0], h-center[1])\n",
    "\n",
    "    Y, X = np.ogrid[:h, :w]\n",
    "    dist_from_center = np.sqrt((X - center[0])**2 + (Y-center[1])**2)\n",
    "\n",
    "    mask = dist_from_center <= radius\n",
    "    return mask\n",
    "\n",
    "\n",
    "\n",
    "\n",
    "\n",
    "J = W_zero\n",
    "\n",
    "x = np.linspace(-10.,10., num=100)\n",
    "y = J(2*x)\n",
    "\n",
    "plt.plot(x, y)\n"
   ]
  },
  {
   "cell_type": "code",
   "execution_count": 168,
   "metadata": {},
   "outputs": [
    {
     "data": {
      "image/png": "[encoded data removed]",
      "text/plain": [
       "<Figure size 432x288 with 1 Axes>"
      ]
     },
     "metadata": {},
     "output_type": "display_data"
    },
    {
     "data": {
      "image/png": "[encoded data removed]",
      "text/plain": [
       "<Figure size 432x288 with 1 Axes>"
      ]
     },
     "metadata": {},
     "output_type": "display_data"
    }
   ],
   "source": [
    "def normalize(x):\n",
    "    x_   = x - np.amin(x)\n",
    "    amax = np.amax(x_)\n",
    "\n",
    "    if amax != 0.:\n",
    "        x_ = x_/amax\n",
    "    \n",
    "    return x_\n",
    "\n",
    "\n",
    "\n",
    "def create_W(J, D, s=1.0):\n",
    "\n",
    "    W = np.zeros(D.shape)\n",
    "    W = J(s*D) \n",
    "\n",
    "    np.fill_diagonal(W, 0.0)\n",
    "    \n",
    "    for i in range(n):\n",
    "        W[i,:] -= np.mean(W[i,:])\n",
    "    \n",
    "    return W \n",
    "\n",
    "\n",
    "\n",
    "ratio = 2.\n",
    "rx  = 30.\n",
    "ry  = rx*ratio\n",
    "nx = 50\n",
    "ny = nx*int(ratio)\n",
    "n  = nx*ny \n",
    "\n",
    "\n",
    "\n",
    "X = np.indices((nx,ny)).reshape((2,-1)).T/np.array([[float(nx), float(ny)]])\n",
    "X[:,0] *= rx\n",
    "X[:,1] *= ry\n",
    "\n",
    "\n",
    "D = np.zeros((n, n))\n",
    "for i in range(n):\n",
    "    for j in range(n):\n",
    "            D[i,j] = np.linalg.norm( X[i] - X[j])\n",
    "\n",
    "        \n",
    "\n",
    "J = mexican_hat\n",
    "# J = W_zero\n",
    "\n",
    "\n",
    "\n",
    "W = create_W(J, D, s=1.)\n",
    "\n",
    "\n",
    "\n",
    "plt.imshow(W)\n",
    "plt.show()\n",
    "\n",
    "plt.imshow(W[20].reshape((nx,ny)))\n",
    "plt.show()\n",
    "\n"
   ]
  },
  {
   "cell_type": "code",
   "execution_count": 166,
   "metadata": {},
   "outputs": [
    {
     "name": "stdout",
     "output_type": "stream",
     "text": [
      "(5, 2)\n",
      "[ 0.99720943  0.13989221  0.9832092   0.84632898  0.89661678]\n"
     ]
    },
    {
     "ename": "ValueError",
     "evalue": "cannot reshape array of size 1 into shape (1,2)",
     "output_type": "error",
     "traceback": [
      "\u001b[0;31m---------------------------------------------------------------------------\u001b[0m",
      "\u001b[0;31mValueError\u001b[0m                                Traceback (most recent call last)",
      "\u001b[0;32m<ipython-input-166-6aba6f15d943>\u001b[0m in \u001b[0;36m<module>\u001b[0;34m()\u001b[0m\n\u001b[1;32m     17\u001b[0m \u001b[0mmask\u001b[0m \u001b[0;34m=\u001b[0m \u001b[0mmask\u001b[0m\u001b[0;34m.\u001b[0m\u001b[0mreshape\u001b[0m\u001b[0;34m(\u001b[0m\u001b[0;34m-\u001b[0m\u001b[0;36m1\u001b[0m\u001b[0;34m)\u001b[0m\u001b[0;34m\u001b[0m\u001b[0m\n\u001b[1;32m     18\u001b[0m \u001b[0;32mfor\u001b[0m \u001b[0mi\u001b[0m \u001b[0;32min\u001b[0m \u001b[0mrange\u001b[0m\u001b[0;34m(\u001b[0m\u001b[0mn\u001b[0m\u001b[0;34m)\u001b[0m\u001b[0;34m:\u001b[0m\u001b[0;34m\u001b[0m\u001b[0m\n\u001b[0;32m---> 19\u001b[0;31m     \u001b[0mj\u001b[0m \u001b[0;34m=\u001b[0m \u001b[0mnp\u001b[0m\u001b[0;34m.\u001b[0m\u001b[0margmin\u001b[0m\u001b[0;34m(\u001b[0m \u001b[0mnp\u001b[0m\u001b[0;34m.\u001b[0m\u001b[0mlinalg\u001b[0m\u001b[0;34m.\u001b[0m\u001b[0mnorm\u001b[0m\u001b[0;34m(\u001b[0m\u001b[0mR\u001b[0m \u001b[0;34m-\u001b[0m \u001b[0mX\u001b[0m\u001b[0;34m[\u001b[0m\u001b[0mi\u001b[0m\u001b[0;34m]\u001b[0m\u001b[0;34m.\u001b[0m\u001b[0mreshape\u001b[0m\u001b[0;34m(\u001b[0m\u001b[0;34m(\u001b[0m\u001b[0;36m1\u001b[0m\u001b[0;34m,\u001b[0m\u001b[0;36m2\u001b[0m\u001b[0;34m)\u001b[0m\u001b[0;34m)\u001b[0m\u001b[0;34m,\u001b[0m \u001b[0maxis\u001b[0m\u001b[0;34m=\u001b[0m\u001b[0;36m1\u001b[0m\u001b[0;34m)\u001b[0m\u001b[0;34m)\u001b[0m\u001b[0;34m\u001b[0m\u001b[0m\n\u001b[0m\u001b[1;32m     20\u001b[0m \u001b[0;34m\u001b[0m\u001b[0m\n\u001b[1;32m     21\u001b[0m     \u001b[0mmask\u001b[0m\u001b[0;34m[\u001b[0m\u001b[0mi\u001b[0m\u001b[0;34m]\u001b[0m \u001b[0;34m=\u001b[0m \u001b[0mrnd\u001b[0m\u001b[0;34m[\u001b[0m\u001b[0mj\u001b[0m\u001b[0;34m]\u001b[0m\u001b[0;34m\u001b[0m\u001b[0m\n",
      "\u001b[0;31mValueError\u001b[0m: cannot reshape array of size 1 into shape (1,2)"
     ]
    }
   ],
   "source": [
    "mask = np.ones((nx,ny))\n",
    "\n",
    "# mask[10:20,50:60]    = 0.\n",
    "# mask[10:20,115:125]  = 0.\n",
    "\n",
    "\n",
    "R = np.indices((nx,ny)).reshape((2,-1)).T/np.array([[float(nx), float(ny)]])\n",
    "R[:,0] *= rx\n",
    "R[:,1] *= ry\n",
    "\n",
    "R = R[np.random.choice(n,size=5, replace=False)]\n",
    "print R.shape\n",
    "\n",
    "\n",
    "rnd = np.random.sample(5)\n",
    "print rnd\n",
    "mask = mask.reshape(-1)\n",
    "for i in range(n):\n",
    "    j = np.argmin( np.linalg.norm(R - X[i].reshape((1,2)), axis=1))\n",
    "    \n",
    "    mask[i] = rnd[j]\n",
    "\n",
    "print mask\n",
    "mask = mask.reshape((nx,ny))\n",
    "print mask\n",
    "plt.imshow(mask)\n",
    "mask = mask.reshape(-1)\n"
   ]
  },
  {
   "cell_type": "code",
   "execution_count": 176,
   "metadata": {},
   "outputs": [
    {
     "data": {
      "image/png": "[encoded data removed]",
      "text/plain": [
       "<Figure size 432x288 with 1 Axes>"
      ]
     },
     "metadata": {},
     "output_type": "display_data"
    }
   ],
   "source": [
    "# beta_mask = np.ones((nx,ny))\n",
    "# beta_mask = beta_mask*np.linspace(1.0,4.,num=ny).reshape((1,ny))\n",
    "\n",
    "\n",
    "\n",
    "# mask[10:20,50:60]    = 0.\n",
    "# mask[10:20,115:125]  = 0.\n",
    "\n",
    "\n",
    "R = np.indices((nx,ny)).reshape((2,-1)).T/np.array([[float(nx), float(ny)]])\n",
    "R[:,0] *= rx\n",
    "R[:,1] *= ry\n",
    "\n",
    "R = R[np.random.choice(n,size=5, replace=False)]\n",
    "\n",
    "rnd = np.random.sample(5)\n",
    "\n",
    "beta_mask = np.zeros(n)\n",
    "for i in range(n):\n",
    "    j = np.argmin( np.linalg.norm(R - X[i], axis=1))\n",
    "    beta_mask[i] = 2.5 + (rnd[j] - 0.5)*1.\n",
    "\n",
    "    \n",
    "plt.imshow(beta_mask.reshape((nx,ny)))\n",
    "\n",
    "beta_mask = beta_mask.reshape(-1)\n"
   ]
  },
  {
   "cell_type": "code",
   "execution_count": 177,
   "metadata": {},
   "outputs": [],
   "source": []
  },
  {
   "cell_type": "code",
   "execution_count": 184,
   "metadata": {
    "scrolled": false
   },
   "outputs": [
    {
     "data": {
      "image/png": "[encoded data removed]",
      "text/plain": [
       "<Figure size 1440x720 with 2 Axes>"
      ]
     },
     "metadata": {},
     "output_type": "display_data"
    },
    {
     "data": {
      "image/png": "[encoded data removed]",
      "text/plain": [
       "<Figure size 1440x360 with 1 Axes>"
      ]
     },
     "metadata": {},
     "output_type": "display_data"
    }
   ],
   "source": [
    "from htmresearch.support.gridcells.utils import cross_correlate\n",
    "from scipy import ndimage\n",
    "import numpy.fft as fft\n",
    "from scipy.special import expit\n",
    "\n",
    "def relu(x):\n",
    "    return np.maximum(x, 0.)\n",
    "\n",
    "def evolve_step(W, b, s, beta=0.):\n",
    "    dt    = 0.01\n",
    "    tau   = 1.0\n",
    "    f     = relu\n",
    "    noise = np.random.randn(n)*0.001\n",
    "    noise = 0.\n",
    "    \n",
    "    ds    = dt*(f(np.dot(W,s+ noise) + b + beta) - s/tau)\n",
    "    s_    = s + ds\n",
    "    s_[mask==0.] = 0.\n",
    "    if np.sum(s_**2) >0:\n",
    "            s_ = s_/np.sqrt(np.sum(s_**2))\n",
    "            \n",
    "    return s_\n",
    "\n",
    "\n",
    "\n",
    "\n",
    "T =1500\n",
    "# X = np.linspace(0.2,0.4,num=T)\n",
    "\n",
    "S = np.zeros((T,n))\n",
    "\n",
    "\n",
    "\n",
    "\n",
    "S[0] = np.zeros(n)\n",
    "\n",
    "\n",
    "\n",
    "Beta = np.ones((T,n))*0.0\n",
    "\n",
    "\n",
    "\n",
    "\n",
    "for t in range(1,T):\n",
    "    \n",
    "    s = S[t-1]\n",
    "    b = np.zeros(n)\n",
    "    \n",
    "    tonic = 0.01\n",
    "    beta  = Beta[t-1]\n",
    "    \n",
    "#     s_ = evolve_step(W, b  + tonic, s, beta_mask*beta) \n",
    "    s_ = evolve_step(W, b  + tonic, s) \n",
    "    S[t]    = s_\n",
    "\n",
    "    alpha = 0.01\n",
    "    Beta[t] = (1. - alpha)*Beta[t-1] - alpha*(s_ - np.mean(s_))\n",
    "\n",
    "\n",
    "fig, ax = plt.subplots(1, 2, figsize=(20, 10));\n",
    "ax[0].imshow(S[0].reshape((nx,ny)), label=\"$s_0$\")\n",
    "ax[1].imshow(S[-1].reshape((nx,ny)), label=\"$s_1$\")\n",
    "plt.show()\n",
    "\n",
    "\n",
    "plt.figure(figsize=(20,5))\n",
    "plt.imshow(S.T, cmap=\"jet\")\n",
    "plt.show()\n",
    "\n",
    "\n",
    "\n"
   ]
  },
  {
   "cell_type": "code",
   "execution_count": 179,
   "metadata": {},
   "outputs": [
    {
     "name": "stdout",
     "output_type": "stream",
     "text": [
      "(1050, 5000)\n",
      "done\n"
     ]
    },
    {
     "data": {
      "image/png": "[encoded data removed]",
      "text/plain": [
       "<Figure size 432x288 with 1 Axes>"
      ]
     },
     "metadata": {},
     "output_type": "display_data"
    }
   ],
   "source": [
    "import numpy as np\n",
    "import matplotlib.pyplot as plt\n",
    "import matplotlib.animation as animation\n",
    "\n",
    "\n",
    "def update_line(num, data, line):\n",
    "    line.set_data(data[num].reshape((nx,ny)))\n",
    "    return line,\n",
    "\n",
    "\n",
    "fig = plt.figure()\n",
    "\n",
    "\n",
    "data = S[np.arange(0, T, step=10)]\n",
    "print data.shape\n",
    "\n",
    "l = plt.imshow(S[0].reshape((nx,ny)), animated=True)\n",
    "ani = animation.FuncAnimation(fig, update_line, len(data), fargs=(data, l),\n",
    "                                   interval=10, blit=True)\n",
    "\n",
    "ani.save('moving_bumps_rect_pieces2.mp4')\n",
    "print \"done\"\n",
    "# plt.show()"
   ]
  },
  {
   "cell_type": "code",
   "execution_count": null,
   "metadata": {},
   "outputs": [],
   "source": [
    "from JSAnimation.IPython_display import display_animation\n",
    "from matplotlib import animation\n",
    "\n",
    "# Set up the axes, making sure the axis ratio is equal\n",
    "fig = plt.figure(figsize=(6.5, 2.5))\n",
    "ax = fig.add_axes([0, 0, 1, 1], xlim=(-0.02, 13.02), ylim=(-0.02, 5.02),\n",
    "                  xticks=range(14), yticks=range(6), aspect='equal', frameon=False)\n",
    "ax.grid(True)\n",
    "\n",
    "# Define the shapes of the polygons\n",
    "P1 = np.array([[0, 0], [5, 0], [5, 2], [0, 0]])\n",
    "P2 = np.array([[0, 0], [8, 0], [8, 3], [0, 0]])\n",
    "P3 = np.array([[0, 0], [5, 0], [5, 1], [3, 1], [3, 2], [0, 2], [0, 0]])\n",
    "P4 = np.array([[0, 1], [3, 1], [3, 0], [5, 0], [5, 2], [0, 2], [0, 1]])\n",
    "\n",
    "# Draw the empty polygons for the animation\n",
    "kwds = dict(ec='k', alpha=0.5)\n",
    "patches = [ax.add_patch(plt.Polygon(0 * P1, fc='g', **kwds)),\n",
    "           ax.add_patch(plt.Polygon(0 * P2, fc='b', **kwds)),\n",
    "           ax.add_patch(plt.Polygon(0 * P3, fc='y', **kwds)),\n",
    "           ax.add_patch(plt.Polygon(0 * P4, fc='r', **kwds))]\n",
    "\n",
    "# This function moves the polygons as a function of the frame i\n",
    "Nframes = 30\n",
    "def animate(nframe):\n",
    "    f = nframe / (Nframes - 1.0)\n",
    "    patches[0].set_xy(P1 + (8 - 8 * f, 3 - 3 * f + 0.5 * np.sin(f * np.pi)))\n",
    "    patches[1].set_xy(P2 + (5 * f, 2 * f - 0.5 * np.sin(f * np.pi)))\n",
    "    patches[2].set_xy(P3 + (8 - 3 * f, 0))\n",
    "    patches[3].set_xy(P4 + (8, 1 - f))\n",
    "    return patches\n",
    "    \n",
    "anim = animation.FuncAnimation(fig, animate, frames=Nframes, interval=50)\n",
    "display_animation(anim, default_mode='once')"
   ]
  },
  {
   "cell_type": "code",
   "execution_count": null,
   "metadata": {},
   "outputs": [],
   "source": []
  },
  {
   "cell_type": "code",
   "execution_count": null,
   "metadata": {},
   "outputs": [],
   "source": []
  },
  {
   "cell_type": "code",
   "execution_count": null,
   "metadata": {},
   "outputs": [],
   "source": []
  },
  {
   "cell_type": "code",
   "execution_count": null,
   "metadata": {},
   "outputs": [],
   "source": []
  },
  {
   "cell_type": "code",
   "execution_count": 22,
   "metadata": {},
   "outputs": [],
   "source": []
  },
  {
   "cell_type": "code",
   "execution_count": null,
   "metadata": {},
   "outputs": [],
   "source": []
  },
  {
   "cell_type": "code",
   "execution_count": null,
   "metadata": {
    "collapsed": true
   },
   "outputs": [],
   "source": []
  },
  {
   "cell_type": "code",
   "execution_count": null,
   "metadata": {
    "collapsed": true
   },
   "outputs": [],
   "source": []
  },
  {
   "cell_type": "code",
   "execution_count": null,
   "metadata": {
    "collapsed": true
   },
   "outputs": [],
   "source": []
  },
  {
   "cell_type": "code",
   "execution_count": null,
   "metadata": {
    "collapsed": true
   },
   "outputs": [],
   "source": []
  },
  {
   "cell_type": "code",
   "execution_count": null,
   "metadata": {},
   "outputs": [],
   "source": []
  },
  {
   "cell_type": "code",
   "execution_count": null,
   "metadata": {
    "collapsed": true
   },
   "outputs": [],
   "source": []
  }
 ],
 "metadata": {
  "kernel_info": {
   "name": "python2"
  },
  "kernelspec": {
   "display_name": "Python 2",
   "language": "python",
   "name": "python2"
  },
  "language_info": {
   "codemirror_mode": {
    "name": "ipython",
    "version": 2
   },
   "file_extension": ".py",
   "mimetype": "text/x-python",
   "name": "python",
   "nbconvert_exporter": "python",
   "pygments_lexer": "ipython2",
   "version": "2.7.10"
  }
 },
 "nbformat": 4,
 "nbformat_minor": 4
}
