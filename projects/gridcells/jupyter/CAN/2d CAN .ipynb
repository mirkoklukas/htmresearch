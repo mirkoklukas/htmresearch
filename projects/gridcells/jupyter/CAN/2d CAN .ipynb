{
 "cells": [
  {
   "cell_type": "code",
   "execution_count": 4,
   "metadata": {
    "inputHidden": false,
    "outputHidden": false
   },
   "outputs": [
    {
     "name": "stdout",
     "output_type": "stream",
     "text": [
      "The autoreload extension is already loaded. To reload it, use:\n",
      "  %reload_ext autoreload\n"
     ]
    }
   ],
   "source": [
    "import math\n",
    "import json\n",
    "import matplotlib.pyplot as plt\n",
    "%matplotlib inline\n",
    "import numpy as np\n",
    "from htmresearch.support.cans.utils import *\n",
    "from htmresearch.support.cans.basic_dynamics import *\n",
    "%load_ext autoreload\n",
    "%autoreload 2\n"
   ]
  },
  {
   "cell_type": "code",
   "execution_count": null,
   "metadata": {},
   "outputs": [],
   "source": [
    "\n"
   ]
  },
  {
   "cell_type": "code",
   "execution_count": 23,
   "metadata": {},
   "outputs": [
    {
     "data": {
      "image/png": "[encoded data removed]",
      "text/plain": [
       "<Figure size 432x288 with 2 Axes>"
      ]
     },
     "metadata": {},
     "output_type": "display_data"
    }
   ],
   "source": [
    "\n",
    "# Set up the shape \n",
    "# of the cortical sheet\n",
    "xy_ratio = 1.\n",
    "\n",
    "rx  = 30.\n",
    "ry  = rx*xy_ratio\n",
    "\n",
    "nx = 30\n",
    "ny = nx*int(xy_ratio)\n",
    "n  = nx*ny \n",
    "\n",
    "\n",
    "# Positions of neurons on cortical sheet\n",
    "X = np.indices((nx,ny)).reshape((2,-1)).T/np.array([[float(nx), float(ny)]])\n",
    "X[:,0] *= rx\n",
    "X[:,1] *= ry\n",
    "\n",
    "# Distance matrix of neurons\n",
    "D = np.zeros((n, n))\n",
    "for i in range(n):\n",
    "    for j in range(n):\n",
    "            D[i,j] = np.linalg.norm( X[i] - X[j])\n",
    "\n",
    "# Function encoding the connection strength \n",
    "# based on distance\n",
    "J = mexican_hat\n",
    "\n",
    "# Create a weight matrix given J and D\n",
    "# basiclally J(D) with some normalization...\n",
    "W = J(D)\n",
    "for i in range(n):\n",
    "    W[i] = W[i]/np.sum(W[i])\n",
    "\n",
    "# Visualize\n",
    "fig, ax = plt.subplots(1,2)\n",
    "ax[0].imshow(W)\n",
    "ax[0].set_title(\"$W$\")\n",
    "i = 200\n",
    "ax[1].imshow(W[i].reshape((nx,ny)))\n",
    "ax[1].set_title(\"$W_{i}$\")\n",
    "plt.show()\n",
    "\n",
    "# plt.plot(W[200])\n",
    "# plt.show()\n",
    "\n"
   ]
  },
  {
   "cell_type": "code",
   "execution_count": null,
   "metadata": {},
   "outputs": [],
   "source": []
  },
  {
   "cell_type": "code",
   "execution_count": 24,
   "metadata": {},
   "outputs": [
    {
     "data": {
      "image/png": "[encoded data removed]",
      "text/plain": [
       "<Figure size 432x288 with 1 Axes>"
      ]
     },
     "metadata": {},
     "output_type": "display_data"
    }
   ],
   "source": [
    "# Creating a mask \n",
    "# encoding \"topological defects\"\n",
    "\n",
    "mask = np.ones((nx,ny))\n",
    "\n",
    "# mask[0:10,25:30] = 0.\n",
    "\n",
    "# mask[20:,25:30] = 0.\n",
    "# num_areas = 6\n",
    "# R = np.array([\n",
    "#     [15,20],\n",
    "#     [10,40]\n",
    "# ])/np.array([[float(nx), float(ny)]])\n",
    "# R[:,0] *= rx\n",
    "# R[:,1] *= ry\n",
    "# print R.shape\n",
    "\n",
    "# mask = mask.reshape(-1)\n",
    "# for i in range(n):\n",
    "#     dist_to_pins = np.amin( np.linalg.norm(R - X[i].reshape((1,2)), axis=1)) \n",
    "#     if dist_to_pins < 2:\n",
    "#         mask[i] = 0.\n",
    "\n",
    "plt.imshow(mask.reshape((nx,ny)))\n",
    "mask = mask.reshape(-1)\n"
   ]
  },
  {
   "cell_type": "code",
   "execution_count": 25,
   "metadata": {},
   "outputs": [
    {
     "data": {
      "image/png": "[encoded data removed]",
      "text/plain": [
       "<Figure size 432x288 with 1 Axes>"
      ]
     },
     "metadata": {},
     "output_type": "display_data"
    }
   ],
   "source": [
    "beta_mask = np.ones((nx,ny))*2.\n",
    "# beta_mask = beta_mask*np.linspace(1.0,4.,num=ny).reshape((1,ny))\n",
    "\n",
    "\n",
    "\n",
    "# mask[10:20,50:60]    = 0.\n",
    "# # mask[10:20,115:125]  = 0.\n",
    "\n",
    "\n",
    "# R = np.indices((nx,ny)).reshape((2,-1)).T/np.array([[float(nx), float(ny)]])\n",
    "# R[:,0] *= rx\n",
    "# R[:,1] *= ry\n",
    "\n",
    "# R = R[np.random.choice(n,size=5, replace=False)]\n",
    "\n",
    "# rnd = np.random.sample(5)\n",
    "\n",
    "# beta_mask = np.zeros(n)\n",
    "# for i in range(n):\n",
    "#     j = np.argmin( np.linalg.norm(R - X[i], axis=1))\n",
    "#     beta_mask[i] = 2.5 + (rnd[j] - 0.5)*1.\n",
    "\n",
    "    \n",
    "plt.imshow(beta_mask.reshape((nx,ny)))\n",
    "plt.show()\n",
    "beta_mask = beta_mask.reshape(-1)\n"
   ]
  },
  {
   "cell_type": "code",
   "execution_count": null,
   "metadata": {},
   "outputs": [],
   "source": []
  },
  {
   "cell_type": "code",
   "execution_count": 30,
   "metadata": {
    "scrolled": false
   },
   "outputs": [
    {
     "data": {
      "image/png": "[encoded data removed]",
      "text/plain": [
       "<Figure size 720x360 with 2 Axes>"
      ]
     },
     "metadata": {},
     "output_type": "display_data"
    },
    {
     "data": {
      "image/png": "[encoded data removed]",
      "text/plain": [
       "<Figure size 720x360 with 1 Axes>"
      ]
     },
     "metadata": {},
     "output_type": "display_data"
    }
   ],
   "source": [
    "from htmresearch.support.gridcells.utils import cross_correlate\n",
    "from scipy import ndimage\n",
    "import numpy.fft as fft\n",
    "from scipy.special import expit\n",
    "\n",
    "\n",
    "\n",
    "\n",
    "T = 2500\n",
    "# X = np.linspace(0.2,0.4,num=T)\n",
    "\n",
    "S = np.zeros((T,n))\n",
    "\n",
    "\n",
    "\n",
    "\n",
    "S[0] = np.zeros(n)\n",
    "# S[0] = np.random.sample(n)*0.001\n",
    "\n",
    "\n",
    "Beta = np.ones((T,n))*0.0\n",
    "\n",
    "\n",
    "\n",
    "\n",
    "for t in range(1,T):\n",
    "    \n",
    "    s = S[t-1]\n",
    "    b = np.zeros(n)\n",
    "    \n",
    "    tonic = 0.1\n",
    "    beta  = Beta[t-1]\n",
    "    \n",
    "    s_ = evolve_step(W, b  + tonic, s, beta_mask*0., mask=mask) \n",
    "#     s_ = evolve_step(W, b  + tonic, s) \n",
    "    S[t]    = s_\n",
    "\n",
    "    alpha = 0.01\n",
    "    Beta[t] = (1. - alpha)*Beta[t-1] - alpha*(s_ - np.mean(s_))\n",
    "\n",
    "\n",
    "fig, ax = plt.subplots(1, 2, figsize=(10, 5));\n",
    "ax[0].imshow(S[0].reshape((nx,ny)), label=\"$s_0$\")\n",
    "ax[1].imshow(S[-1].reshape((nx,ny)), label=\"$s_1$\")\n",
    "plt.show()\n",
    "\n",
    "\n",
    "plt.figure(figsize=(10,5))\n",
    "plt.imshow(S.T)\n",
    "plt.show()\n",
    "\n",
    "\n",
    "\n"
   ]
  },
  {
   "cell_type": "code",
   "execution_count": null,
   "metadata": {},
   "outputs": [],
   "source": []
  },
  {
   "cell_type": "code",
   "execution_count": null,
   "metadata": {},
   "outputs": [],
   "source": []
  },
  {
   "cell_type": "code",
   "execution_count": 26,
   "metadata": {
    "scrolled": false
   },
   "outputs": [],
   "source": [
    "\n",
    "    \n",
    "S_, V, C = get_data_flow_and_color_maps(S[:], nx,ny, t_step=10)\n",
    "\n"
   ]
  },
  {
   "cell_type": "code",
   "execution_count": 27,
   "metadata": {},
   "outputs": [
    {
     "name": "stdout",
     "output_type": "stream",
     "text": [
      "done\n"
     ]
    },
    {
     "data": {
      "image/png": "[encoded data removed]",
      "text/plain": [
       "<Figure size 432x288 with 2 Axes>"
      ]
     },
     "metadata": {},
     "output_type": "display_data"
    }
   ],
   "source": [
    "import matplotlib.animation as animation\n",
    "\n",
    "\n",
    "def update(num, data, a):\n",
    "    S_, C = data\n",
    "    a[0].set_data(S_[num].reshape((nx, ny)))\n",
    "    a[1].set_data(C[num].reshape((nx, ny, 3)))\n",
    "\n",
    "    return a[0],a[1]\n",
    "\n",
    "\n",
    "\n",
    "\n",
    "fig, ax   = plt.subplots(1,2)\n",
    "\n",
    "a0  = ax[0].imshow(S_[0].reshape((nx,ny)), animated=True, vmin=np.amin(S_), vmax=np.amax(S_))\n",
    "a1  = ax[1].imshow(C[0].reshape((nx,ny,3)), animated=True)\n",
    "\n",
    "ani = animation.FuncAnimation(fig, update, len(S_), fargs=((S_,C), (a0,a1)),\n",
    "                                   interval=10, blit=True)\n",
    "\n",
    "ani.save('moving_bumps_sq_3.mp4')\n",
    "print \"done\"\n",
    "# plt.show()"
   ]
  },
  {
   "cell_type": "code",
   "execution_count": null,
   "metadata": {},
   "outputs": [],
   "source": []
  },
  {
   "cell_type": "code",
   "execution_count": null,
   "metadata": {},
   "outputs": [],
   "source": []
  },
  {
   "cell_type": "code",
   "execution_count": 393,
   "metadata": {
    "scrolled": true
   },
   "outputs": [],
   "source": [
    "S_, V, C = get_data_flow_and_color_maps(S[-3000:], nx,ny, t_step=10)\n"
   ]
  },
  {
   "cell_type": "code",
   "execution_count": 396,
   "metadata": {},
   "outputs": [
    {
     "name": "stdout",
     "output_type": "stream",
     "text": [
      "(100, 1600, 3)\n"
     ]
    },
    {
     "data": {
      "text/plain": [
       "<matplotlib.image.AxesImage at 0x12272bdd0>"
      ]
     },
     "execution_count": 396,
     "metadata": {},
     "output_type": "execute_result"
    },
    {
     "data": {
      "image/png": "[encoded data removed]",
      "text/plain": [
       "<Figure size 432x288 with 1 Axes>"
      ]
     },
     "metadata": {},
     "output_type": "display_data"
    }
   ],
   "source": [
    "print C.shape\n",
    "\n",
    "plt.imshow(C[0].reshape((nx,ny, 3)))\n"
   ]
  },
  {
   "cell_type": "code",
   "execution_count": 435,
   "metadata": {},
   "outputs": [
    {
     "name": "stdout",
     "output_type": "stream",
     "text": [
      "(1100, 40, 40)\n",
      "[ 0.  0.  0. ...,  0.  0.  0.]\n"
     ]
    },
    {
     "data": {
      "image/png": "[encoded data removed]",
      "text/plain": [
       "<Figure size 432x288 with 2 Axes>"
      ]
     },
     "metadata": {},
     "output_type": "display_data"
    },
    {
     "data": {
      "text/plain": [
       "<matplotlib.image.AxesImage at 0x12cfd87d0>"
      ]
     },
     "execution_count": 435,
     "metadata": {},
     "output_type": "execute_result"
    },
    {
     "data": {
      "image/png": "[encoded data removed]",
      "text/plain": [
       "<Figure size 432x288 with 1 Axes>"
      ]
     },
     "metadata": {},
     "output_type": "display_data"
    }
   ],
   "source": [
    "S_ = S[np.arange(0, T, step=5)]\n",
    "S_ = S_.reshape((-1,nx,ny))  \n",
    "print S_.shape\n",
    "\n",
    "V = np.zeros((T,n,2))\n",
    "V_ = np.zeros((T,n,2))\n",
    "# S_ = (S_ > 0.02).astype(float)\n",
    "\n",
    "S__ = S_[10:] - S_[:-10]\n",
    "for t in range(600,750):\n",
    "\n",
    "    vx, vy = optical_flow(S__[t], S__[t + 10], window_size=3)\n",
    "    vx = vx.reshape(-1)\n",
    "    vy = vy.reshape(-1)\n",
    "\n",
    "\n",
    "    V[t,:,0] = vx\n",
    "    V[t,:,1] = vy\n",
    "\n",
    "for i in range(nx):\n",
    "    for j in range(ny):\n",
    "        V_[i,j] = np.\n",
    "\n",
    "\n",
    "\n",
    "t = 600\n",
    "\n",
    "\n",
    "mu = V[t]\n",
    "c = flow_to_color(mu[:,0],mu[:,1])\n",
    "\n",
    "\n",
    "\n",
    "fig, ax   = plt.subplots(1,2)\n",
    "\n",
    "# ax[0].imshow(S_[t+10].reshape((nx,ny)) - S_[t].reshape((nx,ny)))\n",
    "ax[0].imshow(S__[t].reshape((nx,ny)) + S__[t+10].reshape((nx,ny)) )\n",
    "ax[1].imshow(c.reshape((nx,ny,3)))\n",
    "plt.show()\n",
    "\n",
    "\n",
    "\n",
    "\n",
    "theta = np.linspace(0,2*np.pi, num=360)\n",
    "img =np.zeros((20,360,3))\n",
    "    \n",
    "for i in range(20):\n",
    "    for j in range(360):\n",
    "        col = cw(theta[j])\n",
    "        img[i,j] = col\n",
    "\n",
    "    \n",
    "plt.imshow(img)\n"
   ]
  },
  {
   "cell_type": "code",
   "execution_count": null,
   "metadata": {},
   "outputs": [],
   "source": []
  },
  {
   "cell_type": "code",
   "execution_count": null,
   "metadata": {
    "collapsed": true
   },
   "outputs": [],
   "source": []
  },
  {
   "cell_type": "code",
   "execution_count": null,
   "metadata": {
    "collapsed": true
   },
   "outputs": [],
   "source": []
  },
  {
   "cell_type": "code",
   "execution_count": null,
   "metadata": {
    "collapsed": true
   },
   "outputs": [],
   "source": []
  },
  {
   "cell_type": "code",
   "execution_count": null,
   "metadata": {},
   "outputs": [],
   "source": []
  },
  {
   "cell_type": "code",
   "execution_count": null,
   "metadata": {
    "collapsed": true
   },
   "outputs": [],
   "source": []
  }
 ],
 "metadata": {
  "kernel_info": {
   "name": "python2"
  },
  "kernelspec": {
   "display_name": "Python 2",
   "language": "python",
   "name": "python2"
  },
  "language_info": {
   "codemirror_mode": {
    "name": "ipython",
    "version": 2
   },
   "file_extension": ".py",
   "mimetype": "text/x-python",
   "name": "python",
   "nbconvert_exporter": "python",
   "pygments_lexer": "ipython2",
   "version": "2.7.10"
  }
 },
 "nbformat": 4,
 "nbformat_minor": 4
}
