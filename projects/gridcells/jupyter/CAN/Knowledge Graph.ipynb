{
 "cells": [
  {
   "cell_type": "code",
   "execution_count": 2,
   "metadata": {},
   "outputs": [
    {
     "name": "stdout",
     "output_type": "stream",
     "text": [
      "The autoreload extension is already loaded. To reload it, use:\n",
      "  %reload_ext autoreload\n"
     ]
    }
   ],
   "source": [
    "import math\n",
    "import json\n",
    "import matplotlib.pyplot as plt\n",
    "import matplotlib.animation as animation\n",
    "%matplotlib inline\n",
    "import numpy as np\n",
    "import sys\n",
    "sys.path.append(\"/Users/mklukas/nta/htmresearch/\")\n",
    "\n",
    "from htmresearch.support.cans.reanchoring import *\n",
    "from htmresearch.support.cans.basic_dynamics import *\n",
    "%load_ext autoreload\n",
    "%autoreload 2\n",
    "\n",
    "\n"
   ]
  },
  {
   "cell_type": "code",
   "execution_count": 46,
   "metadata": {},
   "outputs": [
    {
     "data": {
      "text/plain": [
       "[<matplotlib.lines.Line2D at 0x1270548d0>]"
      ]
     },
     "execution_count": 46,
     "metadata": {},
     "output_type": "execute_result"
    },
    {
     "data": {
      "image/png": "[encoded data removed]",
      "text/plain": [
       "<Figure size 432x288 with 1 Axes>"
      ]
     },
     "metadata": {},
     "output_type": "display_data"
    }
   ],
   "source": [
    "x = np.linspace(-10,10,num=1000)\n",
    "\n",
    "\n",
    "def can_beanie(x, a=0.1, b=0.1, sigma=1.):\n",
    "\n",
    "    lambda_net = 4.0\n",
    "    beta       = 3.0 / lambda_net**2\n",
    "    gamma      = 1.05 * beta\n",
    "    \n",
    "    x_length_squared = x**2\n",
    "    \n",
    "    return a*np.exp(-sigma*x_length_squared) - b\n",
    "\n",
    "f = can_beanie(x)\n",
    "g = W_zero(x)\n",
    "plt.plot(f)\n",
    "plt.plot(g)"
   ]
  },
  {
   "cell_type": "code",
   "execution_count": 81,
   "metadata": {},
   "outputs": [
    {
     "data": {
      "text/plain": [
       "<matplotlib.image.AxesImage at 0x129a6f0d0>"
      ]
     },
     "execution_count": 81,
     "metadata": {},
     "output_type": "execute_result"
    },
    {
     "data": {
      "image/png": "[encoded data removed]",
      "text/plain": [
       "<Figure size 432x288 with 1 Axes>"
      ]
     },
     "metadata": {},
     "output_type": "display_data"
    }
   ],
   "source": [
    "n=20\n",
    "d=2.\n",
    "X = np.mgrid[0:d:d/n, 0:d:d/n].reshape(2,-1).T\n",
    "\n",
    "\n",
    "\n",
    "V = {\n",
    "    \"N\"  : np.array([ 0.,  1.]),\n",
    "    \"W\"  : np.array([-1.,  0.]),\n",
    "    \"S\"  : np.array([ 0., -1.]),\n",
    "    \"E\"  : np.array([ 1.,  0.])\n",
    "}\n",
    "W = {}\n",
    "\n",
    "\n",
    "for key, val in V.iteritems():\n",
    "    D = X.reshape((1,-1,2)) - (X.reshape((-1,1,2)) - val*.3)\n",
    "    D = np.absolute(D)\n",
    "    D = np.minimum(d - D, D)\n",
    "    D = np.linalg.norm(D, axis=2)\n",
    "    \n",
    "#     W[key] = can_beanie(D, b=0.03, sigma=5.)\n",
    "    W[key] = can_beanie(D)\n",
    "    \n",
    "D = X.reshape((1,-1,2)) - (X.reshape((-1,1,2)) )\n",
    "D = np.absolute(D)\n",
    "D = np.minimum(d - D, D)\n",
    "D = np.linalg.norm(D, axis=2)\n",
    "W[\"inh\"] = can_beanie(D)\n",
    "# np.fill_diagonal(W[\"inh\"], 0.)\n",
    "\n",
    "i=10\n",
    "plt.imshow((W[\"N\"][i] + W[\"W\"][i] + W[\"S\"][i] + W[\"E\"][i]).reshape((n,n)) )"
   ]
  },
  {
   "cell_type": "code",
   "execution_count": 85,
   "metadata": {},
   "outputs": [],
   "source": [
    "\n",
    "def evolve_step(W, b, s, dt=0.05, tau=3., f=relu):\n",
    "    Ws = np.dot(W,s)\n",
    "    ds  = ( f(  b ) - s/tau )*dt\n",
    "    s_ = s + ds\n",
    "            \n",
    "    return s_\n",
    "\n",
    "def path_integrate(Ws, s, v, theta):\n",
    "    b = np.zeros(s.shape)\n",
    "    R = np.array([[np.cos(-theta) , - np.sin(-theta)],\n",
    "                  [np.sin(-theta) ,   np.cos(-theta)]])\n",
    "    \n",
    "    v_can = np.dot(R, v)\n",
    "    \n",
    "    for key, pd in V.iteritems():\n",
    "\n",
    "        b += np.dot(W[key], s)*(1. + np.maximum(np.dot(v_can, pd), 0.))\n",
    "        \n",
    "    return b\n",
    "    "
   ]
  },
  {
   "cell_type": "code",
   "execution_count": 90,
   "metadata": {
    "scrolled": false
   },
   "outputs": [
    {
     "data": {
      "image/png": "[encoded data removed]",
      "text/plain": [
       "<Figure size 432x288 with 1 Axes>"
      ]
     },
     "metadata": {},
     "output_type": "display_data"
    }
   ],
   "source": [
    "\n",
    "\n",
    "# plt.imshow(W[290].reshape((n,n)))\n",
    "# plt.show()\n",
    "# plt.plot(W[290])\n",
    "# plt.show()\n",
    "T = 1000\n",
    "B= np.ones(T)*.1\n",
    "\n",
    "\n",
    "S = np.zeros((T,n**2))\n",
    "S[0] = np.random.sample(n**2)*0.1\n",
    "\n",
    "\n",
    "v = np.array([4.,4.])\n",
    "fig = plt.figure()\n",
    "ims = []\n",
    "for t in range(1, T):\n",
    "    tonic = 0.05\n",
    "    \n",
    "    if t > 500:\n",
    "        v = np.array([4.,4.])\n",
    "        tonic = 0.5\n",
    "    else:\n",
    "        v = np.array([0.,0.])\n",
    "    \n",
    "    vel = path_integrate(W, S[t-1], v, np.pi)\n",
    "    b = tonic + vel \n",
    "    S[t] = evolve_step(W[\"inh\"],b,S[t-1])\n",
    "    if t > 450:\n",
    "        im = plt.imshow(S[t].reshape((n,n)), animated=True)\n",
    "        ims.append([im])\n",
    "    \n",
    "ani = animation.ArtistAnimation(fig, ims, interval=50, blit=True,\n",
    "                                repeat_delay=20)\n",
    "\n",
    "ani.save('dynamic_images.mp4')\n",
    "\n",
    "\n",
    "# plt.imshow(W[0].reshape((n,n)))\n",
    "# plt.show()\n",
    "\n",
    "# plt.imshow(S[-1].reshape((n,n)))\n",
    "# plt.show()\n",
    "# plt.plot(S[-1])\n",
    "\n",
    "\n",
    "# plt.imshow(S[400].reshape((n,n)))\n"
   ]
  },
  {
   "cell_type": "code",
   "execution_count": 91,
   "metadata": {
    "scrolled": false
   },
   "outputs": [
    {
     "name": "stdout",
     "output_type": "stream",
     "text": [
      "2.991420107030693e-11\n",
      "0.2909748909429232\n"
     ]
    },
    {
     "data": {
      "image/png": "[encoded data removed]",
      "text/plain": [
       "<Figure size 432x288 with 1 Axes>"
      ]
     },
     "metadata": {},
     "output_type": "display_data"
    }
   ],
   "source": [
    "print np.amin(S)\n",
    "print np.amax(S[-100])\n",
    "\n",
    "plt.imshow(S[-100].reshape((n,n)), cmap=\"bwr\")\n",
    "plt.show()"
   ]
  },
  {
   "cell_type": "code",
   "execution_count": null,
   "metadata": {},
   "outputs": [],
   "source": []
  },
  {
   "cell_type": "code",
   "execution_count": null,
   "metadata": {},
   "outputs": [],
   "source": []
  }
 ],
 "metadata": {
  "kernelspec": {
   "display_name": "Python 2",
   "language": "python",
   "name": "python2"
  },
  "language_info": {
   "codemirror_mode": {
    "name": "ipython",
    "version": 2
   },
   "file_extension": ".py",
   "mimetype": "text/x-python",
   "name": "python",
   "nbconvert_exporter": "python",
   "pygments_lexer": "ipython2",
   "version": "2.7.10"
  }
 },
 "nbformat": 4,
 "nbformat_minor": 2
}
