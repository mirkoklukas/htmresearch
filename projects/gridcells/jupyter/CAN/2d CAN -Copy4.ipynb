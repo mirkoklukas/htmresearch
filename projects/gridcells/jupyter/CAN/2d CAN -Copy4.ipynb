{
 "cells": [
  {
   "cell_type": "code",
   "execution_count": 1,
   "metadata": {
    "inputHidden": false,
    "outputHidden": false
   },
   "outputs": [],
   "source": [
    "import math\n",
    "import json\n",
    "import matplotlib.pyplot as plt\n",
    "%matplotlib inline\n",
    "import numpy as np\n",
    "from htmresearch.support.cans.utils import *\n",
    "from htmresearch.support.cans.basic_dynamics import *\n",
    "%load_ext autoreload\n",
    "%autoreload 2\n"
   ]
  },
  {
   "cell_type": "code",
   "execution_count": null,
   "metadata": {},
   "outputs": [],
   "source": [
    "\n"
   ]
  },
  {
   "cell_type": "code",
   "execution_count": 2,
   "metadata": {},
   "outputs": [
    {
     "ename": "NameError",
     "evalue": "name 'create_W' is not defined",
     "output_type": "error",
     "traceback": [
      "\u001b[0;31m---------------------------------------------------------------------------\u001b[0m",
      "\u001b[0;31mNameError\u001b[0m                                 Traceback (most recent call last)",
      "\u001b[0;32m<ipython-input-2-876a1e964cf4>\u001b[0m in \u001b[0;36m<module>\u001b[0;34m()\u001b[0m\n\u001b[1;32m     32\u001b[0m \u001b[0;31m# Create a weight matrix given J and D\u001b[0m\u001b[0;34m\u001b[0m\u001b[0;34m\u001b[0m\u001b[0m\n\u001b[1;32m     33\u001b[0m \u001b[0;31m# basiclally J(D) with some normalization...\u001b[0m\u001b[0;34m\u001b[0m\u001b[0;34m\u001b[0m\u001b[0m\n\u001b[0;32m---> 34\u001b[0;31m \u001b[0mW\u001b[0m \u001b[0;34m=\u001b[0m \u001b[0mcreate_W\u001b[0m\u001b[0;34m(\u001b[0m\u001b[0mJ\u001b[0m\u001b[0;34m,\u001b[0m \u001b[0mD\u001b[0m\u001b[0;34m)\u001b[0m\u001b[0;34m\u001b[0m\u001b[0m\n\u001b[0m\u001b[1;32m     35\u001b[0m \u001b[0;34m\u001b[0m\u001b[0m\n\u001b[1;32m     36\u001b[0m \u001b[0;34m\u001b[0m\u001b[0m\n",
      "\u001b[0;31mNameError\u001b[0m: name 'create_W' is not defined"
     ]
    }
   ],
   "source": [
    "\n",
    "# Set up the shape \n",
    "# of the cortical sheet\n",
    "# xy_ratio = 500\n",
    "\n",
    "nx = 5\n",
    "# ny = nx*int(xy_ratio)\n",
    "ny = 600\n",
    "n  = nx*ny\n",
    "\n",
    "\n",
    "\n",
    "rx  = 5\n",
    "ry  = 600\n",
    "\n",
    "\n",
    "# Positions of neurons on cortical sheet\n",
    "X = np.indices((nx,ny)).reshape((2,-1)).T/np.array([[float(nx), float(ny)]])\n",
    "X[:,0] *= rx\n",
    "X[:,1] *= ry\n",
    "\n",
    "# Distance matrix of neurons\n",
    "D = np.zeros((n, n))\n",
    "for i in range(n):\n",
    "    for j in range(n):\n",
    "            D[i,j] = np.linalg.norm( X[i] - X[j])\n",
    "\n",
    "# Function encoding the connection strength \n",
    "# based on distance\n",
    "J = mexican_hat\n",
    "\n",
    "# Create a weight matrix given J and D\n",
    "# basiclally J(D) with some normalization...\n",
    "W = create_W(J, D)\n",
    "\n",
    "\n",
    "# Visualize\n",
    "fig, ax = plt.subplots(1,2)\n",
    "ax[0].imshow(W)\n",
    "ax[0].set_title(\"$W$\")\n",
    "i = 200\n",
    "ax[1].imshow(W[i].reshape((nx,ny)))\n",
    "ax[1].set_title(\"$W_{i}$\")\n",
    "plt.show()\n",
    "\n",
    "# plt.plot(W[200])\n",
    "# plt.show()\n",
    "\n"
   ]
  },
  {
   "cell_type": "code",
   "execution_count": null,
   "metadata": {},
   "outputs": [],
   "source": []
  },
  {
   "cell_type": "code",
   "execution_count": null,
   "metadata": {},
   "outputs": [],
   "source": [
    "# Creating a mask \n",
    "# encoding \"topological defects\"\n",
    "\n",
    "mask = np.ones((nx,ny))\n",
    "\n",
    "\n",
    "# # # num_areas = 6\n",
    "# R = np.array([\n",
    "\n",
    "#     [15,60],\n",
    "#     [15,120]\n",
    "# ])/np.array([[float(nx), float(ny)]])\n",
    "# R[:,0] *= rx\n",
    "# R[:,1] *= ry\n",
    "# print R.shape\n",
    "\n",
    "# mask = mask.reshape(-1)\n",
    "# for i in range(n):\n",
    "#     dist_to_pins = np.amin( np.linalg.norm(R - X[i].reshape((1,2)), axis=1)) \n",
    "#     if dist_to_pins < 3:\n",
    "#         mask[i] = 0.\n",
    "\n",
    "plt.imshow(mask.reshape((nx,ny)))\n",
    "mask = mask.reshape(-1)\n"
   ]
  },
  {
   "cell_type": "code",
   "execution_count": null,
   "metadata": {},
   "outputs": [],
   "source": [
    "beta_mask = np.ones((nx,ny))*2.\n",
    "# beta_mask = beta_mask*np.linspace(1.,3.,num=ny).reshape((1,ny))\n",
    "\n",
    "\n",
    "# beta_mask[:,:ny//2] = 2.\n",
    "# beta_mask[:,ny//2:] = 3.\n",
    "# mask[10:20,50:60]    = 0.\n",
    "# # mask[10:20,115:125]  = 0.\n",
    "\n",
    "\n",
    "# R = np.indices((nx,ny)).reshape((2,-1)).T/np.array([[float(nx), float(ny)]])\n",
    "# R[:,0] *= rx\n",
    "# R[:,1] *= ry\n",
    "\n",
    "# R = R[np.random.choice(n,size=5, replace=False)]\n",
    "\n",
    "# rnd = np.random.sample(5)\n",
    "\n",
    "# beta_mask = np.zeros(n)\n",
    "# for i in range(n):\n",
    "#     j = np.argmin( np.linalg.norm(R - X[i], axis=1))\n",
    "#     beta_mask[i] = 2.5 + (rnd[j] - 0.5)*1.\n",
    "\n",
    "    \n",
    "plt.imshow(beta_mask.reshape((nx,ny)))\n",
    "plt.show()\n",
    "beta_mask = beta_mask.reshape(-1)\n"
   ]
  },
  {
   "cell_type": "code",
   "execution_count": null,
   "metadata": {},
   "outputs": [],
   "source": []
  },
  {
   "cell_type": "code",
   "execution_count": null,
   "metadata": {
    "scrolled": false
   },
   "outputs": [],
   "source": [
    "from htmresearch.support.gridcells.utils import cross_correlate\n",
    "from scipy import ndimage\n",
    "import numpy.fft as fft\n",
    "from scipy.special import expit\n",
    "\n",
    "\n",
    "\n",
    "\n",
    "T = 15000\n",
    "# X = np.linspace(0.2,0.4,num=T)\n",
    "\n",
    "S = np.zeros((T,n))\n",
    "\n",
    "\n",
    "\n",
    "\n",
    "S[0] = np.zeros(n)\n",
    "# S[0] = np.random.sample(n)*0.001\n",
    "\n",
    "\n",
    "Beta = np.ones((T,n))*0.0\n",
    "\n",
    "\n",
    "\n",
    "\n",
    "for t in range(1,T):\n",
    "    \n",
    "    s = S[t-1]\n",
    "    b = np.zeros(n)\n",
    "    \n",
    "    tonic = 0.01\n",
    "    beta  = Beta[t-1]\n",
    "    \n",
    "    s_ = evolve_step(W, b  + tonic, s, beta_mask*beta, mask=mask) \n",
    "#     s_ = evolve_step(W, b  + tonic, s) \n",
    "    S[t]    = s_\n",
    "\n",
    "    alpha = 0.01\n",
    "    Beta[t] = (1. - alpha)*Beta[t-1] - alpha*(s_ - np.mean(s_))\n",
    "\n",
    "\n",
    "fig, ax = plt.subplots(1, 2, figsize=(10, 5));\n",
    "ax[0].imshow(S[0].reshape((nx,ny)), label=\"$s_0$\")\n",
    "ax[1].imshow(S[-1].reshape((nx,ny)), label=\"$s_1$\")\n",
    "plt.show()\n",
    "\n",
    "\n",
    "plt.figure(figsize=(10,5))\n",
    "plt.imshow(S.T)\n",
    "plt.show()\n",
    "\n",
    "\n",
    "\n"
   ]
  },
  {
   "cell_type": "code",
   "execution_count": null,
   "metadata": {},
   "outputs": [],
   "source": []
  },
  {
   "cell_type": "code",
   "execution_count": null,
   "metadata": {},
   "outputs": [],
   "source": [
    "\n",
    "pixel_mask = np.ones((nx,ny))\n",
    "\n",
    "# for i in range(0,nx, 3):\n",
    "#     for j in range(0,ny, 3):\n",
    "#         pixel_mask[i,j] = 1.\n",
    "        \n",
    "        \n",
    "plt.imshow(pixel_mask)\n",
    "\n"
   ]
  },
  {
   "cell_type": "code",
   "execution_count": 13,
   "metadata": {
    "scrolled": false
   },
   "outputs": [],
   "source": [
    "\n",
    "    \n",
    "S_, V, C = get_data_flow_and_color_maps(S[-6000:], nx,ny, pixel_mask=pixel_mask, t_step=10)\n",
    "\n",
    "\n"
   ]
  },
  {
   "cell_type": "code",
   "execution_count": null,
   "metadata": {},
   "outputs": [],
   "source": [
    "\n"
   ]
  },
  {
   "cell_type": "code",
   "execution_count": null,
   "metadata": {},
   "outputs": [],
   "source": []
  },
  {
   "cell_type": "code",
   "execution_count": 15,
   "metadata": {},
   "outputs": [
    {
     "ename": "IndexError",
     "evalue": "too many indices for array",
     "output_type": "error",
     "traceback": [
      "\u001b[0;31m---------------------------------------------------------------------------\u001b[0m",
      "\u001b[0;31mIndexError\u001b[0m                                Traceback (most recent call last)",
      "\u001b[0;32m<ipython-input-15-1fa5c2dca49d>\u001b[0m in \u001b[0;36m<module>\u001b[0;34m()\u001b[0m\n\u001b[1;32m      2\u001b[0m \u001b[0;34m\u001b[0m\u001b[0m\n\u001b[1;32m      3\u001b[0m \u001b[0;32mfor\u001b[0m \u001b[0mi\u001b[0m \u001b[0;32min\u001b[0m \u001b[0mrange\u001b[0m\u001b[0;34m(\u001b[0m\u001b[0mnx\u001b[0m\u001b[0;34m)\u001b[0m\u001b[0;34m:\u001b[0m\u001b[0;34m\u001b[0m\u001b[0m\n\u001b[0;32m----> 4\u001b[0;31m     \u001b[0mS_ext\u001b[0m\u001b[0;34m[\u001b[0m\u001b[0;34m:\u001b[0m\u001b[0;34m,\u001b[0m\u001b[0mi\u001b[0m\u001b[0;34m*\u001b[0m\u001b[0;36m10\u001b[0m\u001b[0;34m:\u001b[0m\u001b[0mi\u001b[0m\u001b[0;34m*\u001b[0m\u001b[0;36m10\u001b[0m\u001b[0;34m+\u001b[0m\u001b[0;36m10\u001b[0m\u001b[0;34m,\u001b[0m\u001b[0;34m:\u001b[0m\u001b[0;34m]\u001b[0m \u001b[0;34m=\u001b[0m \u001b[0mS_\u001b[0m\u001b[0;34m[\u001b[0m\u001b[0;34m:\u001b[0m\u001b[0;34m,\u001b[0m\u001b[0mi\u001b[0m\u001b[0;34m,\u001b[0m\u001b[0;34m:\u001b[0m\u001b[0;34m]\u001b[0m\u001b[0;34m\u001b[0m\u001b[0m\n\u001b[0m",
      "\u001b[0;31mIndexError\u001b[0m: too many indices for array"
     ]
    }
   ],
   "source": []
  },
  {
   "cell_type": "code",
   "execution_count": 14,
   "metadata": {},
   "outputs": [
    {
     "name": "stdout",
     "output_type": "stream",
     "text": [
      "done\n"
     ]
    },
    {
     "data": {
      "image/png": "[encoded data removed]",
      "text/plain": [
       "<Figure size 432x288 with 2 Axes>"
      ]
     },
     "metadata": {},
     "output_type": "display_data"
    }
   ],
   "source": [
    "import matplotlib.animation as animation\n",
    "V_=V\n",
    "\n",
    "def update(num, data, a):\n",
    "    S_, C, V_ = data\n",
    "    a[0].set_data(S_[num].reshape((nx, ny)))\n",
    "    a[1].set_data(C[num].reshape((nx, ny, 3)))\n",
    "    \n",
    "\n",
    "    return a[0],a[1]\n",
    "\n",
    "\n",
    "\n",
    "\n",
    "fig, ax   = plt.subplots(2,1)\n",
    "\n",
    "a0  = ax[0].imshow(S_[0].reshape((nx,ny)), animated=True, vmin=np.amin(S_), vmax=np.amax(S_))\n",
    "a1  = ax[1].imshow(C[0].reshape((nx,ny,3)), animated=True)\n",
    "\n",
    "\n",
    "ani = animation.FuncAnimation(fig, update, len(S_), fargs=((S_,C, V_), (a0,a1)),\n",
    "                                   interval=10, blit=True)\n",
    "\n",
    "ani.save('moving_bumps_.mp4')\n",
    "print \"done\"\n",
    "# plt.show()"
   ]
  },
  {
   "cell_type": "code",
   "execution_count": null,
   "metadata": {},
   "outputs": [],
   "source": []
  },
  {
   "cell_type": "code",
   "execution_count": 30,
   "metadata": {},
   "outputs": [
    {
     "data": {
      "image/png": "[encoded data removed]",
      "text/plain": [
       "<Figure size 432x288 with 1 Axes>"
      ]
     },
     "metadata": {},
     "output_type": "display_data"
    },
    {
     "data": {
      "text/plain": [
       "[<matplotlib.lines.Line2D at 0x108c6b1d0>]"
      ]
     },
     "execution_count": 30,
     "metadata": {},
     "output_type": "execute_result"
    },
    {
     "data": {
      "image/png": "[encoded data removed]",
      "text/plain": [
       "<Figure size 432x288 with 1 Axes>"
      ]
     },
     "metadata": {},
     "output_type": "display_data"
    }
   ],
   "source": [
    "\n",
    "S= S.reshape((-1,nx,ny))\n",
    "\n",
    " \n",
    "plt.plot(S[:,15,15])\n",
    "plt.show()\n",
    "\n",
    "plt.plot(S[:,15,45])"
   ]
  },
  {
   "cell_type": "code",
   "execution_count": 32,
   "metadata": {
    "scrolled": false
   },
   "outputs": [
    {
     "name": "stdout",
     "output_type": "stream",
     "text": [
      "(30, 60)\n"
     ]
    },
    {
     "data": {
      "image/png": "[encoded data removed]",
      "text/plain": [
       "<Figure size 432x288 with 1 Axes>"
      ]
     },
     "metadata": {},
     "output_type": "display_data"
    },
    {
     "data": {
      "text/plain": [
       "<matplotlib.image.AxesImage at 0x108bc2290>"
      ]
     },
     "execution_count": 32,
     "metadata": {},
     "output_type": "execute_result"
    },
    {
     "data": {
      "image/png": "[encoded data removed]",
      "text/plain": [
       "<Figure size 432x288 with 2 Axes>"
      ]
     },
     "metadata": {},
     "output_type": "display_data"
    }
   ],
   "source": [
    "from htmresearch.support.gridcells.utils import cross_correlate\n",
    "\n",
    "\n",
    "t = -1\n",
    "\n",
    "img = S_[t].reshape((nx,ny))\n",
    "print img.shape\n",
    "plt.imshow(img)\n",
    "plt.show()\n",
    "\n",
    "w = 6\n",
    "i, j = [15,15]\n",
    "patch1 = img[i-w:i+w,j-w:j+w]\n",
    "\n",
    "i, j = [15,45]\n",
    "patch2 = img[i-w:i+w,j-w:j+w]\n",
    "\n",
    "auto1 = cross_correlate(patch1,patch1)\n",
    "auto2 = cross_correlate(patch2,patch2)\n",
    "\n",
    "\n",
    "fig, ax = plt.subplots(1,2)\n",
    "\n",
    "ax[0].imshow(auto1, cmap=\"jet\")\n",
    "ax[1].imshow(auto2, cmap=\"jet\")\n",
    "\n"
   ]
  },
  {
   "cell_type": "code",
   "execution_count": 35,
   "metadata": {},
   "outputs": [
    {
     "ename": "ImportError",
     "evalue": "No module named opencv",
     "output_type": "error",
     "traceback": [
      "\u001b[0;31m---------------------------------------------------------------------------\u001b[0m",
      "\u001b[0;31mImportError\u001b[0m                               Traceback (most recent call last)",
      "\u001b[0;32m<ipython-input-35-87b3ea2c1cad>\u001b[0m in \u001b[0;36m<module>\u001b[0;34m()\u001b[0m\n\u001b[1;32m      1\u001b[0m \u001b[0;32mimport\u001b[0m \u001b[0mnumpy\u001b[0m \u001b[0;32mas\u001b[0m \u001b[0mnp\u001b[0m\u001b[0;34m\u001b[0m\u001b[0m\n\u001b[0;32m----> 2\u001b[0;31m \u001b[0;32mimport\u001b[0m \u001b[0mopencv\u001b[0m \u001b[0;32mas\u001b[0m \u001b[0mcv\u001b[0m\u001b[0;34m\u001b[0m\u001b[0m\n\u001b[0m\u001b[1;32m      3\u001b[0m \u001b[0;32mimport\u001b[0m \u001b[0msys\u001b[0m\u001b[0;34m\u001b[0m\u001b[0m\n\u001b[1;32m      4\u001b[0m \u001b[0;34m\u001b[0m\u001b[0m\n\u001b[1;32m      5\u001b[0m \u001b[0;32mif\u001b[0m \u001b[0mlen\u001b[0m\u001b[0;34m(\u001b[0m\u001b[0msys\u001b[0m\u001b[0;34m.\u001b[0m\u001b[0margv\u001b[0m\u001b[0;34m)\u001b[0m \u001b[0;34m!=\u001b[0m \u001b[0;36m2\u001b[0m\u001b[0;34m:\u001b[0m\u001b[0;34m\u001b[0m\u001b[0m\n",
      "\u001b[0;31mImportError\u001b[0m: No module named opencv"
     ]
    }
   ],
   "source": [
    "import numpy as np\n",
    "import opencv as cv\n",
    "import sys\n",
    "\n",
    "if len(sys.argv) != 2:\n",
    "    print('Input video name is missing')\n",
    "    exit()\n",
    "\n",
    "cv.namedWindow(\"tracking\")\n",
    "camera = cv.VideoCapture(sys.argv[1])\n",
    "ok, image=camera.read()\n",
    "if not ok:\n",
    "    print('Failed to read video')\n",
    "    exit()\n",
    "bbox = cv.selectROI(\"tracking\", image)\n",
    "tracker = cv.TrackerMIL_create()\n",
    "init_once = False\n",
    "\n",
    "while camera.isOpened():\n",
    "    ok, image=camera.read()\n",
    "    if not ok:\n",
    "        print 'no image to read'\n",
    "        break\n",
    "\n",
    "    if not init_once:\n",
    "        ok = tracker.init(image, bbox)\n",
    "        init_once = True\n",
    "\n",
    "    ok, newbox = tracker.update(image)\n",
    "    print ok, newbox\n",
    "\n",
    "    if ok:\n",
    "        p1 = (int(newbox[0]), int(newbox[1]))\n",
    "        p2 = (int(newbox[0] + newbox[2]), int(newbox[1] + newbox[3]))\n",
    "        cv.rectangle(image, p1, p2, (200,0,0))\n",
    "\n",
    "    cv.imshow(\"tracking\", image)\n",
    "    k = cv.waitKey(1) & 0xff\n",
    "    if k == 27 : break # esc pressed"
   ]
  },
  {
   "cell_type": "code",
   "execution_count": 8,
   "metadata": {},
   "outputs": [],
   "source": [
    "from htmresearch.support.cans.sort import *\n",
    "\n",
    "#create instance of SORT\n",
    "mot_tracker = Sort() \n"
   ]
  },
  {
   "cell_type": "code",
   "execution_count": null,
   "metadata": {},
   "outputs": [],
   "source": []
  },
  {
   "cell_type": "code",
   "execution_count": null,
   "metadata": {
    "collapsed": true
   },
   "outputs": [],
   "source": []
  },
  {
   "cell_type": "code",
   "execution_count": null,
   "metadata": {
    "collapsed": true
   },
   "outputs": [],
   "source": []
  },
  {
   "cell_type": "code",
   "execution_count": null,
   "metadata": {
    "collapsed": true
   },
   "outputs": [],
   "source": []
  },
  {
   "cell_type": "code",
   "execution_count": null,
   "metadata": {},
   "outputs": [],
   "source": []
  },
  {
   "cell_type": "code",
   "execution_count": null,
   "metadata": {
    "collapsed": true
   },
   "outputs": [],
   "source": []
  }
 ],
 "metadata": {
  "kernel_info": {
   "name": "python2"
  },
  "kernelspec": {
   "display_name": "Python 2",
   "language": "python",
   "name": "python2"
  },
  "language_info": {
   "codemirror_mode": {
    "name": "ipython",
    "version": 2
   },
   "file_extension": ".py",
   "mimetype": "text/x-python",
   "name": "python",
   "nbconvert_exporter": "python",
   "pygments_lexer": "ipython2",
   "version": "2.7.10"
  }
 },
 "nbformat": 4,
 "nbformat_minor": 4
}
