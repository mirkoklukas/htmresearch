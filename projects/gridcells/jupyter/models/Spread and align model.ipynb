{
 "cells": [
  {
   "cell_type": "code",
   "execution_count": 10,
   "metadata": {},
   "outputs": [
    {
     "name": "stdout",
     "output_type": "stream",
     "text": [
      "The autoreload extension is already loaded. To reload it, use:\n",
      "  %reload_ext autoreload\n"
     ]
    }
   ],
   "source": [
    "from htmresearch.support.gridcells.models.spread_and_align import SpreadAndAlignModel as SAM\n",
    "%load_ext autoreload\n",
    "%autoreload 2\n",
    "\n",
    "\n",
    "model_parameters = {\n",
    "    'num_place_cells'   : 400,\n",
    "    'num_grid_cells'    : 25,\n",
    "    'num_velocity_cells': 2,\n",
    "    'prediction_loss_weight': 1.0,\n",
    "    'sparseness_loss_weight': 3.0,\n",
    "    'spread_loss_weight'    : 5.0,\n",
    "    'code_weight'  : 2.0,\n",
    "    'spread_weight': 1.0,\n",
    "    'learning_rate': 0.1\n",
    "}\n",
    "\n",
    "model = SAM(model_parameters)"
   ]
  },
  {
   "cell_type": "code",
   "execution_count": null,
   "metadata": {
    "collapsed": true
   },
   "outputs": [],
   "source": []
  }
 ],
 "metadata": {
  "kernelspec": {
   "display_name": "Python 2",
   "language": "python",
   "name": "python2"
  },
  "language_info": {
   "codemirror_mode": {
    "name": "ipython",
    "version": 2
   },
   "file_extension": ".py",
   "mimetype": "text/x-python",
   "name": "python",
   "nbconvert_exporter": "python",
   "pygments_lexer": "ipython2",
   "version": "2.7.13"
  }
 },
 "nbformat": 4,
 "nbformat_minor": 2
}
