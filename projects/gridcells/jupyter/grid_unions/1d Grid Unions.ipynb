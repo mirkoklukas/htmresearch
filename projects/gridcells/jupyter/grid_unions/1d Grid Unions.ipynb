{
 "cells": [
  {
   "cell_type": "code",
   "execution_count": 578,
   "metadata": {
    "scrolled": false
   },
   "outputs": [
    {
     "name": "stdout",
     "output_type": "stream",
     "text": [
      "The autoreload extension is already loaded. To reload it, use:\n",
      "  %reload_ext autoreload\n",
      "\n"
     ]
    },
    {
     "data": {
      "image/png": "[encoded data removed]",
      "text/plain": [
       "<Figure size 1440x360 with 1 Axes>"
      ]
     },
     "metadata": {},
     "output_type": "display_data"
    },
    {
     "name": "stdout",
     "output_type": "stream",
     "text": [
      "\n"
     ]
    },
    {
     "data": {
      "image/png": "[encoded data removed]",
      "text/plain": [
       "<Figure size 1440x360 with 1 Axes>"
      ]
     },
     "metadata": {},
     "output_type": "display_data"
    }
   ],
   "source": [
    "import numpy as np\n",
    "import matplotlib.pyplot as plt\n",
    "%matplotlib inline\n",
    "\n",
    "from htmresearch.support.gridcells.gridunions.utils import *\n",
    "%load_ext autoreload\n",
    "%autoreload 2\n",
    "\n",
    "\n",
    "m    = 5\n",
    "nr   = 5**2\n",
    "nc_  = 20\n",
    "nc   = nc_**2\n",
    "diam = 2.4\n",
    "\n",
    "\n",
    "# S = np.sqrt(2)**np.arange(m)\n",
    "S = np.random.normal(3.,1.5,size=m)\n",
    "# S = np.ones(m)*2.\n",
    "M = create_2d_hyper_module(m, scale=S)\n",
    "\n",
    "A = create_action_tensor(M)\n",
    "PC  = create_atlas(nr, nc_, diam)\n",
    "\n",
    "Anchors = np.random.sample((nr,m,2))\n",
    "# Anchors = np.zeros((nr,m,2))\n",
    "\n",
    "Phi = create_phase_atlas(PC, Anchors, A) \n",
    "\n",
    "\n",
    "i_r = 2\n",
    "i_m = 0\n",
    "\n",
    "# plt.scatter(PC[i_r,:,0], PC[i_r,:,1])\n",
    "# plt.show()\n",
    "\n",
    "# plt.scatter(Phi[i_r,:,i_m,0], Phi[i_r,:,i_m, 1])\n",
    "# plt.show()\n",
    "\n",
    "\n",
    "def place_code(phi, pinned_phases):\n",
    "    nr, nc, m, _ = pinned_phases.shape\n",
    "    print \n",
    "    z = phase_dist(phi.reshape((1,m,2)), pinned_phases.reshape((-1,m,2)))\n",
    "    z = np.exp(-z**2/.4)\n",
    "    return z.reshape((nr,nc))\n",
    "\n",
    "\n",
    "def J(phi, z, pinnded_phases):\n",
    "    z_ = place_code(phi, pinnded_phases)\n",
    "    return np.sqrt( np.sum( (z - z_)**2 ) )\n",
    "\n",
    "\n",
    "\n",
    "\n",
    "def display(z):\n",
    "    nr, nc = z.shape\n",
    "    nc_ = np.sqrt(nc).astype(int)\n",
    "    nr_ = np.sqrt(nr).astype(int)\n",
    "\n",
    "    plt.figure(figsize=(20,5))\n",
    "#     for i in range(nr_):\n",
    "#         for j in range(nr_):\n",
    "            \n",
    "    imgs = z.reshape((nr_, nr_, nc_,nc_))\n",
    "    img = np.concatenate([ np.concatenate(row[:], axis=1) for row in imgs], axis=0)\n",
    "    plt.imshow(img)\n",
    "    for i in range(1,nr_):\n",
    "        plt.axvline(i*nc_, linestyle='--', linewidth=1., color=\"gray\")\n",
    "        plt.axhline(i*nc_, linestyle='--', linewidth=1., color=\"gray\")\n",
    "    plt.axis('off')\n",
    "    plt.xticks([])\n",
    "    plt.yticks([])\n",
    "    plt.show()\n",
    "\n",
    "\n",
    "    \n",
    "    \n",
    "\n",
    "z = place_code(Phi[1,212], Phi)\n",
    "display(z > 0.5);\n",
    "# display(z);\n",
    "z = place_code(np.random.sample((m,2)), Phi)\n",
    "display(z > 0.2);\n",
    "# display(z);\n",
    "\n"
   ]
  },
  {
   "cell_type": "code",
   "execution_count": 593,
   "metadata": {},
   "outputs": [
    {
     "name": "stdout",
     "output_type": "stream",
     "text": [
      "\n"
     ]
    },
    {
     "data": {
      "image/png": "[encoded data removed]",
      "text/plain": [
       "<Figure size 1440x360 with 1 Axes>"
      ]
     },
     "metadata": {},
     "output_type": "display_data"
    }
   ],
   "source": [
    "\n",
    "z = place_code(np.random.sample((m,2)), Phi)\n",
    "display(z > 0.2);\n",
    "# display(z);\n"
   ]
  },
  {
   "cell_type": "code",
   "execution_count": null,
   "metadata": {},
   "outputs": [],
   "source": []
  }
 ],
 "metadata": {
  "kernelspec": {
   "display_name": "Python 2",
   "language": "python",
   "name": "python2"
  },
  "language_info": {
   "codemirror_mode": {
    "name": "ipython",
    "version": 2
   },
   "file_extension": ".py",
   "mimetype": "text/x-python",
   "name": "python",
   "nbconvert_exporter": "python",
   "pygments_lexer": "ipython2",
   "version": "2.7.10"
  }
 },
 "nbformat": 4,
 "nbformat_minor": 2
}
