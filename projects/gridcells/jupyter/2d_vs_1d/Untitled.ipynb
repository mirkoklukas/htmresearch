{
 "cells": [
  {
   "cell_type": "code",
   "execution_count": 87,
   "metadata": {},
   "outputs": [
    {
     "data": {
      "image/png": "[encoded data removed]",
      "text/plain": [
       "<Figure size 432x288 with 1 Axes>"
      ]
     },
     "metadata": {},
     "output_type": "display_data"
    }
   ],
   "source": [
    "import numpy as np\n",
    "import matplotlib.pyplot as plt\n",
    "%matplotlib inline\n",
    "from itertools import product\n",
    "\n",
    "\n",
    "M = 3\n",
    "W = 10\n",
    "\n",
    "\n",
    "def num_cells(M, W, d=1):\n",
    "    return M*(W**d)\n",
    "\n",
    "def num_codes(M, W, d=1):\n",
    "    return (W**d)**M\n",
    "\n",
    "\n",
    "\n",
    "w_range = range(900,1000)\n",
    "nw = len(w_range)\n",
    "m_range = range(1,11)\n",
    "nm = len(m_range)\n",
    "ps = list(product(m_range, w_range))\n",
    "\n",
    "\n",
    "f1 = np.zeros((len(ps), 4))\n",
    "f2 = np.zeros((len(ps), 4))\n",
    "for i,(m,w) in enumerate(ps):\n",
    "    w_ = np.sqrt(w)\n",
    "    f1[i] = (m,w, num_cells(m,w, d=1), num_codes(m,w, d=1))\n",
    "    f2[i] = (m,w_, num_cells(m,w_, d=2), num_codes(m, w_, d=2))\n",
    "\n",
    "\n",
    "plt.scatter(f1[:,3], f1[:,0], marker=\"x\", label=\"1d\")\n",
    "plt.scatter(f2[:,3], f2[:,0], marker=\".\", label=\"2d\")\n",
    "plt.legend()\n",
    "plt.show()\n",
    "\n",
    "# plt.plot(f1[:,2])\n",
    "# plt.plot(f1[:,3])\n",
    "# plt.plot(f2[:,0])"
   ]
  },
  {
   "cell_type": "code",
   "execution_count": null,
   "metadata": {},
   "outputs": [],
   "source": []
  },
  {
   "cell_type": "code",
   "execution_count": null,
   "metadata": {},
   "outputs": [],
   "source": []
  }
 ],
 "metadata": {
  "kernelspec": {
   "display_name": "Python 2",
   "language": "python",
   "name": "python2"
  },
  "language_info": {
   "codemirror_mode": {
    "name": "ipython",
    "version": 2
   },
   "file_extension": ".py",
   "mimetype": "text/x-python",
   "name": "python",
   "nbconvert_exporter": "python",
   "pygments_lexer": "ipython2",
   "version": "2.7.10"
  }
 },
 "nbformat": 4,
 "nbformat_minor": 2
}
