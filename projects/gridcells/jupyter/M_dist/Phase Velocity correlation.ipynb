{
 "cells": [
  {
   "cell_type": "markdown",
   "metadata": {},
   "source": [
    "# Decoupled Phase Velocity \n",
    "\n"
   ]
  },
  {
   "cell_type": "code",
   "execution_count": 14,
   "metadata": {},
   "outputs": [
    {
     "name": "stdout",
     "output_type": "stream",
     "text": [
      "The autoreload extension is already loaded. To reload it, use:\n",
      "  %reload_ext autoreload\n"
     ]
    }
   ],
   "source": [
    "import numpy as np\n",
    "import matplotlib.pyplot as plt\n",
    "%matplotlib inline\n",
    "from htmresearch.support.gridcells.mdist.utils import *\n",
    "%load_ext autoreload\n",
    "%autoreload 2\n",
    "from mpl_toolkits.mplot3d import Axes3D\n",
    "\n",
    "\n",
    "m = 8\n",
    "S = np.sqrt(2)**np.arange(m)\n",
    "k = 2\n",
    "B, Z, S = create_kd_hyper_module(m, k, scale=S)\n",
    "\n",
    "A = create_action_tensor(B)\n",
    "\n"
   ]
  },
  {
   "cell_type": "code",
   "execution_count": 18,
   "metadata": {},
   "outputs": [
    {
     "data": {
      "text/plain": [
       "<matplotlib.collections.PathCollection at 0x113f087d0>"
      ]
     },
     "execution_count": 18,
     "metadata": {},
     "output_type": "execute_result"
    },
    {
     "data": {
      "image/png": "[encoded data removed]",
      "text/plain": [
       "<Figure size 432x288 with 1 Axes>"
      ]
     },
     "metadata": {},
     "output_type": "display_data"
    }
   ],
   "source": [
    "\n",
    "\n",
    "T = 100000\n",
    "\n",
    "Vel = np.random.multivariate_normal(mean=np.zeros(k), cov=12.1*np.eye(k), size=T)\n",
    "\n",
    "# First encode then shift\n",
    "Vel_2d = pipe_through_tensor(A,Vel)\n",
    "\n",
    "plt.scatter(Vel_2d[:100,0,0], Vel_2d[:100,0,1])"
   ]
  },
  {
   "cell_type": "code",
   "execution_count": 25,
   "metadata": {},
   "outputs": [
    {
     "name": "stdout",
     "output_type": "stream",
     "text": [
      "(100000, 8, 2)\n",
      "118\n"
     ]
    }
   ],
   "source": [
    "from scipy.stats import binned_statistic_2d as binit2d\n",
    "print Vel_2d.shape\n",
    "\n",
    "bins0 = np.linspace(-10.,10., num=10)\n",
    "bins1 = np.linspace(-10.,10., num=10)\n",
    "stats, _, _, binid = binit2d(Vel_2d[:,0,0], Vel_2d[:,0,1], np.ones(T), bins=[bins0,bins1])\n",
    "\n",
    "\n",
    "print len(set(binid))\n",
    "\n",
    "\n",
    "\n"
   ]
  },
  {
   "cell_type": "code",
   "execution_count": 151,
   "metadata": {},
   "outputs": [],
   "source": []
  },
  {
   "cell_type": "code",
   "execution_count": null,
   "metadata": {},
   "outputs": [],
   "source": []
  },
  {
   "cell_type": "code",
   "execution_count": null,
   "metadata": {},
   "outputs": [],
   "source": []
  }
 ],
 "metadata": {
  "kernelspec": {
   "display_name": "Python 2",
   "language": "python",
   "name": "python2"
  },
  "language_info": {
   "codemirror_mode": {
    "name": "ipython",
    "version": 2
   },
   "file_extension": ".py",
   "mimetype": "text/x-python",
   "name": "python",
   "nbconvert_exporter": "python",
   "pygments_lexer": "ipython2",
   "version": "2.7.10"
  }
 },
 "nbformat": 4,
 "nbformat_minor": 2
}
