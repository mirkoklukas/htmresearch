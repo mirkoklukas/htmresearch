{
 "cells": [
  {
   "cell_type": "code",
   "execution_count": 69,
   "metadata": {},
   "outputs": [
    {
     "name": "stdout",
     "output_type": "stream",
     "text": [
      "The autoreload extension is already loaded. To reload it, use:\n",
      "  %reload_ext autoreload\n",
      "[ 0.  1.]\n",
      "\n",
      "**Context Layer:**\n",
      "------------------\n",
      "Number of cells:\t 900\n",
      "Layer Shape:\t\t (1, 900)\n",
      "Hyper-Module Shapes:\n",
      "[[30, 30]]\n",
      "Module bounds: [  0 900]\n",
      "Number of grid cells:\t 900\n",
      "Activity bound:\t\t 200\n",
      "------------------\n"
     ]
    }
   ],
   "source": [
    "import numpy as np\n",
    "import matplotlib.pyplot as plt\n",
    "from matplotlib import animation, rc\n",
    "from IPython.display import HTML\n",
    "from mpl_toolkits.mplot3d import Axes3D\n",
    "from htmresearch.support.gridcells.context_integration.context_layer import ContextLayer\n",
    "from htmresearch.support.gridcells.context_integration.utils import (create_module_shape, \n",
    "                                                                     create_action_tensor, \n",
    "                                                                     get_actions, \n",
    "                                                                     get_closed_3d_path,\n",
    "                                                                     load_digit_features)\n",
    "\n",
    "from scipy.stats import entropy\n",
    "\n",
    "%matplotlib inline\n",
    "%load_ext autoreload\n",
    "%autoreload 2\n",
    "\n",
    "\n",
    "m = 1    # Number of modules\n",
    "n = 30   # Approximate number of cells per module dimension\n",
    "d = 1    # Cells per minicolumn\n",
    "w = 1    # Code weight of the sensory SDR\n",
    "\n",
    "\n",
    "zero   = np.zeros(2*m)\n",
    "dx, dy = get_actions(m,2)\n",
    "\n",
    "print dy\n",
    "\n",
    "action_tensor = np.array([[ \n",
    "    [3.,0.],\n",
    "    [0.,1.]\n",
    "]]) \n",
    "\n",
    "X, V = get_closed_3d_path(num_samples=20, radius=5)\n",
    "\n",
    "CL  = ContextLayer(layer_height=d, module_shapes=[[n,n]], action_map=action_tensor, max_activity=200) \n",
    "\n",
    "F = load_digit_features(w=w, shape=CL.layer.shape)\n",
    "\n",
    "print CL\n",
    "\n",
    "CL.state[CL.perm[0]] = 1.\n",
    "\n",
    "# img = 0.2*CL.get_module(0)\n",
    "# a = 0*dx + 2*dy\n",
    "# print a\n",
    "# CL.explore(dy)\n",
    "# img += CL.get_module(0)\n",
    "\n",
    "# plt.figure(figsize=(5,5))\n",
    "# plt.title(\"Module view\")\n",
    "# plt.xticks([])\n",
    "# plt.yticks([])\n",
    "# plt.imshow(img, cmap=\"binary\")\n"
   ]
  },
  {
   "cell_type": "code",
   "execution_count": 70,
   "metadata": {},
   "outputs": [
    {
     "data": {
      "text/plain": [
       "<matplotlib.image.AxesImage at 0x112db7a90>"
      ]
     },
     "execution_count": 70,
     "metadata": {},
     "output_type": "execute_result"
    },
    {
     "data": {
      "image/png": "[encoded data removed]",
      "text/plain": [
       "<Figure size 360x360 with 1 Axes>"
      ]
     },
     "metadata": {},
     "output_type": "display_data"
    }
   ],
   "source": [
    "env = np.zeros((100,100))\n",
    "\n",
    "indices = np.indices(env.shape)\n",
    "positions = np.concatenate( [indices[0].reshape(1,-1), indices[1].reshape(1,-1)], axis=0 ).T\n",
    "\n",
    "\n",
    "activity = np.zeros((env.shape[0], env.shape[1], n*n))\n",
    "for x,y in positions:\n",
    "    a = x*dx + y*dy\n",
    "    M = CL.explore(a, mentally=True)\n",
    "    activity[x,y,:] = M[:]\n",
    "    \n",
    "    \n",
    "    \n",
    "plt.figure(figsize=(5,5))\n",
    "plt.title(\"Heatmap\")\n",
    "plt.imshow(activity[:,:,1], cmap=\"binary\")\n",
    "\n"
   ]
  },
  {
   "cell_type": "code",
   "execution_count": 52,
   "metadata": {},
   "outputs": [
    {
     "data": {
      "text/plain": [
       "<matplotlib.image.AxesImage at 0x111b9c450>"
      ]
     },
     "execution_count": 52,
     "metadata": {},
     "output_type": "execute_result"
    },
    {
     "data": {
      "image/png": "[encoded data removed]",
      "text/plain": [
       "<Figure size 360x360 with 1 Axes>"
      ]
     },
     "metadata": {},
     "output_type": "display_data"
    }
   ],
   "source": []
  },
  {
   "cell_type": "code",
   "execution_count": null,
   "metadata": {},
   "outputs": [],
   "source": []
  }
 ],
 "metadata": {
  "kernelspec": {
   "display_name": "Python 2",
   "language": "python",
   "name": "python2"
  },
  "language_info": {
   "codemirror_mode": {
    "name": "ipython",
    "version": 2
   },
   "file_extension": ".py",
   "mimetype": "text/x-python",
   "name": "python",
   "nbconvert_exporter": "python",
   "pygments_lexer": "ipython2",
   "version": "2.7.10"
  }
 },
 "nbformat": 4,
 "nbformat_minor": 2
}
